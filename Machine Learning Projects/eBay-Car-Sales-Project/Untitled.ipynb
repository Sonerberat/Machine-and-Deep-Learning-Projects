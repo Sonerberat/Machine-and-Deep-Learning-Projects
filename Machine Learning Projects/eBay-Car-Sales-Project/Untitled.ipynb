{
 "cells": [
  {
   "cell_type": "markdown",
   "id": "40a8fbbd",
   "metadata": {},
   "source": [
    "# Exploring eBay Car Sales Data\n",
    "\n",
    "Knowledge is the best resource for getting the best deal on a used car. Unlike new vehicles, used cars have been on the road and suffered some degrees of wear and tear.\n",
    "\n",
    "One could be a first-time buyer looking for their first used car or an enthusiast tracking down that best value deal; used car sites simplify the shopping experience with detailed, searchable listings, car reviews, buyers guides, and more. These sites don't just help buyers find cars; they are an excellent resource for evaluating purchase options in terms of potential value for paid money.\n",
    "\n",
    "We will explore a dataset of used cars from _[eBay Kleinanzeigen](https://www.ebay-kleinanzeigen.de)_, a [classifieds](https://en.wikipedia.org/wiki/Classified_advertising) section of the German eBay website. We aim to glean some insights into the nature and popularity of listed cars, then understand which cars promise the most value for price-conscious buyers.\n",
    "\n",
    "\n",
    "## Data Dictionary\n",
    "\n",
    "Here is an overview of the 20 columns in the dataset:\n",
    "\n",
    "- `dateCrawled`:- When this ad was first crawled. All field-values are taken from this date.\n",
    "- `name`:- Name of the car.\n",
    "- `seller`:- Whether the seller is private or a dealer.\n",
    "- `offerType`:- The type of listing\n",
    "- `price`:- The price on the ad to sell the car.\n",
    "- `abtest`:- Whether the listing is included in an A/B test.\n",
    "- `vehicleType`:- The vehicle Type.\n",
    "- `yearOfRegistration` - The year in which the car was first registered.\n",
    "- `gearbox`:- The transmission type.\n",
    "- `powerPS`:- The power of the car in PS.\n",
    "- `model`:- The car model name.\n",
    "- `kilometer`:- How many kilometers the car has driven.\n",
    "- `monthOfRegistration`:- The month in which the car was first registered.\n",
    "- `fuelType`:- What type of fuel the car uses.\n",
    "- `brand`:- The brand of the car.\n",
    "- `notRepairedDamage`:- If the car has a damage which is not yet repaired.\n",
    "- `dateCreated`:- The date on which the eBay listing was created.\n",
    "- `nrOfPictures`:- The number of pictures in the ad.\n",
    "- `postalCode`:- The postal code for the location of the vehicle.\n",
    "- `lastSeenOnline`:- When the crawler saw this ad last online.\n",
    "\n",
    "Since our dataset version is dirty, we will perform some cleaning before analysis.\n",
    "\n",
    "## Importing Libraries\n",
    "\n",
    "Let's start by importing the libraries we need. We will import the `Numpy` library to perform quick, vectorized operations on our data, the `Pandas` library to extend the functionalities of Numpy even further, the `tabulate library` to _pretty-print_ dataframes and series objects, then some `Plotly` libraries to help us build informing visuals."
   ]
  },
  {
   "cell_type": "code",
   "execution_count": 1,
   "id": "1a363b9f",
   "metadata": {},
   "outputs": [],
   "source": [
    "# Ignore future warnings from pandas\n",
    "import warnings\n",
    "warnings.filterwarnings('ignore')\n",
    "\n",
    "#import useful libraries\n",
    "from tabulate import tabulate\n",
    "import numpy as np\n",
    "import pandas as pd\n",
    "import plotly.express as px\n",
    "import plotly.graph_objects as go\n",
    "from plotly.subplots import make_subplots"
   ]
  },
  {
   "cell_type": "code",
   "execution_count": 2,
   "id": "e5571f54",
   "metadata": {},
   "outputs": [
    {
     "name": "stdout",
     "output_type": "stream",
     "text": [
      "<class 'pandas.core.frame.DataFrame'>\n",
      "RangeIndex: 50000 entries, 0 to 49999\n",
      "Data columns (total 20 columns):\n",
      " #   Column               Non-Null Count  Dtype \n",
      "---  ------               --------------  ----- \n",
      " 0   dateCrawled          50000 non-null  object\n",
      " 1   name                 50000 non-null  object\n",
      " 2   seller               50000 non-null  object\n",
      " 3   offerType            50000 non-null  object\n",
      " 4   price                50000 non-null  object\n",
      " 5   abtest               50000 non-null  object\n",
      " 6   vehicleType          44905 non-null  object\n",
      " 7   yearOfRegistration   50000 non-null  int64 \n",
      " 8   gearbox              47320 non-null  object\n",
      " 9   powerPS              50000 non-null  int64 \n",
      " 10  model                47242 non-null  object\n",
      " 11  odometer             50000 non-null  object\n",
      " 12  monthOfRegistration  50000 non-null  int64 \n",
      " 13  fuelType             45518 non-null  object\n",
      " 14  brand                50000 non-null  object\n",
      " 15  notRepairedDamage    40171 non-null  object\n",
      " 16  dateCreated          50000 non-null  object\n",
      " 17  nrOfPictures         50000 non-null  int64 \n",
      " 18  postalCode           50000 non-null  int64 \n",
      " 19  lastSeen             50000 non-null  object\n",
      "dtypes: int64(5), object(15)\n",
      "memory usage: 7.6+ MB\n"
     ]
    },
    {
     "data": {
      "text/html": [
       "<div>\n",
       "<style scoped>\n",
       "    .dataframe tbody tr th:only-of-type {\n",
       "        vertical-align: middle;\n",
       "    }\n",
       "\n",
       "    .dataframe tbody tr th {\n",
       "        vertical-align: top;\n",
       "    }\n",
       "\n",
       "    .dataframe thead th {\n",
       "        text-align: right;\n",
       "    }\n",
       "</style>\n",
       "<table border=\"1\" class=\"dataframe\">\n",
       "  <thead>\n",
       "    <tr style=\"text-align: right;\">\n",
       "      <th></th>\n",
       "      <th>dateCrawled</th>\n",
       "      <th>name</th>\n",
       "      <th>seller</th>\n",
       "      <th>offerType</th>\n",
       "      <th>price</th>\n",
       "      <th>abtest</th>\n",
       "      <th>vehicleType</th>\n",
       "      <th>yearOfRegistration</th>\n",
       "      <th>gearbox</th>\n",
       "      <th>powerPS</th>\n",
       "      <th>model</th>\n",
       "      <th>odometer</th>\n",
       "      <th>monthOfRegistration</th>\n",
       "      <th>fuelType</th>\n",
       "      <th>brand</th>\n",
       "      <th>notRepairedDamage</th>\n",
       "      <th>dateCreated</th>\n",
       "      <th>nrOfPictures</th>\n",
       "      <th>postalCode</th>\n",
       "      <th>lastSeen</th>\n",
       "    </tr>\n",
       "  </thead>\n",
       "  <tbody>\n",
       "    <tr>\n",
       "      <th>0</th>\n",
       "      <td>2016-03-26 17:47:46</td>\n",
       "      <td>Peugeot_807_160_NAVTECH_ON_BOARD</td>\n",
       "      <td>privat</td>\n",
       "      <td>Angebot</td>\n",
       "      <td>$5,000</td>\n",
       "      <td>control</td>\n",
       "      <td>bus</td>\n",
       "      <td>2004</td>\n",
       "      <td>manuell</td>\n",
       "      <td>158</td>\n",
       "      <td>andere</td>\n",
       "      <td>150,000km</td>\n",
       "      <td>3</td>\n",
       "      <td>lpg</td>\n",
       "      <td>peugeot</td>\n",
       "      <td>nein</td>\n",
       "      <td>2016-03-26 00:00:00</td>\n",
       "      <td>0</td>\n",
       "      <td>79588</td>\n",
       "      <td>2016-04-06 06:45:54</td>\n",
       "    </tr>\n",
       "    <tr>\n",
       "      <th>1</th>\n",
       "      <td>2016-04-04 13:38:56</td>\n",
       "      <td>BMW_740i_4_4_Liter_HAMANN_UMBAU_Mega_Optik</td>\n",
       "      <td>privat</td>\n",
       "      <td>Angebot</td>\n",
       "      <td>$8,500</td>\n",
       "      <td>control</td>\n",
       "      <td>limousine</td>\n",
       "      <td>1997</td>\n",
       "      <td>automatik</td>\n",
       "      <td>286</td>\n",
       "      <td>7er</td>\n",
       "      <td>150,000km</td>\n",
       "      <td>6</td>\n",
       "      <td>benzin</td>\n",
       "      <td>bmw</td>\n",
       "      <td>nein</td>\n",
       "      <td>2016-04-04 00:00:00</td>\n",
       "      <td>0</td>\n",
       "      <td>71034</td>\n",
       "      <td>2016-04-06 14:45:08</td>\n",
       "    </tr>\n",
       "    <tr>\n",
       "      <th>2</th>\n",
       "      <td>2016-03-26 18:57:24</td>\n",
       "      <td>Volkswagen_Golf_1.6_United</td>\n",
       "      <td>privat</td>\n",
       "      <td>Angebot</td>\n",
       "      <td>$8,990</td>\n",
       "      <td>test</td>\n",
       "      <td>limousine</td>\n",
       "      <td>2009</td>\n",
       "      <td>manuell</td>\n",
       "      <td>102</td>\n",
       "      <td>golf</td>\n",
       "      <td>70,000km</td>\n",
       "      <td>7</td>\n",
       "      <td>benzin</td>\n",
       "      <td>volkswagen</td>\n",
       "      <td>nein</td>\n",
       "      <td>2016-03-26 00:00:00</td>\n",
       "      <td>0</td>\n",
       "      <td>35394</td>\n",
       "      <td>2016-04-06 20:15:37</td>\n",
       "    </tr>\n",
       "  </tbody>\n",
       "</table>\n",
       "</div>"
      ],
      "text/plain": [
       "           dateCrawled                                        name  seller  \\\n",
       "0  2016-03-26 17:47:46            Peugeot_807_160_NAVTECH_ON_BOARD  privat   \n",
       "1  2016-04-04 13:38:56  BMW_740i_4_4_Liter_HAMANN_UMBAU_Mega_Optik  privat   \n",
       "2  2016-03-26 18:57:24                  Volkswagen_Golf_1.6_United  privat   \n",
       "\n",
       "  offerType   price   abtest vehicleType  yearOfRegistration    gearbox  \\\n",
       "0   Angebot  $5,000  control         bus                2004    manuell   \n",
       "1   Angebot  $8,500  control   limousine                1997  automatik   \n",
       "2   Angebot  $8,990     test   limousine                2009    manuell   \n",
       "\n",
       "   powerPS   model   odometer  monthOfRegistration fuelType       brand  \\\n",
       "0      158  andere  150,000km                    3      lpg     peugeot   \n",
       "1      286     7er  150,000km                    6   benzin         bmw   \n",
       "2      102    golf   70,000km                    7   benzin  volkswagen   \n",
       "\n",
       "  notRepairedDamage          dateCreated  nrOfPictures  postalCode  \\\n",
       "0              nein  2016-03-26 00:00:00             0       79588   \n",
       "1              nein  2016-04-04 00:00:00             0       71034   \n",
       "2              nein  2016-03-26 00:00:00             0       35394   \n",
       "\n",
       "              lastSeen  \n",
       "0  2016-04-06 06:45:54  \n",
       "1  2016-04-06 14:45:08  \n",
       "2  2016-04-06 20:15:37  "
      ]
     },
     "execution_count": 2,
     "metadata": {},
     "output_type": "execute_result"
    }
   ],
   "source": [
    "# Import dataset\n",
    "autos = pd.read_csv('autos.csv', encoding='Latin-1') \n",
    "\n",
    "# Explore dataset\n",
    "autos.info()\n",
    "autos.head(3)"
   ]
  },
  {
   "cell_type": "markdown",
   "id": "67532fbf",
   "metadata": {},
   "source": [
    "#### Observations\n",
    "\n",
    "- *Our Dataset contains **20 columns** and **50,000 rows**. Most of the columns contain object or string data, a few columns contain integers.*\n",
    "- *The price and odometer columns contain numeric values stored as text.* \n",
    "- *We have 5 columns with null values (vehicleType, gearbox, model, fuelType and notRepairedDamage), although these null values are less than 10% in each column.*\n",
    "- *Columns with date information such as dateCrawled, dateCreated and lastSeen are saved as object/string data instead of dates.*\n",
    "- *6 columns have string data recorded in German language. These columns are - seller, offerType, vehicleType`, `gear_box, fuelType and notRepairedDamage.*\n",
    "- *Rather than Python's preferred snakecase, the column names follow camelcase convention.*\n",
    "\n",
    "As we explore further, we will try to correct these occurrences, so they don't cause us problems later.\n",
    "\n",
    "## Data Cleaning\n",
    "\n",
    "## 1. Cleaning Column Names\n",
    "\n",
    "We will start by converting the column names from camelcase to snakecase. Let's print these columns to identify the ones we need to rename."
   ]
  },
  {
   "cell_type": "code",
   "execution_count": 3,
   "id": "cc61e9eb",
   "metadata": {},
   "outputs": [
    {
     "data": {
      "text/plain": [
       "Index(['dateCrawled', 'name', 'seller', 'offerType', 'price', 'abtest',\n",
       "       'vehicleType', 'yearOfRegistration', 'gearbox', 'powerPS', 'model',\n",
       "       'odometer', 'monthOfRegistration', 'fuelType', 'brand',\n",
       "       'notRepairedDamage', 'dateCreated', 'nrOfPictures', 'postalCode',\n",
       "       'lastSeen'],\n",
       "      dtype='object')"
      ]
     },
     "execution_count": 3,
     "metadata": {},
     "output_type": "execute_result"
    }
   ],
   "source": [
    "autos.columns"
   ]
  },
  {
   "cell_type": "markdown",
   "id": "11fbbc6d",
   "metadata": {},
   "source": [
    "Next, we will use the snakecase convention while assigning descriptive names to these columns:"
   ]
  },
  {
   "cell_type": "code",
   "execution_count": 4,
   "id": "fd16f9b3",
   "metadata": {},
   "outputs": [
    {
     "data": {
      "text/html": [
       "<div>\n",
       "<style scoped>\n",
       "    .dataframe tbody tr th:only-of-type {\n",
       "        vertical-align: middle;\n",
       "    }\n",
       "\n",
       "    .dataframe tbody tr th {\n",
       "        vertical-align: top;\n",
       "    }\n",
       "\n",
       "    .dataframe thead th {\n",
       "        text-align: right;\n",
       "    }\n",
       "</style>\n",
       "<table border=\"1\" class=\"dataframe\">\n",
       "  <thead>\n",
       "    <tr style=\"text-align: right;\">\n",
       "      <th></th>\n",
       "      <th>date_crawled</th>\n",
       "      <th>name</th>\n",
       "      <th>seller</th>\n",
       "      <th>offer_type</th>\n",
       "      <th>price</th>\n",
       "      <th>ab_test</th>\n",
       "      <th>vehicle_type</th>\n",
       "      <th>registration_year</th>\n",
       "      <th>gear_box</th>\n",
       "      <th>powerPS</th>\n",
       "      <th>model</th>\n",
       "      <th>odometer</th>\n",
       "      <th>registration_month</th>\n",
       "      <th>fuel_type</th>\n",
       "      <th>brand</th>\n",
       "      <th>unrepaired_damage</th>\n",
       "      <th>ad_created</th>\n",
       "      <th>num_pictures</th>\n",
       "      <th>postal_code</th>\n",
       "      <th>last_seen</th>\n",
       "    </tr>\n",
       "  </thead>\n",
       "  <tbody>\n",
       "    <tr>\n",
       "      <th>0</th>\n",
       "      <td>2016-03-26 17:47:46</td>\n",
       "      <td>Peugeot_807_160_NAVTECH_ON_BOARD</td>\n",
       "      <td>privat</td>\n",
       "      <td>Angebot</td>\n",
       "      <td>$5,000</td>\n",
       "      <td>control</td>\n",
       "      <td>bus</td>\n",
       "      <td>2004</td>\n",
       "      <td>manuell</td>\n",
       "      <td>158</td>\n",
       "      <td>andere</td>\n",
       "      <td>150,000km</td>\n",
       "      <td>3</td>\n",
       "      <td>lpg</td>\n",
       "      <td>peugeot</td>\n",
       "      <td>nein</td>\n",
       "      <td>2016-03-26 00:00:00</td>\n",
       "      <td>0</td>\n",
       "      <td>79588</td>\n",
       "      <td>2016-04-06 06:45:54</td>\n",
       "    </tr>\n",
       "    <tr>\n",
       "      <th>1</th>\n",
       "      <td>2016-04-04 13:38:56</td>\n",
       "      <td>BMW_740i_4_4_Liter_HAMANN_UMBAU_Mega_Optik</td>\n",
       "      <td>privat</td>\n",
       "      <td>Angebot</td>\n",
       "      <td>$8,500</td>\n",
       "      <td>control</td>\n",
       "      <td>limousine</td>\n",
       "      <td>1997</td>\n",
       "      <td>automatik</td>\n",
       "      <td>286</td>\n",
       "      <td>7er</td>\n",
       "      <td>150,000km</td>\n",
       "      <td>6</td>\n",
       "      <td>benzin</td>\n",
       "      <td>bmw</td>\n",
       "      <td>nein</td>\n",
       "      <td>2016-04-04 00:00:00</td>\n",
       "      <td>0</td>\n",
       "      <td>71034</td>\n",
       "      <td>2016-04-06 14:45:08</td>\n",
       "    </tr>\n",
       "    <tr>\n",
       "      <th>2</th>\n",
       "      <td>2016-03-26 18:57:24</td>\n",
       "      <td>Volkswagen_Golf_1.6_United</td>\n",
       "      <td>privat</td>\n",
       "      <td>Angebot</td>\n",
       "      <td>$8,990</td>\n",
       "      <td>test</td>\n",
       "      <td>limousine</td>\n",
       "      <td>2009</td>\n",
       "      <td>manuell</td>\n",
       "      <td>102</td>\n",
       "      <td>golf</td>\n",
       "      <td>70,000km</td>\n",
       "      <td>7</td>\n",
       "      <td>benzin</td>\n",
       "      <td>volkswagen</td>\n",
       "      <td>nein</td>\n",
       "      <td>2016-03-26 00:00:00</td>\n",
       "      <td>0</td>\n",
       "      <td>35394</td>\n",
       "      <td>2016-04-06 20:15:37</td>\n",
       "    </tr>\n",
       "  </tbody>\n",
       "</table>\n",
       "</div>"
      ],
      "text/plain": [
       "          date_crawled                                        name  seller  \\\n",
       "0  2016-03-26 17:47:46            Peugeot_807_160_NAVTECH_ON_BOARD  privat   \n",
       "1  2016-04-04 13:38:56  BMW_740i_4_4_Liter_HAMANN_UMBAU_Mega_Optik  privat   \n",
       "2  2016-03-26 18:57:24                  Volkswagen_Golf_1.6_United  privat   \n",
       "\n",
       "  offer_type   price  ab_test vehicle_type  registration_year   gear_box  \\\n",
       "0    Angebot  $5,000  control          bus               2004    manuell   \n",
       "1    Angebot  $8,500  control    limousine               1997  automatik   \n",
       "2    Angebot  $8,990     test    limousine               2009    manuell   \n",
       "\n",
       "   powerPS   model   odometer  registration_month fuel_type       brand  \\\n",
       "0      158  andere  150,000km                   3       lpg     peugeot   \n",
       "1      286     7er  150,000km                   6    benzin         bmw   \n",
       "2      102    golf   70,000km                   7    benzin  volkswagen   \n",
       "\n",
       "  unrepaired_damage           ad_created  num_pictures  postal_code  \\\n",
       "0              nein  2016-03-26 00:00:00             0        79588   \n",
       "1              nein  2016-04-04 00:00:00             0        71034   \n",
       "2              nein  2016-03-26 00:00:00             0        35394   \n",
       "\n",
       "             last_seen  \n",
       "0  2016-04-06 06:45:54  \n",
       "1  2016-04-06 14:45:08  \n",
       "2  2016-04-06 20:15:37  "
      ]
     },
     "execution_count": 4,
     "metadata": {},
     "output_type": "execute_result"
    }
   ],
   "source": [
    "autos.columns = ['date_crawled', 'name', 'seller', 'offer_type', 'price', 'ab_test',\n",
    "               'vehicle_type', 'registration_year', 'gear_box', 'powerPS', 'model',\n",
    "               'odometer', 'registration_month', 'fuel_type', 'brand',\n",
    "               'unrepaired_damage', 'ad_created', 'num_pictures', 'postal_code',\n",
    "               'last_seen']\n",
    "autos.head(3)"
   ]
  },
  {
   "cell_type": "markdown",
   "id": "8afbfe17",
   "metadata": {},
   "source": [
    "Let's explore further to determine what other cleaning tasks need to be done. We will try to identify:\n",
    "\n",
    "- Text columns where all or almost all values are the same. We can often drop these as they don't have helpful information for analysis.\n",
    "\n",
    "- Data that is not stored in the best format for analysis. They may need to be cleaned, converted or both.\n",
    "\n",
    "We will use the `DataFrame.describe(include='all')` method to get information for categorical and numeric columns, then use the `Series.value_counts()` and `Series.head()` methods to glean more insights if any columns need examining."
   ]
  },
  {
   "cell_type": "code",
   "execution_count": 5,
   "id": "6ba239ad",
   "metadata": {},
   "outputs": [
    {
     "data": {
      "text/html": [
       "<div>\n",
       "<style scoped>\n",
       "    .dataframe tbody tr th:only-of-type {\n",
       "        vertical-align: middle;\n",
       "    }\n",
       "\n",
       "    .dataframe tbody tr th {\n",
       "        vertical-align: top;\n",
       "    }\n",
       "\n",
       "    .dataframe thead th {\n",
       "        text-align: right;\n",
       "    }\n",
       "</style>\n",
       "<table border=\"1\" class=\"dataframe\">\n",
       "  <thead>\n",
       "    <tr style=\"text-align: right;\">\n",
       "      <th></th>\n",
       "      <th>date_crawled</th>\n",
       "      <th>name</th>\n",
       "      <th>seller</th>\n",
       "      <th>offer_type</th>\n",
       "      <th>price</th>\n",
       "      <th>ab_test</th>\n",
       "      <th>vehicle_type</th>\n",
       "      <th>registration_year</th>\n",
       "      <th>gear_box</th>\n",
       "      <th>powerPS</th>\n",
       "      <th>model</th>\n",
       "      <th>odometer</th>\n",
       "      <th>registration_month</th>\n",
       "      <th>fuel_type</th>\n",
       "      <th>brand</th>\n",
       "      <th>unrepaired_damage</th>\n",
       "      <th>ad_created</th>\n",
       "      <th>num_pictures</th>\n",
       "      <th>postal_code</th>\n",
       "      <th>last_seen</th>\n",
       "    </tr>\n",
       "  </thead>\n",
       "  <tbody>\n",
       "    <tr>\n",
       "      <th>count</th>\n",
       "      <td>50000</td>\n",
       "      <td>50000</td>\n",
       "      <td>50000</td>\n",
       "      <td>50000</td>\n",
       "      <td>50000</td>\n",
       "      <td>50000</td>\n",
       "      <td>44905</td>\n",
       "      <td>50000.000000</td>\n",
       "      <td>47320</td>\n",
       "      <td>50000.000000</td>\n",
       "      <td>47242</td>\n",
       "      <td>50000</td>\n",
       "      <td>50000.000000</td>\n",
       "      <td>45518</td>\n",
       "      <td>50000</td>\n",
       "      <td>40171</td>\n",
       "      <td>50000</td>\n",
       "      <td>50000.0</td>\n",
       "      <td>50000.000000</td>\n",
       "      <td>50000</td>\n",
       "    </tr>\n",
       "    <tr>\n",
       "      <th>unique</th>\n",
       "      <td>48213</td>\n",
       "      <td>38754</td>\n",
       "      <td>2</td>\n",
       "      <td>2</td>\n",
       "      <td>2357</td>\n",
       "      <td>2</td>\n",
       "      <td>8</td>\n",
       "      <td>NaN</td>\n",
       "      <td>2</td>\n",
       "      <td>NaN</td>\n",
       "      <td>245</td>\n",
       "      <td>13</td>\n",
       "      <td>NaN</td>\n",
       "      <td>7</td>\n",
       "      <td>40</td>\n",
       "      <td>2</td>\n",
       "      <td>76</td>\n",
       "      <td>NaN</td>\n",
       "      <td>NaN</td>\n",
       "      <td>39481</td>\n",
       "    </tr>\n",
       "    <tr>\n",
       "      <th>top</th>\n",
       "      <td>2016-04-02 11:37:04</td>\n",
       "      <td>Ford_Fiesta</td>\n",
       "      <td>privat</td>\n",
       "      <td>Angebot</td>\n",
       "      <td>$0</td>\n",
       "      <td>test</td>\n",
       "      <td>limousine</td>\n",
       "      <td>NaN</td>\n",
       "      <td>manuell</td>\n",
       "      <td>NaN</td>\n",
       "      <td>golf</td>\n",
       "      <td>150,000km</td>\n",
       "      <td>NaN</td>\n",
       "      <td>benzin</td>\n",
       "      <td>volkswagen</td>\n",
       "      <td>nein</td>\n",
       "      <td>2016-04-03 00:00:00</td>\n",
       "      <td>NaN</td>\n",
       "      <td>NaN</td>\n",
       "      <td>2016-04-07 06:17:27</td>\n",
       "    </tr>\n",
       "    <tr>\n",
       "      <th>freq</th>\n",
       "      <td>3</td>\n",
       "      <td>78</td>\n",
       "      <td>49999</td>\n",
       "      <td>49999</td>\n",
       "      <td>1421</td>\n",
       "      <td>25756</td>\n",
       "      <td>12859</td>\n",
       "      <td>NaN</td>\n",
       "      <td>36993</td>\n",
       "      <td>NaN</td>\n",
       "      <td>4024</td>\n",
       "      <td>32424</td>\n",
       "      <td>NaN</td>\n",
       "      <td>30107</td>\n",
       "      <td>10687</td>\n",
       "      <td>35232</td>\n",
       "      <td>1946</td>\n",
       "      <td>NaN</td>\n",
       "      <td>NaN</td>\n",
       "      <td>8</td>\n",
       "    </tr>\n",
       "    <tr>\n",
       "      <th>mean</th>\n",
       "      <td>NaN</td>\n",
       "      <td>NaN</td>\n",
       "      <td>NaN</td>\n",
       "      <td>NaN</td>\n",
       "      <td>NaN</td>\n",
       "      <td>NaN</td>\n",
       "      <td>NaN</td>\n",
       "      <td>2005.073280</td>\n",
       "      <td>NaN</td>\n",
       "      <td>116.355920</td>\n",
       "      <td>NaN</td>\n",
       "      <td>NaN</td>\n",
       "      <td>5.723360</td>\n",
       "      <td>NaN</td>\n",
       "      <td>NaN</td>\n",
       "      <td>NaN</td>\n",
       "      <td>NaN</td>\n",
       "      <td>0.0</td>\n",
       "      <td>50813.627300</td>\n",
       "      <td>NaN</td>\n",
       "    </tr>\n",
       "    <tr>\n",
       "      <th>std</th>\n",
       "      <td>NaN</td>\n",
       "      <td>NaN</td>\n",
       "      <td>NaN</td>\n",
       "      <td>NaN</td>\n",
       "      <td>NaN</td>\n",
       "      <td>NaN</td>\n",
       "      <td>NaN</td>\n",
       "      <td>105.712813</td>\n",
       "      <td>NaN</td>\n",
       "      <td>209.216627</td>\n",
       "      <td>NaN</td>\n",
       "      <td>NaN</td>\n",
       "      <td>3.711984</td>\n",
       "      <td>NaN</td>\n",
       "      <td>NaN</td>\n",
       "      <td>NaN</td>\n",
       "      <td>NaN</td>\n",
       "      <td>0.0</td>\n",
       "      <td>25779.747957</td>\n",
       "      <td>NaN</td>\n",
       "    </tr>\n",
       "    <tr>\n",
       "      <th>min</th>\n",
       "      <td>NaN</td>\n",
       "      <td>NaN</td>\n",
       "      <td>NaN</td>\n",
       "      <td>NaN</td>\n",
       "      <td>NaN</td>\n",
       "      <td>NaN</td>\n",
       "      <td>NaN</td>\n",
       "      <td>1000.000000</td>\n",
       "      <td>NaN</td>\n",
       "      <td>0.000000</td>\n",
       "      <td>NaN</td>\n",
       "      <td>NaN</td>\n",
       "      <td>0.000000</td>\n",
       "      <td>NaN</td>\n",
       "      <td>NaN</td>\n",
       "      <td>NaN</td>\n",
       "      <td>NaN</td>\n",
       "      <td>0.0</td>\n",
       "      <td>1067.000000</td>\n",
       "      <td>NaN</td>\n",
       "    </tr>\n",
       "    <tr>\n",
       "      <th>25%</th>\n",
       "      <td>NaN</td>\n",
       "      <td>NaN</td>\n",
       "      <td>NaN</td>\n",
       "      <td>NaN</td>\n",
       "      <td>NaN</td>\n",
       "      <td>NaN</td>\n",
       "      <td>NaN</td>\n",
       "      <td>1999.000000</td>\n",
       "      <td>NaN</td>\n",
       "      <td>70.000000</td>\n",
       "      <td>NaN</td>\n",
       "      <td>NaN</td>\n",
       "      <td>3.000000</td>\n",
       "      <td>NaN</td>\n",
       "      <td>NaN</td>\n",
       "      <td>NaN</td>\n",
       "      <td>NaN</td>\n",
       "      <td>0.0</td>\n",
       "      <td>30451.000000</td>\n",
       "      <td>NaN</td>\n",
       "    </tr>\n",
       "    <tr>\n",
       "      <th>50%</th>\n",
       "      <td>NaN</td>\n",
       "      <td>NaN</td>\n",
       "      <td>NaN</td>\n",
       "      <td>NaN</td>\n",
       "      <td>NaN</td>\n",
       "      <td>NaN</td>\n",
       "      <td>NaN</td>\n",
       "      <td>2003.000000</td>\n",
       "      <td>NaN</td>\n",
       "      <td>105.000000</td>\n",
       "      <td>NaN</td>\n",
       "      <td>NaN</td>\n",
       "      <td>6.000000</td>\n",
       "      <td>NaN</td>\n",
       "      <td>NaN</td>\n",
       "      <td>NaN</td>\n",
       "      <td>NaN</td>\n",
       "      <td>0.0</td>\n",
       "      <td>49577.000000</td>\n",
       "      <td>NaN</td>\n",
       "    </tr>\n",
       "    <tr>\n",
       "      <th>75%</th>\n",
       "      <td>NaN</td>\n",
       "      <td>NaN</td>\n",
       "      <td>NaN</td>\n",
       "      <td>NaN</td>\n",
       "      <td>NaN</td>\n",
       "      <td>NaN</td>\n",
       "      <td>NaN</td>\n",
       "      <td>2008.000000</td>\n",
       "      <td>NaN</td>\n",
       "      <td>150.000000</td>\n",
       "      <td>NaN</td>\n",
       "      <td>NaN</td>\n",
       "      <td>9.000000</td>\n",
       "      <td>NaN</td>\n",
       "      <td>NaN</td>\n",
       "      <td>NaN</td>\n",
       "      <td>NaN</td>\n",
       "      <td>0.0</td>\n",
       "      <td>71540.000000</td>\n",
       "      <td>NaN</td>\n",
       "    </tr>\n",
       "    <tr>\n",
       "      <th>max</th>\n",
       "      <td>NaN</td>\n",
       "      <td>NaN</td>\n",
       "      <td>NaN</td>\n",
       "      <td>NaN</td>\n",
       "      <td>NaN</td>\n",
       "      <td>NaN</td>\n",
       "      <td>NaN</td>\n",
       "      <td>9999.000000</td>\n",
       "      <td>NaN</td>\n",
       "      <td>17700.000000</td>\n",
       "      <td>NaN</td>\n",
       "      <td>NaN</td>\n",
       "      <td>12.000000</td>\n",
       "      <td>NaN</td>\n",
       "      <td>NaN</td>\n",
       "      <td>NaN</td>\n",
       "      <td>NaN</td>\n",
       "      <td>0.0</td>\n",
       "      <td>99998.000000</td>\n",
       "      <td>NaN</td>\n",
       "    </tr>\n",
       "  </tbody>\n",
       "</table>\n",
       "</div>"
      ],
      "text/plain": [
       "               date_crawled         name  seller offer_type  price ab_test  \\\n",
       "count                 50000        50000   50000      50000  50000   50000   \n",
       "unique                48213        38754       2          2   2357       2   \n",
       "top     2016-04-02 11:37:04  Ford_Fiesta  privat    Angebot     $0    test   \n",
       "freq                      3           78   49999      49999   1421   25756   \n",
       "mean                    NaN          NaN     NaN        NaN    NaN     NaN   \n",
       "std                     NaN          NaN     NaN        NaN    NaN     NaN   \n",
       "min                     NaN          NaN     NaN        NaN    NaN     NaN   \n",
       "25%                     NaN          NaN     NaN        NaN    NaN     NaN   \n",
       "50%                     NaN          NaN     NaN        NaN    NaN     NaN   \n",
       "75%                     NaN          NaN     NaN        NaN    NaN     NaN   \n",
       "max                     NaN          NaN     NaN        NaN    NaN     NaN   \n",
       "\n",
       "       vehicle_type  registration_year gear_box       powerPS  model  \\\n",
       "count         44905       50000.000000    47320  50000.000000  47242   \n",
       "unique            8                NaN        2           NaN    245   \n",
       "top       limousine                NaN  manuell           NaN   golf   \n",
       "freq          12859                NaN    36993           NaN   4024   \n",
       "mean            NaN        2005.073280      NaN    116.355920    NaN   \n",
       "std             NaN         105.712813      NaN    209.216627    NaN   \n",
       "min             NaN        1000.000000      NaN      0.000000    NaN   \n",
       "25%             NaN        1999.000000      NaN     70.000000    NaN   \n",
       "50%             NaN        2003.000000      NaN    105.000000    NaN   \n",
       "75%             NaN        2008.000000      NaN    150.000000    NaN   \n",
       "max             NaN        9999.000000      NaN  17700.000000    NaN   \n",
       "\n",
       "         odometer  registration_month fuel_type       brand unrepaired_damage  \\\n",
       "count       50000        50000.000000     45518       50000             40171   \n",
       "unique         13                 NaN         7          40                 2   \n",
       "top     150,000km                 NaN    benzin  volkswagen              nein   \n",
       "freq        32424                 NaN     30107       10687             35232   \n",
       "mean          NaN            5.723360       NaN         NaN               NaN   \n",
       "std           NaN            3.711984       NaN         NaN               NaN   \n",
       "min           NaN            0.000000       NaN         NaN               NaN   \n",
       "25%           NaN            3.000000       NaN         NaN               NaN   \n",
       "50%           NaN            6.000000       NaN         NaN               NaN   \n",
       "75%           NaN            9.000000       NaN         NaN               NaN   \n",
       "max           NaN           12.000000       NaN         NaN               NaN   \n",
       "\n",
       "                 ad_created  num_pictures   postal_code            last_seen  \n",
       "count                 50000       50000.0  50000.000000                50000  \n",
       "unique                   76           NaN           NaN                39481  \n",
       "top     2016-04-03 00:00:00           NaN           NaN  2016-04-07 06:17:27  \n",
       "freq                   1946           NaN           NaN                    8  \n",
       "mean                    NaN           0.0  50813.627300                  NaN  \n",
       "std                     NaN           0.0  25779.747957                  NaN  \n",
       "min                     NaN           0.0   1067.000000                  NaN  \n",
       "25%                     NaN           0.0  30451.000000                  NaN  \n",
       "50%                     NaN           0.0  49577.000000                  NaN  \n",
       "75%                     NaN           0.0  71540.000000                  NaN  \n",
       "max                     NaN           0.0  99998.000000                  NaN  "
      ]
     },
     "execution_count": 5,
     "metadata": {},
     "output_type": "execute_result"
    }
   ],
   "source": [
    "autos.describe(include='all')"
   ]
  },
  {
   "cell_type": "code",
   "execution_count": 6,
   "id": "f1c5b78f",
   "metadata": {},
   "outputs": [
    {
     "name": "stdout",
     "output_type": "stream",
     "text": [
      "------------------------------\n",
      "privat        49999\n",
      "gewerblich        1\n",
      "Name: seller, dtype: int64\n",
      "------------------------------\n",
      "------------------------------\n",
      "Angebot    49999\n",
      "Gesuch         1\n",
      "Name: offer_type, dtype: int64\n",
      "------------------------------\n",
      "------------------------------\n",
      "test       25756\n",
      "control    24244\n",
      "Name: ab_test, dtype: int64\n",
      "------------------------------\n",
      "------------------------------\n",
      "manuell      36993\n",
      "automatik    10327\n",
      "Name: gear_box, dtype: int64\n",
      "------------------------------\n",
      "------------------------------\n",
      "nein    35232\n",
      "ja       4939\n",
      "Name: unrepaired_damage, dtype: int64\n",
      "------------------------------\n"
     ]
    }
   ],
   "source": [
    "# loop through each column and print the frequency of each unique value\n",
    "\n",
    "for item in ['seller', 'offer_type', 'ab_test', 'gear_box', 'unrepaired_damage']:\n",
    "    print('-'*30)\n",
    "    print(autos[item].value_counts())\n",
    "    print('-'*30)"
   ]
  },
  {
   "cell_type": "markdown",
   "id": "3bec4a80",
   "metadata": {},
   "source": [
    "#### Observations\n",
    "\n",
    "- ***The Seller and offer_type columns are heavily one-sided:***\n",
    "\n",
    "    - *In the seller column, Privat means 'private' and gewerblick means 'commercial'. This tells us that most records in the dataset were from private sellers.*\n",
    "    - *In the offer_type column, Angebot stands for 'offer', while gesuch stands for 'request'. This tells us that majority of the records are car offered for sale.*\n",
    "\n",
    "These columns are far too one-sided to add helpful information to our analysis. We will drop them, but first, let's explore the `num_pictures` column."
   ]
  },
  {
   "cell_type": "code",
   "execution_count": 7,
   "id": "79474c80",
   "metadata": {},
   "outputs": [
    {
     "data": {
      "text/plain": [
       "0    50000\n",
       "Name: num_pictures, dtype: int64"
      ]
     },
     "execution_count": 7,
     "metadata": {},
     "output_type": "execute_result"
    }
   ],
   "source": [
    "autos['num_pictures'].value_counts()"
   ]
  },
  {
   "cell_type": "markdown",
   "id": "571bc2da",
   "metadata": {},
   "source": [
    "All the data in `num_pictures` is 0: it appears that none of the listings contain any pictures. We will drop this column along with `seller` and `offer_type`."
   ]
  },
  {
   "cell_type": "code",
   "execution_count": 8,
   "id": "3c13e7ef",
   "metadata": {},
   "outputs": [
    {
     "name": "stdout",
     "output_type": "stream",
     "text": [
      "(50000, 20)\n",
      "(50000, 17)\n"
     ]
    }
   ],
   "source": [
    "print(autos.shape)\n",
    "autos = autos.drop(['seller', 'offer_type', 'num_pictures'], axis=1)\n",
    "print(autos.shape)"
   ]
  },
  {
   "cell_type": "markdown",
   "id": "b7f3cf80",
   "metadata": {},
   "source": [
    "## 2. Translating Non-English Words\n",
    "\n",
    "In the previous observation, we manually interpreted the meaning of the terms in the `seller` and `offer_type` columns. Repeating this process for all affected columns will be cumbersome in the long run. \n",
    "\n",
    "In total, there were six columns recorded in German. However, we had already dropped two of the affected columns. We will explore the remaining four in detail:"
   ]
  },
  {
   "cell_type": "code",
   "execution_count": 9,
   "id": "d6c75e3c",
   "metadata": {},
   "outputs": [
    {
     "name": "stdout",
     "output_type": "stream",
     "text": [
      "\n",
      "['bus' 'limousine' 'kleinwagen' 'kombi' nan 'coupe' 'suv' 'cabrio'\n",
      " 'andere']\n",
      "\n",
      "['manuell' 'automatik' nan]\n",
      "\n",
      "['lpg' 'benzin' 'diesel' nan 'cng' 'hybrid' 'elektro' 'andere']\n",
      "\n",
      "['nein' nan 'ja']\n"
     ]
    }
   ],
   "source": [
    "german_columns = ['vehicle_type', 'gear_box','fuel_type', 'unrepaired_damage']\n",
    "\n",
    "# print the unique german words in each column of interest\n",
    "for column in german_columns:\n",
    "    print('')\n",
    "    print(autos[column].unique())"
   ]
  },
  {
   "cell_type": "markdown",
   "id": "02a3e921",
   "metadata": {},
   "source": [
    "We can use this information to build a dictionary of translations for each German word. Then, use a function `convert_language()` to iterate through each of the affected columns, while mapping the right English words from our dictionary. The `series.map()` method will handle the translation/mapping process for us:"
   ]
  },
  {
   "cell_type": "code",
   "execution_count": 10,
   "id": "165412e4",
   "metadata": {},
   "outputs": [],
   "source": [
    "# translator function\n",
    "def translate_column(df,column,value_dict):\n",
    "    '''translates values in df column using value_dict as reference'''\n",
    "    df[column] = df[column].map(value_dict)\n",
    "\n",
    "\n",
    "# A dictionary of translations\n",
    "translations ={# vehicle type terms\n",
    "               'bus':'bus',\n",
    "               'limousine':'limousine',\n",
    "               'kleinwagen': 'small car',\n",
    "               'kombi': 'combo',\n",
    "               'coupe':'coupe',\n",
    "               'suv':'suv',\n",
    "               'cabrio': 'cabrio',\n",
    "               'andere': 'other',\n",
    "               'cabrio': 'convertible',\n",
    "               # gear box terms\n",
    "               'manuell': 'manual',\n",
    "               'automatik': 'automatic',\n",
    "               # fuel type terms\n",
    "               'lpg':'lpg',\n",
    "               'benzin': 'gasoline',\n",
    "               'diesel':'diesel',\n",
    "               'cng':'natural gas',\n",
    "               'hybrid':'hybrid',\n",
    "               'elektro':'electric',\n",
    "               'andere':'other',\n",
    "               # unrepaired damage terms\n",
    "               'nein':'no',\n",
    "               'ja':'yes'       \n",
    "}"
   ]
  },
  {
   "cell_type": "markdown",
   "id": "c4e3d638",
   "metadata": {},
   "source": [
    "Let's translate each of these columns. We will also print out the value counts before and after translation to ensure that the process ran adequately, without compromising our data:"
   ]
  },
  {
   "cell_type": "code",
   "execution_count": 11,
   "id": "99a2645d",
   "metadata": {},
   "outputs": [
    {
     "name": "stdout",
     "output_type": "stream",
     "text": [
      "BEFORE TRANSLATING \n",
      "\n",
      "limousine     12859\n",
      "kleinwagen    10822\n",
      "kombi          9127\n",
      "NaN            5095\n",
      "bus            4093\n",
      "cabrio         3061\n",
      "coupe          2537\n",
      "suv            1986\n",
      "andere          420\n",
      "Name: vehicle_type, dtype: int64\n",
      "\n",
      " TRANSLATING WORDS...\n",
      "------------------------------\n",
      "limousine      12859\n",
      "small car      10822\n",
      "combo           9127\n",
      "NaN             5095\n",
      "bus             4093\n",
      "convertible     3061\n",
      "coupe           2537\n",
      "suv             1986\n",
      "other            420\n",
      "Name: vehicle_type, dtype: int64\n",
      "------------------------------\n",
      "------------------------------\n",
      "BEFORE TRANSLATING \n",
      "\n",
      "manuell      36993\n",
      "automatik    10327\n",
      "NaN           2680\n",
      "Name: gear_box, dtype: int64\n",
      "\n",
      " TRANSLATING WORDS...\n",
      "------------------------------\n",
      "manual       36993\n",
      "automatic    10327\n",
      "NaN           2680\n",
      "Name: gear_box, dtype: int64\n",
      "------------------------------\n",
      "------------------------------\n",
      "BEFORE TRANSLATING \n",
      "\n",
      "benzin     30107\n",
      "diesel     14567\n",
      "NaN         4482\n",
      "lpg          691\n",
      "cng           75\n",
      "hybrid        37\n",
      "andere        22\n",
      "elektro       19\n",
      "Name: fuel_type, dtype: int64\n",
      "\n",
      " TRANSLATING WORDS...\n",
      "------------------------------\n",
      "gasoline       30107\n",
      "diesel         14567\n",
      "NaN             4482\n",
      "lpg              691\n",
      "natural gas       75\n",
      "hybrid            37\n",
      "other             22\n",
      "electric          19\n",
      "Name: fuel_type, dtype: int64\n",
      "------------------------------\n",
      "------------------------------\n",
      "BEFORE TRANSLATING \n",
      "\n",
      "nein    35232\n",
      "NaN      9829\n",
      "ja       4939\n",
      "Name: unrepaired_damage, dtype: int64\n",
      "\n",
      " TRANSLATING WORDS...\n",
      "------------------------------\n",
      "no     35232\n",
      "NaN     9829\n",
      "yes     4939\n",
      "Name: unrepaired_damage, dtype: int64\n",
      "------------------------------\n",
      "------------------------------\n"
     ]
    }
   ],
   "source": [
    "for item in german_columns:\n",
    "    print('BEFORE TRANSLATING', '\\n')\n",
    "    \n",
    "    print(autos[item].value_counts(dropna=False))\n",
    "    \n",
    "    print('\\n', 'TRANSLATING WORDS...')\n",
    "    print('-'*30)\n",
    "    \n",
    "    translate_column(autos, item, translations)\n",
    "    print(autos[item].value_counts(dropna=False))\n",
    "    \n",
    "    print('-'*30)\n",
    "    print('-'*30)"
   ]
  },
  {
   "cell_type": "markdown",
   "id": "42a0ebf8",
   "metadata": {},
   "source": [
    "#### Observations\n",
    "- *The German words have been converted to English, and the value counts remained the same after translation. We can conclude that the translation was executed correctly without compromising our data.*\n",
    "\n",
    "## 3. Reformating Numeric Data\n",
    "\n",
    "We previously identified some object types that should have been saved as numeric; like the `price` and `odometer` columns. For each of these columns, we will remove the non-numeric characters, convert the values to numeric, then use the `DataFrame.rename()` method to assign descriptive names.\n",
    "\n",
    "The `price` columns contains non-numeric characters like `','` and `'$'` non-numeric characters, while the The `odometer` column has `','` and `'km'` as its non-numeric characters."
   ]
  },
  {
   "cell_type": "code",
   "execution_count": 12,
   "id": "79e50f4e",
   "metadata": {},
   "outputs": [
    {
     "data": {
      "text/plain": [
       "0    5000\n",
       "1    8500\n",
       "2    8990\n",
       "3    4350\n",
       "4    1350\n",
       "Name: usd_price, dtype: int32"
      ]
     },
     "execution_count": 12,
     "metadata": {},
     "output_type": "execute_result"
    }
   ],
   "source": [
    "autos['price'] = (autos['price']\n",
    "                      .str.replace(',', '')\n",
    "                      .str.replace('$','')\n",
    "                      .astype(int)\n",
    "                 )\n",
    "\n",
    "autos.rename({'price':'usd_price'}, inplace=True, axis=1)\n",
    "autos['usd_price'].head(5)"
   ]
  },
  {
   "cell_type": "code",
   "execution_count": 13,
   "id": "36701eed",
   "metadata": {},
   "outputs": [
    {
     "data": {
      "text/plain": [
       "0    150000\n",
       "1    150000\n",
       "2     70000\n",
       "3     70000\n",
       "4    150000\n",
       "Name: odometer_km, dtype: int32"
      ]
     },
     "execution_count": 13,
     "metadata": {},
     "output_type": "execute_result"
    }
   ],
   "source": [
    "autos['odometer'] = (autos['odometer']\n",
    "                         .str.replace('km', '')\n",
    "                         .str.replace(',','')\n",
    "                         .astype(int)\n",
    "                    )\n",
    "\n",
    "autos.rename({'odometer':'odometer_km'}, inplace=True, axis=1)\n",
    "autos['odometer_km'].head(5)"
   ]
  },
  {
   "cell_type": "markdown",
   "id": "0f939726",
   "metadata": {},
   "source": [
    "## 4. Detecting Numeric Outliers\n",
    "\n",
    "Let's continue by exploring the data for outliers. Specifically, we are looking for data that doesn't look right, especially in our numeric columns (`odometer_km` and `usd_price`). We will analyze these columns using the five number summary (min, Q1, median, Q2, Max) then look for any values that look unrealistically high or low."
   ]
  },
  {
   "cell_type": "code",
   "execution_count": 14,
   "id": "f0666e91",
   "metadata": {},
   "outputs": [
    {
     "data": {
      "text/html": [
       "<div>\n",
       "<style scoped>\n",
       "    .dataframe tbody tr th:only-of-type {\n",
       "        vertical-align: middle;\n",
       "    }\n",
       "\n",
       "    .dataframe tbody tr th {\n",
       "        vertical-align: top;\n",
       "    }\n",
       "\n",
       "    .dataframe thead th {\n",
       "        text-align: right;\n",
       "    }\n",
       "</style>\n",
       "<table border=\"1\" class=\"dataframe\">\n",
       "  <thead>\n",
       "    <tr style=\"text-align: right;\">\n",
       "      <th></th>\n",
       "      <th>odometer_km</th>\n",
       "      <th>usd_price</th>\n",
       "    </tr>\n",
       "  </thead>\n",
       "  <tbody>\n",
       "    <tr>\n",
       "      <th>count</th>\n",
       "      <td>50000.000000</td>\n",
       "      <td>5.000000e+04</td>\n",
       "    </tr>\n",
       "    <tr>\n",
       "      <th>mean</th>\n",
       "      <td>125732.700000</td>\n",
       "      <td>9.840044e+03</td>\n",
       "    </tr>\n",
       "    <tr>\n",
       "      <th>std</th>\n",
       "      <td>40042.211706</td>\n",
       "      <td>4.811044e+05</td>\n",
       "    </tr>\n",
       "    <tr>\n",
       "      <th>min</th>\n",
       "      <td>5000.000000</td>\n",
       "      <td>0.000000e+00</td>\n",
       "    </tr>\n",
       "    <tr>\n",
       "      <th>25%</th>\n",
       "      <td>125000.000000</td>\n",
       "      <td>1.100000e+03</td>\n",
       "    </tr>\n",
       "    <tr>\n",
       "      <th>50%</th>\n",
       "      <td>150000.000000</td>\n",
       "      <td>2.950000e+03</td>\n",
       "    </tr>\n",
       "    <tr>\n",
       "      <th>75%</th>\n",
       "      <td>150000.000000</td>\n",
       "      <td>7.200000e+03</td>\n",
       "    </tr>\n",
       "    <tr>\n",
       "      <th>max</th>\n",
       "      <td>150000.000000</td>\n",
       "      <td>1.000000e+08</td>\n",
       "    </tr>\n",
       "  </tbody>\n",
       "</table>\n",
       "</div>"
      ],
      "text/plain": [
       "         odometer_km     usd_price\n",
       "count   50000.000000  5.000000e+04\n",
       "mean   125732.700000  9.840044e+03\n",
       "std     40042.211706  4.811044e+05\n",
       "min      5000.000000  0.000000e+00\n",
       "25%    125000.000000  1.100000e+03\n",
       "50%    150000.000000  2.950000e+03\n",
       "75%    150000.000000  7.200000e+03\n",
       "max    150000.000000  1.000000e+08"
      ]
     },
     "execution_count": 14,
     "metadata": {},
     "output_type": "execute_result"
    }
   ],
   "source": [
    "autos[['odometer_km', 'usd_price']].describe()"
   ]
  },
  {
   "cell_type": "markdown",
   "id": "96e96236",
   "metadata": {},
   "source": [
    "#### Observations\n",
    "\n",
    "- ***Odometer readings***\n",
    "    - *The median and 75th percentile value are the same as the maximum value (150,000km). The 25th percentile is set at around 125,000km.*\n",
    "    - *This indicates that a reading of 150,000km is not an outlier, since 75% of the listed cars are between 125,000 to 150,000km in mileage.*\n",
    "\n",
    "- ***Price***\n",
    "    - *The maximum price is 100,000,000USD. This varies significantly from the median and 75th percentile values of 2,950 and 7,200USD respectively. The standard deviation is also considerably high (about 480,000 USD).*\n",
    "    - *The minimum price of 0 is unusual and could affect our analysis.* \n",
    "\n",
    "We can further explore `odometer_km` by displaying its sorted value counts:"
   ]
  },
  {
   "cell_type": "code",
   "execution_count": 15,
   "id": "6abeca53",
   "metadata": {},
   "outputs": [
    {
     "data": {
      "text/plain": [
       "150000    32424\n",
       "125000     5170\n",
       "100000     2169\n",
       "90000      1757\n",
       "80000      1436\n",
       "70000      1230\n",
       "60000      1164\n",
       "50000      1027\n",
       "40000       819\n",
       "30000       789\n",
       "20000       784\n",
       "10000       264\n",
       "5000        967\n",
       "Name: odometer_km, dtype: int64"
      ]
     },
     "execution_count": 15,
     "metadata": {},
     "output_type": "execute_result"
    }
   ],
   "source": [
    "autos['odometer_km'].value_counts().sort_index(ascending=False)"
   ]
  },
  {
   "cell_type": "markdown",
   "id": "025223fc",
   "metadata": {},
   "source": [
    "#### Additional Observations\n",
    "\n",
    "- *The least mileage observed is 5000km rather than 0km. This is expected because the cars listed on this platform are used cars.*\n",
    "- *Higher Mileage cars (above 50,000km) are more common on the listing than lower mileage ones.*\n",
    "- *Over 30,000 (~65%) cars have odometer readings of 150,000. This could imply that there is an upper mileage limit of 150,000km for cars accepted for listing.*\n",
    "\n",
    "Next, we will explore `usd_price` and attempt to remove its outliers:"
   ]
  },
  {
   "cell_type": "code",
   "execution_count": 16,
   "id": "8b1326ea",
   "metadata": {},
   "outputs": [
    {
     "data": {
      "text/plain": [
       "count    5.000000e+04\n",
       "mean     9.840044e+03\n",
       "std      4.811044e+05\n",
       "min      0.000000e+00\n",
       "25%      1.100000e+03\n",
       "50%      2.950000e+03\n",
       "75%      7.200000e+03\n",
       "max      1.000000e+08\n",
       "Name: usd_price, dtype: float64"
      ]
     },
     "execution_count": 16,
     "metadata": {},
     "output_type": "execute_result"
    }
   ],
   "source": [
    "autos['usd_price'].describe()"
   ]
  },
  {
   "cell_type": "markdown",
   "id": "1c94d4b2",
   "metadata": {},
   "source": [
    "## 5. Removing Price Outliers\n",
    "\n",
    "As observed earlier, the `25th`, `50th` and `75th` percentile of the prices are `1,100`, `2,950` and `7,200`USD. We will use a selection method to create a **“data fence”** from our 25th to 75th percentiles. Any data beyond this fence will be considered an outlier.\n",
    "\n",
    "We already have enough information to calculate our interquartile range `IQR`. We will use the equation below to determine our upper and lower price fences:\n",
    "\n",
    "```\n",
    "    Interquartile Range (IQR) = 75th Percentile - 25th Percentile\n",
    "    Lower fence = 25th Percentile - 1.5*(IQR)\n",
    "    Upper fence = 75th Percentile + 1.5*(IQR)\n",
    "    \n",
    "```\n",
    "Lets define all these boundaries in the code cell below:"
   ]
  },
  {
   "cell_type": "code",
   "execution_count": 17,
   "id": "aa14aaaf",
   "metadata": {},
   "outputs": [
    {
     "name": "stdout",
     "output_type": "stream",
     "text": [
      "Interquartile Range:  6100\n",
      "Lower fence:  -8050.0\n",
      "Upper fence:  16350.0\n"
     ]
    }
   ],
   "source": [
    "price_25, price_75 = (1100, 7200)\n",
    "\n",
    "IQR = price_75 - price_25\n",
    "lower_fence = price_25 - (1.5*IQR)\n",
    "upper_fence = price_75 + (1.5*IQR)\n",
    "\n",
    "print('Interquartile Range: ', IQR)\n",
    "print('Lower fence: ', lower_fence)\n",
    "print('Upper fence: ', upper_fence)"
   ]
  },
  {
   "cell_type": "markdown",
   "id": "159ee374",
   "metadata": {},
   "source": [
    "Fences may extend beyond the data sometimes, so it is totally fine if our lower fence is negative. We should be mindful, however, that a minimum price value of `0` can also affect our analysis. In this case, it is advisable to eliminate the entries with zero prices too.\n",
    "\n",
    "Before we proceed, let's take a look at how many listings are recorded at zero price:"
   ]
  },
  {
   "cell_type": "code",
   "execution_count": 18,
   "id": "37f5a681",
   "metadata": {},
   "outputs": [
    {
     "data": {
      "text/plain": [
       "0       1421\n",
       "500      781\n",
       "1500     734\n",
       "2500     643\n",
       "1000     639\n",
       "Name: usd_price, dtype: int64"
      ]
     },
     "execution_count": 18,
     "metadata": {},
     "output_type": "execute_result"
    }
   ],
   "source": [
    "autos['usd_price'].value_counts().head()"
   ]
  },
  {
   "cell_type": "markdown",
   "id": "b3b9307f",
   "metadata": {},
   "source": [
    "Of the 50,000 rows in our dataset, 1,421 records `(3%)` are listed at zero price. Since this percentage is very low, we can safely remove these entries. We will set our lower fence at `1` to exclude zero prices:"
   ]
  },
  {
   "cell_type": "code",
   "execution_count": 19,
   "id": "5fcb79f6",
   "metadata": {},
   "outputs": [
    {
     "data": {
      "text/plain": [
       "count    44795.000000\n",
       "mean      4089.433620\n",
       "std       3841.429247\n",
       "min          1.000000\n",
       "25%       1150.000000\n",
       "50%       2700.000000\n",
       "75%       5999.000000\n",
       "max      16350.000000\n",
       "Name: usd_price, dtype: float64"
      ]
     },
     "execution_count": 19,
     "metadata": {},
     "output_type": "execute_result"
    }
   ],
   "source": [
    "autos = autos[autos['usd_price'].between(1, upper_fence)]\n",
    "\n",
    "autos['usd_price'].describe()"
   ]
  },
  {
   "cell_type": "markdown",
   "id": "4be47b4f",
   "metadata": {},
   "source": [
    "#### Observations\n",
    "\n",
    "- *Our dataset has been reduced to 44,795 rows in total. The 25th, 50th and 75th percentiles are close to their initial values before cleaning.*\n",
    "- *The standard deviation (3,841USD) is considerably lower than the value of 480,000USD recorded before.*\n",
    "- *16,350USD is a better approximation for the maximum price than the previous value of 100,000,000USD, considering that our 75th percentile is around 6,000USD.*\n",
    "\n",
    "Let's now explore the date columns to understand the date range our data covers\n",
    "\n",
    "## Exploring the Date Columns\n",
    "\n",
    "There are 5 columns in our dataset that should represent date values. Some of these columns were created by the crawler, while some were obtained from the website. We can differentiate by referring to the information below:\n",
    "\n",
    "```\n",
    "- `date_crawled` - added by the crawler\n",
    "- `last_seen` -  added by the crawler\n",
    "- `ad_created` - obtained from the website\n",
    "- `registration_month` - obtained from the website\n",
    "- `registration_year`- obtained from the website\n",
    "\n",
    "```\n",
    "\n",
    "`date_crawled`, `last_seen`, and `ad_created` are currently identified as object types. To understand them quantitatively, we need to convert them to `datetime` objects.\n",
    "\n",
    "`registration_month` and `registration_year` are represented as numeric values. Using the `.describe()` method, we can understand their distribution, without any conversion.\n",
    "\n",
    "Let's first understand how the values in the three string columns are formatted."
   ]
  },
  {
   "cell_type": "code",
   "execution_count": 20,
   "id": "dda46d04",
   "metadata": {},
   "outputs": [
    {
     "data": {
      "text/html": [
       "<div>\n",
       "<style scoped>\n",
       "    .dataframe tbody tr th:only-of-type {\n",
       "        vertical-align: middle;\n",
       "    }\n",
       "\n",
       "    .dataframe tbody tr th {\n",
       "        vertical-align: top;\n",
       "    }\n",
       "\n",
       "    .dataframe thead th {\n",
       "        text-align: right;\n",
       "    }\n",
       "</style>\n",
       "<table border=\"1\" class=\"dataframe\">\n",
       "  <thead>\n",
       "    <tr style=\"text-align: right;\">\n",
       "      <th></th>\n",
       "      <th>date_crawled</th>\n",
       "      <th>ad_created</th>\n",
       "      <th>last_seen</th>\n",
       "    </tr>\n",
       "  </thead>\n",
       "  <tbody>\n",
       "    <tr>\n",
       "      <th>0</th>\n",
       "      <td>2016-03-26 17:47:46</td>\n",
       "      <td>2016-03-26 00:00:00</td>\n",
       "      <td>2016-04-06 06:45:54</td>\n",
       "    </tr>\n",
       "    <tr>\n",
       "      <th>1</th>\n",
       "      <td>2016-04-04 13:38:56</td>\n",
       "      <td>2016-04-04 00:00:00</td>\n",
       "      <td>2016-04-06 14:45:08</td>\n",
       "    </tr>\n",
       "    <tr>\n",
       "      <th>2</th>\n",
       "      <td>2016-03-26 18:57:24</td>\n",
       "      <td>2016-03-26 00:00:00</td>\n",
       "      <td>2016-04-06 20:15:37</td>\n",
       "    </tr>\n",
       "    <tr>\n",
       "      <th>3</th>\n",
       "      <td>2016-03-12 16:58:10</td>\n",
       "      <td>2016-03-12 00:00:00</td>\n",
       "      <td>2016-03-15 03:16:28</td>\n",
       "    </tr>\n",
       "    <tr>\n",
       "      <th>4</th>\n",
       "      <td>2016-04-01 14:38:50</td>\n",
       "      <td>2016-04-01 00:00:00</td>\n",
       "      <td>2016-04-01 14:38:50</td>\n",
       "    </tr>\n",
       "  </tbody>\n",
       "</table>\n",
       "</div>"
      ],
      "text/plain": [
       "          date_crawled           ad_created            last_seen\n",
       "0  2016-03-26 17:47:46  2016-03-26 00:00:00  2016-04-06 06:45:54\n",
       "1  2016-04-04 13:38:56  2016-04-04 00:00:00  2016-04-06 14:45:08\n",
       "2  2016-03-26 18:57:24  2016-03-26 00:00:00  2016-04-06 20:15:37\n",
       "3  2016-03-12 16:58:10  2016-03-12 00:00:00  2016-03-15 03:16:28\n",
       "4  2016-04-01 14:38:50  2016-04-01 00:00:00  2016-04-01 14:38:50"
      ]
     },
     "execution_count": 20,
     "metadata": {},
     "output_type": "execute_result"
    }
   ],
   "source": [
    "autos[['date_crawled', 'ad_created', 'last_seen']].head()"
   ]
  },
  {
   "cell_type": "markdown",
   "id": "3af5a456",
   "metadata": {},
   "source": [
    "#### Observations\n",
    "\n",
    "- *It appears that the first 10 characters in each column represent the date in the yy-mm-dd format (e.g. 2016-03-12). The other characters represent hours:minutes:seconds*\n",
    "\n",
    "To understand the distribution of the dates, we can extract just the relevant values using a string method. We can use `Series.str[:10]` to select the first 10 characters in each column.\n",
    "\n",
    "### 1. Date Crawled"
   ]
  },
  {
   "cell_type": "code",
   "execution_count": 21,
   "id": "f012049a",
   "metadata": {},
   "outputs": [
    {
     "name": "stdout",
     "output_type": "stream",
     "text": [
      "34\n",
      "+------------+-------------+\n",
      "| Date       |   % crawled |\n",
      "|------------+-------------|\n",
      "| 2016-03-05 |       0.026 |\n",
      "| 2016-03-06 |       0.014 |\n",
      "| 2016-03-07 |       0.036 |\n",
      "| 2016-03-08 |       0.034 |\n",
      "| 2016-03-09 |       0.033 |\n",
      "| 2016-03-10 |       0.033 |\n",
      "| 2016-03-11 |       0.032 |\n",
      "| 2016-03-12 |       0.037 |\n",
      "| 2016-03-13 |       0.016 |\n",
      "| 2016-03-14 |       0.037 |\n",
      "| 2016-03-15 |       0.034 |\n",
      "| 2016-03-16 |       0.03  |\n",
      "| 2016-03-17 |       0.032 |\n",
      "| 2016-03-18 |       0.013 |\n",
      "| 2016-03-19 |       0.034 |\n",
      "| 2016-03-20 |       0.038 |\n",
      "| 2016-03-21 |       0.037 |\n",
      "| 2016-03-22 |       0.033 |\n",
      "| 2016-03-23 |       0.032 |\n",
      "| 2016-03-24 |       0.029 |\n",
      "| 2016-03-25 |       0.032 |\n",
      "| 2016-03-26 |       0.033 |\n",
      "| 2016-03-27 |       0.031 |\n",
      "| 2016-03-28 |       0.035 |\n",
      "| 2016-03-29 |       0.034 |\n",
      "| 2016-03-30 |       0.034 |\n",
      "| 2016-03-31 |       0.032 |\n",
      "| 2016-04-01 |       0.033 |\n",
      "| 2016-04-02 |       0.035 |\n",
      "| 2016-04-03 |       0.039 |\n",
      "| 2016-04-04 |       0.036 |\n",
      "| 2016-04-05 |       0.013 |\n",
      "| 2016-04-06 |       0.003 |\n",
      "| 2016-04-07 |       0.001 |\n",
      "+------------+-------------+\n"
     ]
    },
    {
     "data": {
      "image/png": "[encoded data removed]"
     },
     "metadata": {},
     "output_type": "display_data"
    }
   ],
   "source": [
    "print(autos['date_crawled'].str[:10].unique().size) #counts the unique crawl dates\n",
    "date_crawled = (autos['date_crawled']\n",
    "                     .str[:10]\n",
    "                     .value_counts(normalize=True, dropna=False)\n",
    "                     .round(3)\n",
    "                     .sort_index()\n",
    "                )\n",
    "\n",
    "# use tabulate to print a pretty table\n",
    "print(tabulate(date_crawled.to_frame(),headers=['Date','% crawled'], tablefmt='psql'))\n",
    "\n",
    "# visualize data\n",
    "fig = px.line(x=date_crawled.index, y=date_crawled.values, template='plotly_white', \n",
    "              title='Ads Crawled Per Day (March - April 2016)')\n",
    "\n",
    "fig.update_xaxes(nticks=34, title='Date',showgrid=False, ticks='outside', linecolor='black')\n",
    "fig.update_yaxes(title='Ads crawled (% of Total)',showgrid=False, linecolor='black')\n",
    "fig.update_layout(font_size = 12, font_family='Arial')\n",
    "fig.show('png', width=1000)"
   ]
  },
  {
   "cell_type": "markdown",
   "id": "d1544201",
   "metadata": {},
   "source": [
    "#### Observations\n",
    "- *It appears the crawler collected information from the site everyday between March 5, 2016 and April 7, 2016, a period of 34 days.*\n",
    "- *Some occassional drops can be observed on some weekend days in March (6th, 13th, 18th); and the last 3 days in April. However, the number of ads crawled seem evenly distributed overall.*\n",
    "\n",
    "### 2. Ad Created"
   ]
  },
  {
   "cell_type": "code",
   "execution_count": 22,
   "id": "cad67bac",
   "metadata": {},
   "outputs": [
    {
     "name": "stdout",
     "output_type": "stream",
     "text": [
      "Earliest Date 2015-08-10    0.000022\n",
      "Name: ad_created, dtype: float64\n",
      "\n",
      "Last Date 2016-04-07    0.001183\n",
      "Name: ad_created, dtype: float64\n"
     ]
    },
    {
     "data": {
      "image/png": "[encoded data removed]"
     },
     "metadata": {},
     "output_type": "display_data"
    }
   ],
   "source": [
    "ad_created = (autos['ad_created']\n",
    "                 .str[:10]\n",
    "                 .value_counts(normalize=True, dropna=False)\n",
    "                 .sort_index()\n",
    "             )\n",
    "\n",
    "# Examine the earliest and last ad created dates.\n",
    "print('Earliest Date', ad_created.head(1))\n",
    "print('')\n",
    "print('Last Date', ad_created.tail(1))\n",
    "\n",
    "# visualize data\n",
    "fig = px.line(x=ad_created.index, y=ad_created.values, template='plotly_white', \n",
    "              title='Ads Created Per Day (August 10 - April 7 2016)')\n",
    "\n",
    "fig.update_xaxes(title='Date',showgrid=False)\n",
    "fig.update_yaxes(title='Ads created(% of Total)',showgrid=False, showline=True)\n",
    "\n",
    "# Label the date where the most notable ad increase occured.\n",
    "fig.add_annotation(x='2016-03-05',y=0.02302195, text= 'March 5',showarrow=True, arrowhead=1,\n",
    "                   bordercolor=\"#c7c7c7\", borderwidth=2,borderpad=4, bgcolor=\"#ff7f0e\")\n",
    "\n",
    "fig.update_layout(font_size = 12, font_family='Arial')\n",
    "fig.show('png', width=1000)"
   ]
  },
  {
   "cell_type": "markdown",
   "id": "3e58aa0c",
   "metadata": {},
   "source": [
    "#### Observations\n",
    "\n",
    "- *It appears that we are dealing with listings created between August 10, 2015, and April 7, 2016.* \n",
    "- *Earlier, there were **very few** listings on the site. This pattern changed, especially on March 5, 2016, when we noticed a massive growth in listings.  The number of listings has remained higher since then.*\n",
    "- *Interestingly, March 5, 2016, was also the exact date when the crawler crawled the first group of ads from the website.*\n",
    "\n",
    "### 3. Last Seen"
   ]
  },
  {
   "cell_type": "code",
   "execution_count": 23,
   "id": "ab8ee0ac",
   "metadata": {},
   "outputs": [
    {
     "name": "stdout",
     "output_type": "stream",
     "text": [
      "+------------+--------------+\n",
      "| Date       |   last_seen% |\n",
      "|------------+--------------|\n",
      "| 2016-03-05 |        0.001 |\n",
      "| 2016-03-06 |        0.005 |\n",
      "| 2016-03-07 |        0.006 |\n",
      "| 2016-03-08 |        0.008 |\n",
      "| 2016-03-09 |        0.01  |\n",
      "| 2016-03-10 |        0.011 |\n",
      "| 2016-03-11 |        0.013 |\n",
      "| 2016-03-12 |        0.025 |\n",
      "| 2016-03-13 |        0.009 |\n",
      "| 2016-03-14 |        0.013 |\n",
      "| 2016-03-15 |        0.016 |\n",
      "| 2016-03-16 |        0.017 |\n",
      "| 2016-03-17 |        0.029 |\n",
      "| 2016-03-18 |        0.008 |\n",
      "| 2016-03-19 |        0.016 |\n",
      "| 2016-03-20 |        0.021 |\n",
      "| 2016-03-21 |        0.021 |\n",
      "| 2016-03-22 |        0.022 |\n",
      "| 2016-03-23 |        0.019 |\n",
      "| 2016-03-24 |        0.02  |\n",
      "| 2016-03-25 |        0.02  |\n",
      "| 2016-03-26 |        0.017 |\n",
      "| 2016-03-27 |        0.016 |\n",
      "| 2016-03-28 |        0.022 |\n",
      "| 2016-03-29 |        0.023 |\n",
      "| 2016-03-30 |        0.025 |\n",
      "| 2016-03-31 |        0.024 |\n",
      "| 2016-04-01 |        0.023 |\n",
      "| 2016-04-02 |        0.025 |\n",
      "| 2016-04-03 |        0.026 |\n",
      "| 2016-04-04 |        0.025 |\n",
      "| 2016-04-05 |        0.121 |\n",
      "| 2016-04-06 |        0.214 |\n",
      "| 2016-04-07 |        0.126 |\n",
      "+------------+--------------+\n"
     ]
    },
    {
     "data": {
      "image/png": "[encoded data removed]"
     },
     "metadata": {},
     "output_type": "display_data"
    }
   ],
   "source": [
    "last_seen = (autos['last_seen']\n",
    "                 .str[:10]\n",
    "                 .value_counts(normalize=True, dropna=False)\n",
    "                 .round(3)\n",
    "                 .sort_index()\n",
    "            )\n",
    "\n",
    "# pretty print date with tabulate\n",
    "print(tabulate(last_seen.to_frame(),headers=['Date','last_seen%'], tablefmt='psql'))\n",
    "\n",
    "# visualise data\n",
    "fig = px.line(x=last_seen.index, y=last_seen.values, template='plotly_white', \n",
    "              title='Ads Crawled Per Day (March - April 2016)')\n",
    "fig.update_xaxes(nticks=34, title='Date',showgrid=False, ticks='outside', linecolor='black')\n",
    "fig.update_yaxes(title='Ads crawled (% of Total)',showgrid=False, linecolor='black')\n",
    "fig.update_layout(font_size = 12, font_family='Arial')\n",
    "fig.show('png', width=1000)"
   ]
  },
  {
   "cell_type": "markdown",
   "id": "9cada507",
   "metadata": {},
   "source": [
    "#### Observations\n",
    "\n",
    "- *Since we know that the crawler also added the last seen information, it makes sense that the last seen column shows the same 34-day time period as the date crawled (March 5, 2016 and April 7, 2016).*\n",
    "- *The number of last seen ads were relatively uniform throughout the crawling period. However, it appears that the crawler noticed an increase in ad disappearances in the final few days (April 5 - April 7, 2016).*\n",
    "- *This may give bits of insight into the crawlers activity. We can assume the crawlers daily routine: The crawler visits the site, collects information on different ads, then records the date crawled and last seen information for various ads.*\n",
    "\n",
    "### 4. Registration Year"
   ]
  },
  {
   "cell_type": "code",
   "execution_count": 24,
   "id": "ac3afc96",
   "metadata": {},
   "outputs": [
    {
     "data": {
      "text/plain": [
       "count    44795.00000\n",
       "mean      2003.97339\n",
       "std         74.81955\n",
       "min       1000.00000\n",
       "25%       1999.00000\n",
       "50%       2003.00000\n",
       "75%       2007.00000\n",
       "max       9999.00000\n",
       "Name: registration_year, dtype: float64"
      ]
     },
     "execution_count": 24,
     "metadata": {},
     "output_type": "execute_result"
    }
   ],
   "source": [
    "autos['registration_year'].describe()"
   ]
  },
  {
   "cell_type": "markdown",
   "id": "a30a248d",
   "metadata": {},
   "source": [
    "#### Observations\n",
    "\n",
    "- ***The registration year column contains some unexpected values:***\n",
    "    - *The minimum value is 1000, this is long before 1885 when cars were invented.*\n",
    "    - *The maximum value is 9999, many years into the future. We are also aware that the listings were last seen by the crawler in 2016. A car can't be first registered after its listing has been seen.* \n",
    "\n",
    "Determining the earliest valid year can be challenging. However since we know that cars were invented in 1885, we can use the first few decades of 1900s as our lower cut off point. At the higher end, any record with registration year above 2016 is definitely inaccurate. \n",
    "\n",
    "Before we eliminate these rows, let's count the number of listings with cars that fall outside the 1900 - 2016 registration year and see if it's safe to remove these rows entirely without impacting our analysis too much."
   ]
  },
  {
   "cell_type": "code",
   "execution_count": 25,
   "id": "df5f72f0",
   "metadata": {},
   "outputs": [
    {
     "name": "stdout",
     "output_type": "stream",
     "text": [
      "The invalid years constitute 4.1% of the total data\n"
     ]
    }
   ],
   "source": [
    "invalid_rows = (~(autos['registration_year'].between(1900, 2016))).sum()\n",
    "total_rows = autos['registration_year'].shape[0]\n",
    "percentage_invalid = invalid_rows/total_rows\n",
    "\n",
    "print('The invalid years constitute {:.1f}% of the total data'.format(percentage_invalid * 100))"
   ]
  },
  {
   "cell_type": "markdown",
   "id": "850e18af",
   "metadata": {},
   "source": [
    "Since these years constitute only 4.1% of our total data. We can safely eliminate these records from our analysis:"
   ]
  },
  {
   "cell_type": "code",
   "execution_count": 26,
   "id": "9186bd27",
   "metadata": {},
   "outputs": [
    {
     "data": {
      "image/png": "[encoded data removed]"
     },
     "metadata": {},
     "output_type": "display_data"
    }
   ],
   "source": [
    "autos = autos[autos['registration_year'].between(1900, 2016)]\n",
    "\n",
    "years = (autos['registration_year']\n",
    "         .value_counts(normalize=True)\n",
    "         .sort_values(ascending=False)\n",
    "    )\n",
    "\n",
    "fig = px.histogram(x=years.index, y=years.values, nbins=30,\n",
    "                   title='Distributions of cars registered between 1900 and 2016',\n",
    "                   template='plotly_white')\n",
    "\n",
    "fig.update_traces(marker_color='#ff6347')\n",
    "fig.update_xaxes(nticks=20,title='Years', showline=True, linewidth=2, linecolor='black', ticks='outside')\n",
    "fig.update_yaxes(title='% of Registrations')\n",
    "fig.update_layout(font_size = 12, font_family='Arial')\n",
    "fig.show('png', width=1000)"
   ]
  },
  {
   "cell_type": "markdown",
   "id": "fa40f494",
   "metadata": {},
   "source": [
    "#### Observations\n",
    "\n",
    "- *It appears that most of the vehicles were registered between 1990 and 2010. Only a small proportion of listed cars were registered before 1990.*\n",
    "\n",
    "### 5. Registration Month"
   ]
  },
  {
   "cell_type": "code",
   "execution_count": 27,
   "id": "88ccdf6d",
   "metadata": {},
   "outputs": [
    {
     "data": {
      "text/plain": [
       "count    42959.000000\n",
       "mean         5.791918\n",
       "std          3.691957\n",
       "min          0.000000\n",
       "25%          3.000000\n",
       "50%          6.000000\n",
       "75%          9.000000\n",
       "max         12.000000\n",
       "Name: registration_month, dtype: float64"
      ]
     },
     "execution_count": 27,
     "metadata": {},
     "output_type": "execute_result"
    }
   ],
   "source": [
    "autos['registration_month'].describe()"
   ]
  },
  {
   "cell_type": "markdown",
   "id": "a8e7c57e",
   "metadata": {},
   "source": [
    "#### Observations:\n",
    "\n",
    "- *Since the lowest value is set at 0 (presumably denoting January), we would expect the highest value to be at 11 (denoting December). However the highest value we see here is 12. This is quite unexpected.*\n",
    "\n",
    "We will probe into this further:"
   ]
  },
  {
   "cell_type": "code",
   "execution_count": 28,
   "id": "dccce63e",
   "metadata": {},
   "outputs": [
    {
     "data": {
      "text/plain": [
       "0     0.092344\n",
       "1     0.065760\n",
       "2     0.060500\n",
       "3     0.103308\n",
       "4     0.082846\n",
       "5     0.083405\n",
       "6     0.087479\n",
       "7     0.077679\n",
       "8     0.064527\n",
       "9     0.068624\n",
       "10    0.074932\n",
       "11    0.068111\n",
       "12    0.070486\n",
       "Name: registration_month, dtype: float64"
      ]
     },
     "execution_count": 28,
     "metadata": {},
     "output_type": "execute_result"
    }
   ],
   "source": [
    "(autos['registration_month']\n",
    "     .value_counts(normalize=True)\n",
    "     .sort_index()\n",
    "    \n",
    ")"
   ]
  },
  {
   "cell_type": "markdown",
   "id": "454d1c2b",
   "metadata": {},
   "source": [
    "#### Observations\n",
    "\n",
    "- **_This looks a bit more challenging:_**\n",
    "    - *The months are evenly distributed. Hence it would not be a good idea to remove any month in favor of the others*\n",
    "    - *No month is erroneously skipped, which further complicates what 0 and 12 are supposed to represent.*\n",
    "\n",
    "Since it is unclear where the error is from, we will drop the `registration_month` column as it could compromise our analysis:"
   ]
  },
  {
   "cell_type": "code",
   "execution_count": 29,
   "id": "03bae380",
   "metadata": {},
   "outputs": [
    {
     "data": {
      "text/plain": [
       "(42959, 16)"
      ]
     },
     "execution_count": 29,
     "metadata": {},
     "output_type": "execute_result"
    }
   ],
   "source": [
    "autos = autos.drop('registration_month', axis=1)\n",
    "autos.shape"
   ]
  },
  {
   "cell_type": "markdown",
   "id": "d5a3565b",
   "metadata": {},
   "source": [
    "## Data Analysis\n",
    "\n",
    "## Exploring Price by Brand\n",
    "\n",
    "Lets explore the unique values in the brand column to identify the most common brands in the used car listings:"
   ]
  },
  {
   "cell_type": "code",
   "execution_count": 30,
   "id": "8fbc5b9d",
   "metadata": {},
   "outputs": [
    {
     "name": "stdout",
     "output_type": "stream",
     "text": [
      "+----------------+-----------------+\n",
      "| Brands         |   % of Listings |\n",
      "|----------------+-----------------|\n",
      "| volkswagen     |     0.214763    |\n",
      "| opel           |     0.115203    |\n",
      "| bmw            |     0.103541    |\n",
      "| mercedes_benz  |     0.0881305   |\n",
      "| audi           |     0.0775623   |\n",
      "| ford           |     0.0730929   |\n",
      "| renault        |     0.0507693   |\n",
      "| peugeot        |     0.0321702   |\n",
      "| fiat           |     0.0277474   |\n",
      "| seat           |     0.019088    |\n",
      "| skoda          |     0.0169929   |\n",
      "| mazda          |     0.0160851   |\n",
      "| nissan         |     0.0157825   |\n",
      "| smart          |     0.0153635   |\n",
      "| citroen        |     0.0150376   |\n",
      "| toyota         |     0.0133616   |\n",
      "| hyundai        |     0.0105449   |\n",
      "| volvo          |     0.00933448  |\n",
      "| mitsubishi     |     0.00870598  |\n",
      "| sonstige_autos |     0.00849647  |\n",
      "| honda          |     0.00833353  |\n",
      "| mini           |     0.00775158  |\n",
      "| alfa_romeo     |     0.00700668  |\n",
      "| kia            |     0.00696012  |\n",
      "| suzuki         |     0.00637817  |\n",
      "| chevrolet      |     0.00574967  |\n",
      "| chrysler       |     0.00374776  |\n",
      "| dacia          |     0.0028632   |\n",
      "| daihatsu       |     0.00272353  |\n",
      "| subaru         |     0.00221141  |\n",
      "| jeep           |     0.00200191  |\n",
      "| porsche        |     0.00188552  |\n",
      "| saab           |     0.00176913  |\n",
      "| daewoo         |     0.00162946  |\n",
      "| trabant        |     0.00151307  |\n",
      "| rover          |     0.00141996  |\n",
      "| land_rover     |     0.00130357  |\n",
      "| jaguar         |     0.00123373  |\n",
      "| lancia         |     0.00111734  |\n",
      "| lada           |     0.000628506 |\n",
      "+----------------+-----------------+\n"
     ]
    },
    {
     "data": {
      "image/png": "[encoded data removed]"
     },
     "metadata": {},
     "output_type": "display_data"
    }
   ],
   "source": [
    "# compute the relative proportions of each brand\n",
    "brands = autos['brand'].value_counts(normalize=True)\n",
    "\n",
    "# Extract the top-10 for visualization purposes\n",
    "top_10 = brands.head(10).round(2)\n",
    "\n",
    "print(tabulate(brands.to_frame(), headers=['Brands', '% of Listings'], tablefmt='psql'))\n",
    "\n",
    "fig = px.bar(x=top_10.index, y=top_10.values, text=top_10.values,\n",
    "             template='plotly_white', title='Most Common Brands on the Listings (Top 10)')\n",
    "\n",
    "fig.update_xaxes(title='Brand Name', showline=True, linewidth=2, linecolor='black')\n",
    "fig.update_yaxes(title='Fraction of Total Listings',showgrid=False, showline=True, showticklabels=False)\n",
    "fig.update_layout(font_size = 12, font_family='Arial')\n",
    "fig.show('png', width=1000)"
   ]
  },
  {
   "cell_type": "markdown",
   "id": "6d829ddb",
   "metadata": {},
   "source": [
    "#### Observations:\n",
    "\n",
    "- *The most popular brands are Volkswagen (21%). Opel (about 12%), BMW (10%), Mercedes Benz (9%) and Audi (8%). Ford (7%) and Renaut (5%) follow behind respectively.* \n",
    "- *If we summed these percentages, we would find out that these top 7 brands constitute about 72% of the total population of listed brands. Other brands constitute a combined 28%.* \n",
    "- *The top 5 brands are German (Volkswagen, Opel, BMW, Mercedes and Audi). They constitute about 50% of all car listings*\n",
    "\n",
    "We will limit our analysis to brands representing more than 5% of the total. Interestingly, only the top 7 brands meet this criterion."
   ]
  },
  {
   "cell_type": "code",
   "execution_count": 31,
   "id": "c9f96c9f",
   "metadata": {},
   "outputs": [
    {
     "data": {
      "text/plain": [
       "Index(['volkswagen', 'opel', 'bmw', 'mercedes_benz', 'audi', 'ford',\n",
       "       'renault'],\n",
       "      dtype='object')"
      ]
     },
     "execution_count": 31,
     "metadata": {},
     "output_type": "execute_result"
    }
   ],
   "source": [
    "# extract the names of the top 7 brands\n",
    "top_brands = (autos['brand']\n",
    "                  .value_counts()\n",
    "                  .head(7)\n",
    "                  .index\n",
    "             )\n",
    "\n",
    "top_brands"
   ]
  },
  {
   "cell_type": "markdown",
   "id": "84adba86",
   "metadata": {},
   "source": [
    "Next, let's compute and compare the average prices of cars in the top 7 brands:"
   ]
  },
  {
   "cell_type": "code",
   "execution_count": 32,
   "id": "bb60b8a2",
   "metadata": {},
   "outputs": [
    {
     "name": "stdout",
     "output_type": "stream",
     "text": [
      "+---------------+-----------------+\n",
      "| Brands        |   Average price |\n",
      "|---------------+-----------------|\n",
      "| audi          |            5703 |\n",
      "| bmw           |            5649 |\n",
      "| mercedes_benz |            5259 |\n",
      "| volkswagen    |            4183 |\n",
      "| ford          |            2944 |\n",
      "| opel          |            2712 |\n",
      "| renault       |            2281 |\n",
      "+---------------+-----------------+\n"
     ]
    },
    {
     "data": {
      "image/png": "[encoded data removed]"
     },
     "metadata": {},
     "output_type": "display_data"
    }
   ],
   "source": [
    "aggregate_price = {}\n",
    "\n",
    "for brand in top_brands:\n",
    "    \n",
    "    prices = autos['usd_price'][autos['brand'] == brand]\n",
    "    mean_price = prices.mean()\n",
    "    aggregate_price[brand] = int(mean_price)\n",
    "    \n",
    "# convert dictionary to a pandas series for easy printing and manipulation\n",
    "price_series = pd.Series(aggregate_price) \n",
    "price_series = price_series.sort_values(ascending=False)\n",
    "\n",
    "\n",
    "print(tabulate(price_series.to_frame(), headers=['Brands', 'Average price'], tablefmt='psql'))\n",
    "\n",
    "fig = px.bar(x=price_series.index, y=price_series.values, text=price_series.values,\n",
    "             template='plotly_white', title='Average Price Across the Top 7 Brands')\n",
    "\n",
    "fig.update_xaxes(title='Brand Name', showgrid=False, showline=True, linewidth=2, linecolor='black')\n",
    "fig.update_yaxes(title='Average price in USD',showgrid=False, showline=True, showticklabels=True,\n",
    "                ticks='outside', tickprefix='$')\n",
    "fig.update_layout(font_size = 12, font_family='Arial')\n",
    "fig.update_traces(textposition='outside')\n",
    "fig.show('png', width=900)"
   ]
  },
  {
   "cell_type": "markdown",
   "id": "af09ffef",
   "metadata": {},
   "source": [
    "#### Observations\n",
    "\n",
    "- *Asides from Opel, the German brands (Volkswagen, BMW, Mercedes and Audi) seem more expensive on average than the American or French ones.*\n",
    "- *The average price for Volkwagen seems to be at the middle point of all these prices, offering an interesting balance between its popularity and price.*\n",
    "\n",
    "## The Top 7 Brands - Exploring Mileage\n",
    "\n",
    "For the top 7 brands, we will use aggregation to understand the average mileage for those cars and if there's any visible link with mean price. Rather than display both aggregated series objects and visually compare them, we will combine the data from both series objects into a single dataframe (with a shared index) and display the dataframe directly.\n",
    "\n",
    "We have already converted our `aggregate_price` dictionary into the Pandas series object - `price_series` using the `pd.Series()` constructor. Next we will convert the series object into a Dataframe using the `pd.DataFrame()` constructor:"
   ]
  },
  {
   "cell_type": "code",
   "execution_count": 33,
   "id": "55ebc135",
   "metadata": {},
   "outputs": [
    {
     "data": {
      "text/html": [
       "<div>\n",
       "<style scoped>\n",
       "    .dataframe tbody tr th:only-of-type {\n",
       "        vertical-align: middle;\n",
       "    }\n",
       "\n",
       "    .dataframe tbody tr th {\n",
       "        vertical-align: top;\n",
       "    }\n",
       "\n",
       "    .dataframe thead th {\n",
       "        text-align: right;\n",
       "    }\n",
       "</style>\n",
       "<table border=\"1\" class=\"dataframe\">\n",
       "  <thead>\n",
       "    <tr style=\"text-align: right;\">\n",
       "      <th></th>\n",
       "      <th>mean_price_usd</th>\n",
       "    </tr>\n",
       "  </thead>\n",
       "  <tbody>\n",
       "    <tr>\n",
       "      <th>audi</th>\n",
       "      <td>5703</td>\n",
       "    </tr>\n",
       "    <tr>\n",
       "      <th>bmw</th>\n",
       "      <td>5649</td>\n",
       "    </tr>\n",
       "    <tr>\n",
       "      <th>mercedes_benz</th>\n",
       "      <td>5259</td>\n",
       "    </tr>\n",
       "    <tr>\n",
       "      <th>volkswagen</th>\n",
       "      <td>4183</td>\n",
       "    </tr>\n",
       "    <tr>\n",
       "      <th>ford</th>\n",
       "      <td>2944</td>\n",
       "    </tr>\n",
       "    <tr>\n",
       "      <th>opel</th>\n",
       "      <td>2712</td>\n",
       "    </tr>\n",
       "    <tr>\n",
       "      <th>renault</th>\n",
       "      <td>2281</td>\n",
       "    </tr>\n",
       "  </tbody>\n",
       "</table>\n",
       "</div>"
      ],
      "text/plain": [
       "               mean_price_usd\n",
       "audi                     5703\n",
       "bmw                      5649\n",
       "mercedes_benz            5259\n",
       "volkswagen               4183\n",
       "ford                     2944\n",
       "opel                     2712\n",
       "renault                  2281"
      ]
     },
     "execution_count": 33,
     "metadata": {},
     "output_type": "execute_result"
    }
   ],
   "source": [
    "price_df = pd.DataFrame(data = price_series, columns = ['mean_price_usd'])\n",
    "price_df"
   ]
  },
  {
   "cell_type": "markdown",
   "id": "75516c25",
   "metadata": {},
   "source": [
    "Lets repeat the same process for the `odometer_km` column. We will calculate the average mileage of the cars in the top 7 brands, then construct Series and Dataframe objects from our results."
   ]
  },
  {
   "cell_type": "code",
   "execution_count": 34,
   "id": "83bbccef",
   "metadata": {},
   "outputs": [
    {
     "data": {
      "text/html": [
       "<div>\n",
       "<style scoped>\n",
       "    .dataframe tbody tr th:only-of-type {\n",
       "        vertical-align: middle;\n",
       "    }\n",
       "\n",
       "    .dataframe tbody tr th {\n",
       "        vertical-align: top;\n",
       "    }\n",
       "\n",
       "    .dataframe thead th {\n",
       "        text-align: right;\n",
       "    }\n",
       "</style>\n",
       "<table border=\"1\" class=\"dataframe\">\n",
       "  <thead>\n",
       "    <tr style=\"text-align: right;\">\n",
       "      <th></th>\n",
       "      <th>mean_mileage_km</th>\n",
       "    </tr>\n",
       "  </thead>\n",
       "  <tbody>\n",
       "    <tr>\n",
       "      <th>volkswagen</th>\n",
       "      <td>132813</td>\n",
       "    </tr>\n",
       "    <tr>\n",
       "      <th>opel</th>\n",
       "      <td>130500</td>\n",
       "    </tr>\n",
       "    <tr>\n",
       "      <th>bmw</th>\n",
       "      <td>138833</td>\n",
       "    </tr>\n",
       "    <tr>\n",
       "      <th>mercedes_benz</th>\n",
       "      <td>138411</td>\n",
       "    </tr>\n",
       "    <tr>\n",
       "      <th>audi</th>\n",
       "      <td>139701</td>\n",
       "    </tr>\n",
       "    <tr>\n",
       "      <th>ford</th>\n",
       "      <td>127004</td>\n",
       "    </tr>\n",
       "    <tr>\n",
       "      <th>renault</th>\n",
       "      <td>128892</td>\n",
       "    </tr>\n",
       "  </tbody>\n",
       "</table>\n",
       "</div>"
      ],
      "text/plain": [
       "               mean_mileage_km\n",
       "volkswagen              132813\n",
       "opel                    130500\n",
       "bmw                     138833\n",
       "mercedes_benz           138411\n",
       "audi                    139701\n",
       "ford                    127004\n",
       "renault                 128892"
      ]
     },
     "execution_count": 34,
     "metadata": {},
     "output_type": "execute_result"
    }
   ],
   "source": [
    "aggregate_mileage = {}\n",
    "\n",
    "for brand in top_brands:\n",
    "    \n",
    "    mileage = autos['odometer_km'][autos['brand'] == brand]\n",
    "    mean_mileage = mileage.mean()\n",
    "    aggregate_mileage[brand] = int(mean_mileage)\n",
    "    \n",
    "mileage_series = pd.Series(aggregate_mileage)    \n",
    "mileage_df = pd.DataFrame(data = mileage_series, columns = ['mean_mileage_km'])\n",
    "\n",
    "mileage_df"
   ]
  },
  {
   "cell_type": "markdown",
   "id": "2355be25",
   "metadata": {},
   "source": [
    "Finally, we will join the average price and mileage dataframes together to enable us compare their results at a glance. One way we can do this is by assigning `mileage_series` to a new column in the price dataframe:"
   ]
  },
  {
   "cell_type": "code",
   "execution_count": 35,
   "id": "e1ba92e2",
   "metadata": {},
   "outputs": [
    {
     "name": "stdout",
     "output_type": "stream",
     "text": [
      "+---------------+------------------+-------------------+\n",
      "|               |   mean_price_usd |   mean_mileage_km |\n",
      "|---------------+------------------+-------------------|\n",
      "| audi          |             5703 |            139701 |\n",
      "| bmw           |             5649 |            138833 |\n",
      "| mercedes_benz |             5259 |            138411 |\n",
      "| volkswagen    |             4183 |            132813 |\n",
      "| opel          |             2712 |            130500 |\n",
      "| renault       |             2281 |            128892 |\n",
      "| ford          |             2944 |            127004 |\n",
      "+---------------+------------------+-------------------+\n"
     ]
    },
    {
     "data": {
      "image/png": "[encoded data removed]"
     },
     "metadata": {},
     "output_type": "display_data"
    }
   ],
   "source": [
    "price_df['mean_mileage_km'] = mileage_series\n",
    "price_df=price_df.sort_values(by='mean_mileage_km', ascending=False)\n",
    "\n",
    "print(tabulate(price_df, headers='keys', tablefmt='psql'))\n",
    "\n",
    "# Visualize results\n",
    "fig = make_subplots(rows=1, cols=2, horizontal_spacing=0.2)\n",
    "\n",
    "fig.add_trace((go.Bar(y=price_df.index, x=price_df['mean_price_usd'], orientation='h',\n",
    "                      name='mean_price_usd'\n",
    "                     )\n",
    "              ), row=1, col=1)\n",
    "\n",
    "fig.add_trace((go.Bar(y=price_df.index, x=price_df['mean_mileage_km'], orientation='h',\n",
    "                      name='mean_mileage_km'\n",
    "                     )\n",
    "              ), row=1, col=2)\n",
    "\n",
    "fig.update_layout(template = 'plotly_white', title_text= 'Average Price and Mileage Across the Top 7 Brands',\n",
    "                 height=500, font_size = 12, font_family='Arial')\n",
    "\n",
    "fig.update_yaxes(showline=True, linewidth=1, linecolor='black', mirror=True)\n",
    "fig.update_xaxes(showline=True, linewidth=1, linecolor='black', mirror=True)\n",
    "fig.update_xaxes(tickprefix='$',row=1, col=1, title='Average Price')\n",
    "fig.update_xaxes(row=1, col=2, title='Average Mileage (km)')\n",
    "fig.show('png', width=1100)"
   ]
  },
  {
   "cell_type": "markdown",
   "id": "37d03ab2",
   "metadata": {},
   "source": [
    "#### Observations\n",
    "\n",
    "- *We would expect car prices to fall as mileage increases. However this is not the case here as we notice the more expensive vehicles having higher mileage, and the cheaper ones recording lower mileages.*\n",
    "- *We see Volkswagen at the median of the mileage values again. Could its popularity on the listings be perhaps attributable to its balance in price and mileage?*\n",
    "\n",
    "## Popular Brand Model Combinations\n",
    "\n",
    "We already have information on the most common brands. It would be interesting to know which particular models contribute to the brand's popularity on the listings.\n",
    "\n",
    "Panda has a handy `.groupby()` method that enables us to group large amounts of data from a dataframe then compute aggregations on these groups. Our action will be a simple two-step process:\n",
    "\n",
    "- First, we will extract the two columns of interest (`brand` and `model`) from our dataframe.\n",
    "\n",
    "- Next, we will group the distinct occurrence of each brand and model using the `.groupby` method, then compute aggregations of each model's frequency:"
   ]
  },
  {
   "cell_type": "code",
   "execution_count": 36,
   "id": "6c58ed1c",
   "metadata": {},
   "outputs": [
    {
     "data": {
      "text/plain": [
       "brand       model   \n",
       "alfa_romeo  145          4\n",
       "            147         80\n",
       "            156         88\n",
       "            159         32\n",
       "            andere      55\n",
       "                        ..\n",
       "volvo       v40         85\n",
       "            v50         29\n",
       "            v60          1\n",
       "            v70         89\n",
       "            xc_reihe    33\n",
       "Name: model, Length: 285, dtype: int64"
      ]
     },
     "execution_count": 36,
     "metadata": {},
     "output_type": "execute_result"
    }
   ],
   "source": [
    "# extract the relevant columns from the autos dataframe\n",
    "brand_model = autos[['brand','model']]\n",
    "\n",
    "brand_model_grouped = (brand_model\n",
    "                           .groupby(['brand','model']) # select distinct occurences of each brand and model\n",
    "                           ['model'].count() # count the distinct models within each brand\n",
    "                      )\n",
    "\n",
    "brand_model_grouped"
   ]
  },
  {
   "cell_type": "markdown",
   "id": "d0101d94",
   "metadata": {},
   "source": [
    "Our results do not look attractive to read. By default, the `.groupby()` method returns a series with the grouped columns as a multi-index. We will push the grouped columns back into dataframe columns by resetting the indices to obtain easy-to-read results. We can also assign an appropriate name to our aggregate column:"
   ]
  },
  {
   "cell_type": "code",
   "execution_count": 37,
   "id": "426c02b2",
   "metadata": {},
   "outputs": [
    {
     "data": {
      "text/html": [
       "<div>\n",
       "<style scoped>\n",
       "    .dataframe tbody tr th:only-of-type {\n",
       "        vertical-align: middle;\n",
       "    }\n",
       "\n",
       "    .dataframe tbody tr th {\n",
       "        vertical-align: top;\n",
       "    }\n",
       "\n",
       "    .dataframe thead th {\n",
       "        text-align: right;\n",
       "    }\n",
       "</style>\n",
       "<table border=\"1\" class=\"dataframe\">\n",
       "  <thead>\n",
       "    <tr style=\"text-align: right;\">\n",
       "      <th></th>\n",
       "      <th>brand</th>\n",
       "      <th>model</th>\n",
       "      <th>count</th>\n",
       "    </tr>\n",
       "  </thead>\n",
       "  <tbody>\n",
       "    <tr>\n",
       "      <th>0</th>\n",
       "      <td>alfa_romeo</td>\n",
       "      <td>145</td>\n",
       "      <td>4</td>\n",
       "    </tr>\n",
       "    <tr>\n",
       "      <th>1</th>\n",
       "      <td>alfa_romeo</td>\n",
       "      <td>147</td>\n",
       "      <td>80</td>\n",
       "    </tr>\n",
       "    <tr>\n",
       "      <th>2</th>\n",
       "      <td>alfa_romeo</td>\n",
       "      <td>156</td>\n",
       "      <td>88</td>\n",
       "    </tr>\n",
       "    <tr>\n",
       "      <th>3</th>\n",
       "      <td>alfa_romeo</td>\n",
       "      <td>159</td>\n",
       "      <td>32</td>\n",
       "    </tr>\n",
       "    <tr>\n",
       "      <th>4</th>\n",
       "      <td>alfa_romeo</td>\n",
       "      <td>andere</td>\n",
       "      <td>55</td>\n",
       "    </tr>\n",
       "  </tbody>\n",
       "</table>\n",
       "</div>"
      ],
      "text/plain": [
       "        brand   model  count\n",
       "0  alfa_romeo     145      4\n",
       "1  alfa_romeo     147     80\n",
       "2  alfa_romeo     156     88\n",
       "3  alfa_romeo     159     32\n",
       "4  alfa_romeo  andere     55"
      ]
     },
     "execution_count": 37,
     "metadata": {},
     "output_type": "execute_result"
    }
   ],
   "source": [
    "# reset multi-index series to dataframe and assign a name to the aggregate column\n",
    "brand_model_grouped = brand_model_grouped.reset_index(name='count') \n",
    "brand_model_grouped.head(5)"
   ]
  },
  {
   "cell_type": "markdown",
   "id": "c352df06",
   "metadata": {},
   "source": [
    "This already looks much better, but we only need information on the most popular cars. We need to sort the entire dataframe in descending order based on the values in the `counts` column:"
   ]
  },
  {
   "cell_type": "code",
   "execution_count": 38,
   "id": "96077288",
   "metadata": {},
   "outputs": [
    {
     "name": "stdout",
     "output_type": "stream",
     "text": [
      "+-----+---------------+----------+---------+\n",
      "|     | brand         | model    |   count |\n",
      "|-----+---------------+----------+---------|\n",
      "| 262 | volkswagen    | golf     |    3487 |\n",
      "|  22 | bmw           | 3er      |    2431 |\n",
      "| 268 | volkswagen    | polo     |    1604 |\n",
      "| 179 | opel          | corsa    |    1589 |\n",
      "| 176 | opel          | astra    |    1339 |\n",
      "| 266 | volkswagen    | passat   |    1299 |\n",
      "|  13 | audi          | a4       |    1126 |\n",
      "| 140 | mercedes_benz | c_klasse |    1005 |\n",
      "|  23 | bmw           | 5er      |     991 |\n",
      "| 143 | mercedes_benz | e_klasse |     813 |\n",
      "|  81 | ford          | focus    |     747 |\n",
      "|  12 | audi          | a3       |     720 |\n",
      "|  80 | ford          | fiesta   |     718 |\n",
      "|  15 | audi          | a6       |     699 |\n",
      "| 208 | renault       | twingo   |     615 |\n",
      "+-----+---------------+----------+---------+\n"
     ]
    },
    {
     "data": {
      "image/png": "[encoded data removed]"
     },
     "metadata": {},
     "output_type": "display_data"
    }
   ],
   "source": [
    "table = brand_model_grouped.sort_values(by='count', axis=0, ascending=False).head(15)\n",
    "\n",
    "print(tabulate(table, headers='keys', tablefmt='psql'))\n",
    "\n",
    "fig = px.bar(table, x='brand', y='count', color='brand', text='model',\n",
    "             title= 'Most Popular Brand Model combinations')\n",
    "\n",
    "fig.update_xaxes(title='Brand Name', showgrid=False, showline=True, linewidth=2, linecolor='black')\n",
    "fig.update_yaxes(title='Count of model',showgrid=False, showline=True)\n",
    "fig.update_layout(font_size = 12, template='plotly_white', font_family='Arial')\n",
    "fig.show('png', width=1000)"
   ]
  },
  {
   "cell_type": "markdown",
   "id": "e14c5499",
   "metadata": {},
   "source": [
    "#### Observations\n",
    "- **_We'd immediately notice the agreement of this pattern with what we observed in the brands. Volkswagen, Opel, BMW, Mercedes Benz, Audi, Ford, and Renaut remain the top brands:_**\n",
    "    - *The most popular Volkswagen models are the Golf, Polo and Passat.*\n",
    "    - *The most popular BMW models are the 3er and 5er series.*\n",
    "    - *The most popular Opel models are Corsa and Astra.*\n",
    "    - *Audi is popular with their A-series models (a4, a3 and a6)*\n",
    "    - *Mercedes is popular with the c and e class cars*\n",
    "    - *Ford is popular with its focus and fiesta models while the most popular Renault model is the Twingo*\n",
    "    \n",
    "## Does Mileage Influence Price?\n",
    "\n",
    "Let's explore how odometer readings influence the average price of a listed car. We will divide our odometer readings into intervals then inspect for any interesting price patterns as mileage increases. Let's examine the unique values in `odometer_km`:"
   ]
  },
  {
   "cell_type": "code",
   "execution_count": 39,
   "id": "04763a4a",
   "metadata": {},
   "outputs": [
    {
     "data": {
      "text/plain": [
       "[5000,\n",
       " 10000,\n",
       " 20000,\n",
       " 30000,\n",
       " 40000,\n",
       " 50000,\n",
       " 60000,\n",
       " 70000,\n",
       " 80000,\n",
       " 90000,\n",
       " 100000,\n",
       " 125000,\n",
       " 150000]"
      ]
     },
     "execution_count": 39,
     "metadata": {},
     "output_type": "execute_result"
    }
   ],
   "source": [
    "sorted(autos['odometer_km'].unique())"
   ]
  },
  {
   "cell_type": "markdown",
   "id": "116321e0",
   "metadata": {},
   "source": [
    "There are not many unique values in this column, and it appears that the data in this column are round to the nearest thousands. We can split our odometer readings into seven intervals as follows:\n",
    "\n",
    "```\n",
    "5000km - 10000km\n",
    "20000km - 30000km\n",
    "40000km - 50000km\n",
    "60000km - 70000km\n",
    "80000km - 90000km\n",
    "100000km - 125000km\n",
    "150000km or more\n",
    "```\n",
    "\n",
    "These intervals are few and easy to work with, so we will create a dictionary to hold them:"
   ]
  },
  {
   "cell_type": "code",
   "execution_count": 40,
   "id": "29e36b4b",
   "metadata": {},
   "outputs": [],
   "source": [
    "odometer_groups = {\n",
    "    5000:'5000km - 10000km',\n",
    "    10000:'5000km - 10000km',\n",
    "    20000:'20000km - 30000km',\n",
    "    30000:'20000km - 30000km',\n",
    "    40000:'40000km - 50000km',\n",
    "    50000:'40000km - 50000km',\n",
    "    60000:'60000km - 70000km',\n",
    "    70000:'60000km - 70000km',\n",
    "    80000:'80000km - 90000km',\n",
    "    90000:'80000km - 90000km',\n",
    "    100000:'100000km - 125000km',\n",
    "    125000:'100000km - 125000km',\n",
    "    150000:'150000km or more'\n",
    "}"
   ]
  },
  {
   "cell_type": "markdown",
   "id": "69da3dfe",
   "metadata": {},
   "source": [
    "Let's extract the relevant columnns (`odometer_km` and `usd_price`) into a new variable called *`mileage`*. \n",
    "\n",
    "Next, we can map the values from the `odometer_groups` dictionary into `odometer_km` column. We can use our handy `translate_column()` function to achieve this."
   ]
  },
  {
   "cell_type": "code",
   "execution_count": 41,
   "id": "211221f5",
   "metadata": {},
   "outputs": [
    {
     "data": {
      "text/html": [
       "<div>\n",
       "<style scoped>\n",
       "    .dataframe tbody tr th:only-of-type {\n",
       "        vertical-align: middle;\n",
       "    }\n",
       "\n",
       "    .dataframe tbody tr th {\n",
       "        vertical-align: top;\n",
       "    }\n",
       "\n",
       "    .dataframe thead th {\n",
       "        text-align: right;\n",
       "    }\n",
       "</style>\n",
       "<table border=\"1\" class=\"dataframe\">\n",
       "  <thead>\n",
       "    <tr style=\"text-align: right;\">\n",
       "      <th></th>\n",
       "      <th>odometer_km</th>\n",
       "      <th>usd_price</th>\n",
       "    </tr>\n",
       "  </thead>\n",
       "  <tbody>\n",
       "    <tr>\n",
       "      <th>0</th>\n",
       "      <td>150000km or more</td>\n",
       "      <td>5000</td>\n",
       "    </tr>\n",
       "    <tr>\n",
       "      <th>1</th>\n",
       "      <td>150000km or more</td>\n",
       "      <td>8500</td>\n",
       "    </tr>\n",
       "    <tr>\n",
       "      <th>2</th>\n",
       "      <td>60000km - 70000km</td>\n",
       "      <td>8990</td>\n",
       "    </tr>\n",
       "    <tr>\n",
       "      <th>3</th>\n",
       "      <td>60000km - 70000km</td>\n",
       "      <td>4350</td>\n",
       "    </tr>\n",
       "    <tr>\n",
       "      <th>4</th>\n",
       "      <td>150000km or more</td>\n",
       "      <td>1350</td>\n",
       "    </tr>\n",
       "  </tbody>\n",
       "</table>\n",
       "</div>"
      ],
      "text/plain": [
       "         odometer_km  usd_price\n",
       "0   150000km or more       5000\n",
       "1   150000km or more       8500\n",
       "2  60000km - 70000km       8990\n",
       "3  60000km - 70000km       4350\n",
       "4   150000km or more       1350"
      ]
     },
     "execution_count": 41,
     "metadata": {},
     "output_type": "execute_result"
    }
   ],
   "source": [
    "# extract relevant columns\n",
    "mileage = autos[['odometer_km', 'usd_price']]\n",
    "\n",
    "translate_column(mileage,'odometer_km',odometer_groups)\n",
    "mileage.head()"
   ]
  },
  {
   "cell_type": "markdown",
   "id": "02918636",
   "metadata": {},
   "source": [
    "Our odometer groups have been successfully mapped to the `odometer_km`. Let's use the `groupby()` method to compute the average price in each mileage group:"
   ]
  },
  {
   "cell_type": "code",
   "execution_count": 42,
   "id": "eb52dfc1",
   "metadata": {},
   "outputs": [
    {
     "name": "stdout",
     "output_type": "stream",
     "text": [
      "+----+---------------------+-----------------+\n",
      "|    | odometer_km         |   avg_price_usd |\n",
      "|----+---------------------+-----------------|\n",
      "|  3 | 40000km - 50000km   |            8109 |\n",
      "|  2 | 20000km - 30000km   |            7861 |\n",
      "|  5 | 60000km - 70000km   |            7148 |\n",
      "|  6 | 80000km - 90000km   |            6224 |\n",
      "|  0 | 100000km - 125000km |            5068 |\n",
      "|  4 | 5000km - 10000km    |            3592 |\n",
      "|  1 | 150000km or more    |            3298 |\n",
      "+----+---------------------+-----------------+\n"
     ]
    },
    {
     "data": {
      "image/png": "[encoded data removed]"
     },
     "metadata": {},
     "output_type": "display_data"
    }
   ],
   "source": [
    "price_by_mileage =(mileage.groupby('odometer_km')['usd_price'].mean()\n",
    "                       .reset_index(name='avg_price_usd')\n",
    "                       .sort_values(by='avg_price_usd', axis=0, ascending=False)\n",
    "                  )\n",
    "\n",
    "price_by_mileage['avg_price_usd'] = price_by_mileage['avg_price_usd'].round()\n",
    "\n",
    "# pretty-print price by mileage\n",
    "print(tabulate(price_by_mileage, headers='keys', tablefmt='psql'))\n",
    "\n",
    "# visualize findings\n",
    "fig = px.bar(price_by_mileage, y='odometer_km',\n",
    "             x='avg_price_usd', orientation='h',\n",
    "             template='plotly_white', title='Average Price across different Mileage Groups')\n",
    "\n",
    "fig.update_xaxes(title='Average Price', showline=True, linewidth=2, linecolor='black', \n",
    "                 ticks='outside', tickprefix='$')\n",
    "fig.update_yaxes(title='Mileage Group',showgrid=False, showline=True, linewidth=1, linecolor='black')\n",
    "fig.update_layout(font_size = 12, font_family='Arial')\n",
    "fig.show('png', width=900)"
   ]
  },
  {
   "cell_type": "markdown",
   "id": "ebd421ad",
   "metadata": {},
   "source": [
    "#### Observation\n",
    "\n",
    "- ***The relationship between price and mileage is not as easily predictable as expected. One would expect higher mileage cars to be priced lower, but our data shows that:***\n",
    "\n",
    "    - *Medium mileage cars are the most expensive on average. This comprises vehicles that have travelled between 20,000 - 50,000km. Their average prices range between 7,861USD to 8,100USD*\n",
    "    - *Moderate to High mileage cars (60,000 - 120,000km) follow behind, with average prices ranging from about 5,000 USD to 7,100 USD*\n",
    "    - *As expected, the highest mileage cars (150,000km or more) are priced the least.* \n",
    "    - *We observe some unexpected findings with the lowest mileage cars (5000km to 10000km). Though one would expect these cars to be priced the highest, they are priced far lower than expected. It is hard to tell what could have caused this for sure, but this group could comprise cars that got damaged shortly after their purchase.*\n",
    "    \n",
    "- ***Could there be a lurking variable somewhere?***\n",
    "\n",
    "## Price and Unrepaired Damage\n",
    "\n",
    "We had suggested that the drop in average price of the low mileage cars may be due to some cars that damaged shortly after their purchase. Next, we will find out if damaged cars are cheaper, especially when compared to their non-damaged counterparts. \n",
    "\n",
    "Before we proceed, let's take another look at the `unrepaired_damage` column:"
   ]
  },
  {
   "cell_type": "code",
   "execution_count": 43,
   "id": "e1fd4da3",
   "metadata": {},
   "outputs": [
    {
     "name": "stdout",
     "output_type": "stream",
     "text": [
      "COUNTS\n",
      "------------------------------\n",
      "no     30361\n",
      "NaN     8112\n",
      "yes     4486\n",
      "Name: unrepaired_damage, dtype: int64\n",
      "\n",
      "PERCENTAGES\n",
      "------------------------------\n",
      "no     0.706744\n",
      "NaN    0.188831\n",
      "yes    0.104425\n",
      "Name: unrepaired_damage, dtype: float64\n"
     ]
    }
   ],
   "source": [
    "print('COUNTS')\n",
    "print('-'*30)\n",
    "print(autos['unrepaired_damage'].value_counts(dropna=False))\n",
    "print(\"\")\n",
    "print('PERCENTAGES')\n",
    "print('-'*30)\n",
    "print(autos['unrepaired_damage'].value_counts(dropna=False, normalize=True))"
   ]
  },
  {
   "cell_type": "markdown",
   "id": "40894a35",
   "metadata": {},
   "source": [
    "#### Observation\n",
    "\n",
    "- *A huge percentage of cars (about 70%) in our dataset are in good condition. 10% of the car listings have unrepaired damages and we lack enough information on the status of the remaining 19%. The null values in this group will not be useful for our analysis.*\n",
    "\n",
    "We can create our working dataframe from the `usd_price` and `unrepaired_damage` columns, then drop the rows with null values:"
   ]
  },
  {
   "cell_type": "code",
   "execution_count": 44,
   "id": "86c47156",
   "metadata": {},
   "outputs": [
    {
     "name": "stdout",
     "output_type": "stream",
     "text": [
      "(42959, 2)\n",
      "Remaining rows: 34847\n"
     ]
    },
    {
     "data": {
      "text/html": [
       "<div>\n",
       "<style scoped>\n",
       "    .dataframe tbody tr th:only-of-type {\n",
       "        vertical-align: middle;\n",
       "    }\n",
       "\n",
       "    .dataframe tbody tr th {\n",
       "        vertical-align: top;\n",
       "    }\n",
       "\n",
       "    .dataframe thead th {\n",
       "        text-align: right;\n",
       "    }\n",
       "</style>\n",
       "<table border=\"1\" class=\"dataframe\">\n",
       "  <thead>\n",
       "    <tr style=\"text-align: right;\">\n",
       "      <th></th>\n",
       "      <th>usd_price</th>\n",
       "      <th>unrepaired_damage</th>\n",
       "    </tr>\n",
       "  </thead>\n",
       "  <tbody>\n",
       "    <tr>\n",
       "      <th>0</th>\n",
       "      <td>5000</td>\n",
       "      <td>no</td>\n",
       "    </tr>\n",
       "    <tr>\n",
       "      <th>1</th>\n",
       "      <td>8500</td>\n",
       "      <td>no</td>\n",
       "    </tr>\n",
       "    <tr>\n",
       "      <th>2</th>\n",
       "      <td>8990</td>\n",
       "      <td>no</td>\n",
       "    </tr>\n",
       "    <tr>\n",
       "      <th>3</th>\n",
       "      <td>4350</td>\n",
       "      <td>no</td>\n",
       "    </tr>\n",
       "    <tr>\n",
       "      <th>4</th>\n",
       "      <td>1350</td>\n",
       "      <td>no</td>\n",
       "    </tr>\n",
       "  </tbody>\n",
       "</table>\n",
       "</div>"
      ],
      "text/plain": [
       "   usd_price unrepaired_damage\n",
       "0       5000                no\n",
       "1       8500                no\n",
       "2       8990                no\n",
       "3       4350                no\n",
       "4       1350                no"
      ]
     },
     "execution_count": 44,
     "metadata": {},
     "output_type": "execute_result"
    }
   ],
   "source": [
    "# Assign relevant columns to a new variable\n",
    "price_damage_table = autos[['usd_price','unrepaired_damage']]\n",
    "print(price_damage_table.shape)\n",
    "\n",
    "# Drop null values from unrepaired damage\n",
    "price_damage_table.dropna(axis=0, inplace=True)\n",
    "\n",
    "# verify if the exact number of rows are dropped\n",
    "print('Remaining rows: {}'.format(price_damage_table.shape[0])) \n",
    "price_damage_table.head(5)"
   ]
  },
  {
   "cell_type": "markdown",
   "id": "9ff37d73",
   "metadata": {},
   "source": [
    "Next we will group by `unrepaired_damage` while computing the average USD prices for both the 'yes' and 'no' categories:"
   ]
  },
  {
   "cell_type": "code",
   "execution_count": 45,
   "id": "57894c81",
   "metadata": {},
   "outputs": [
    {
     "data": {
      "image/png": "[encoded data removed]"
     },
     "metadata": {},
     "output_type": "display_data"
    }
   ],
   "source": [
    "price_to_damage = (price_damage_table.groupby('unrepaired_damage')['usd_price'].mean()\n",
    "                      .reset_index(name='avg_price_usd')\n",
    "                  )\n",
    "price_to_damage['avg_price_usd'] = price_to_damage['avg_price_usd'].round()\n",
    "price_to_damage\n",
    "\n",
    "fig = px.bar(price_to_damage, x='unrepaired_damage', y='avg_price_usd', color='unrepaired_damage', \n",
    "             text='avg_price_usd',\n",
    "             title= 'Price and Unrepaired Damage')\n",
    "\n",
    "fig.update_xaxes(title='Unrepaired Damage', showgrid=False, showline=True, linewidth=2, \n",
    "                 linecolor='black', mirror=True)\n",
    "fig.update_yaxes(title='Average Price',showgrid=False, showline=True, ticks='outside',\n",
    "                linecolor='black', mirror=True)\n",
    "fig.update_traces(textposition='outside')\n",
    "fig.update_layout(font_size = 12, font_family='Arial', template='plotly_white', width=500, height=500)\n",
    "fig.show('png')"
   ]
  },
  {
   "cell_type": "markdown",
   "id": "055c2257",
   "metadata": {},
   "source": [
    "#### Observation\n",
    "\n",
    "- *There is a huge variation in price between this two groups. We can safely say that, on average, cars in good condition are **2.5 times** more expensive than those with unrepaired damages.*\n",
    "\n",
    "Now that we have established that unrepaired damage has a significant effect on price, we can go further to explore the reason for the **shocking low prices observed for the lowest mileage cars (5,000 - 10,000km)**.\n",
    "\n",
    "## Were the Lowest Mileage Cars Affected By Some Sort of Early Damage?\n",
    "\n",
    "To conduct this investigation, we need two columns from our cleaned Dataframe (`odometer_km` and `unrepaired_damage`). We will perform our analysis in four steps:\n",
    "\n",
    "1. We will collect the two columns into a seperate dataframe.\n",
    "2. We will use the `translate_column` function to map odometer_km to the respective mileage intervals.\n",
    "3. We will remove the null values from unrepaired damage and map the column to dummy variables: 1 for 'yes', 0 for 'no'.\n",
    "4. Finally, we will use the `.groupby()` method to compute the damaged cars ratio. This ratio represents the weight of unrepaired_damage to the number of cars in each mileage interval (we can do this by calculating the mean unrepaired damage).\n",
    "\n",
    "Lets take this steps one after the other:\n",
    "\n",
    "#### 1. Collect the required columns into a seperate dataframe"
   ]
  },
  {
   "cell_type": "code",
   "execution_count": 46,
   "id": "fafd1025",
   "metadata": {},
   "outputs": [],
   "source": [
    "working_df = autos[['odometer_km', 'unrepaired_damage']]"
   ]
  },
  {
   "cell_type": "markdown",
   "id": "cbc11516",
   "metadata": {},
   "source": [
    "#### 2. Map the Odometer column to the respective mileage intervals"
   ]
  },
  {
   "cell_type": "code",
   "execution_count": 47,
   "id": "da387c83",
   "metadata": {},
   "outputs": [],
   "source": [
    "translate_column(working_df,'odometer_km',odometer_groups)"
   ]
  },
  {
   "cell_type": "markdown",
   "id": "8e6ff8a9",
   "metadata": {},
   "source": [
    "#### 3. Remove the null values from unrepaired damage and map the column to dummy variables 1 and 0"
   ]
  },
  {
   "cell_type": "code",
   "execution_count": 48,
   "id": "85f38151",
   "metadata": {},
   "outputs": [],
   "source": [
    "working_df.dropna(axis=0, inplace=True)\n",
    "\n",
    "translate_column(working_df,'unrepaired_damage',{'yes':1,'no':0})"
   ]
  },
  {
   "cell_type": "markdown",
   "id": "003e0730",
   "metadata": {},
   "source": [
    "#### 4. Compute the average value of unrepaired_damage to number of cars in each mileage interval"
   ]
  },
  {
   "cell_type": "code",
   "execution_count": 49,
   "id": "fc60b9fc",
   "metadata": {},
   "outputs": [
    {
     "data": {
      "text/html": [
       "<div>\n",
       "<style scoped>\n",
       "    .dataframe tbody tr th:only-of-type {\n",
       "        vertical-align: middle;\n",
       "    }\n",
       "\n",
       "    .dataframe tbody tr th {\n",
       "        vertical-align: top;\n",
       "    }\n",
       "\n",
       "    .dataframe thead th {\n",
       "        text-align: right;\n",
       "    }\n",
       "</style>\n",
       "<table border=\"1\" class=\"dataframe\">\n",
       "  <thead>\n",
       "    <tr style=\"text-align: right;\">\n",
       "      <th></th>\n",
       "      <th>odometer_km</th>\n",
       "      <th>dmg_cars_ratio</th>\n",
       "    </tr>\n",
       "  </thead>\n",
       "  <tbody>\n",
       "    <tr>\n",
       "      <th>4</th>\n",
       "      <td>5000km - 10000km</td>\n",
       "      <td>0.212</td>\n",
       "    </tr>\n",
       "    <tr>\n",
       "      <th>1</th>\n",
       "      <td>150000km or more</td>\n",
       "      <td>0.150</td>\n",
       "    </tr>\n",
       "    <tr>\n",
       "      <th>0</th>\n",
       "      <td>100000km - 125000km</td>\n",
       "      <td>0.095</td>\n",
       "    </tr>\n",
       "    <tr>\n",
       "      <th>6</th>\n",
       "      <td>80000km - 90000km</td>\n",
       "      <td>0.081</td>\n",
       "    </tr>\n",
       "    <tr>\n",
       "      <th>5</th>\n",
       "      <td>60000km - 70000km</td>\n",
       "      <td>0.068</td>\n",
       "    </tr>\n",
       "    <tr>\n",
       "      <th>2</th>\n",
       "      <td>20000km - 30000km</td>\n",
       "      <td>0.062</td>\n",
       "    </tr>\n",
       "    <tr>\n",
       "      <th>3</th>\n",
       "      <td>40000km - 50000km</td>\n",
       "      <td>0.053</td>\n",
       "    </tr>\n",
       "  </tbody>\n",
       "</table>\n",
       "</div>"
      ],
      "text/plain": [
       "           odometer_km  dmg_cars_ratio\n",
       "4     5000km - 10000km           0.212\n",
       "1     150000km or more           0.150\n",
       "0  100000km - 125000km           0.095\n",
       "6    80000km - 90000km           0.081\n",
       "5    60000km - 70000km           0.068\n",
       "2    20000km - 30000km           0.062\n",
       "3    40000km - 50000km           0.053"
      ]
     },
     "execution_count": 49,
     "metadata": {},
     "output_type": "execute_result"
    }
   ],
   "source": [
    "grouped_df = (working_df.groupby('odometer_km')['unrepaired_damage'].mean()\n",
    "                 .reset_index(name='dmg_cars_ratio')\n",
    "             )\n",
    "\n",
    "grouped_df['dmg_cars_ratio'] = grouped_df['dmg_cars_ratio'].round(3)\n",
    "grouped_df.sort_values(by='dmg_cars_ratio', ascending=False, axis=0, inplace=True)\n",
    "grouped_df"
   ]
  },
  {
   "cell_type": "markdown",
   "id": "babd7e95",
   "metadata": {},
   "source": [
    "There are some insights in the table above. However, before making further observations, we will merge our `avg_price_usd` from the previous `price_by_mileage` dataframe into our new dataframe, then visualize for a more robust picture:"
   ]
  },
  {
   "cell_type": "code",
   "execution_count": 50,
   "id": "f5019a0a",
   "metadata": {},
   "outputs": [
    {
     "name": "stdout",
     "output_type": "stream",
     "text": [
      "+----+---------------------+------------------+-----------------+\n",
      "|    | odometer_km         |   dmg_cars_ratio |   avg_price_usd |\n",
      "|----+---------------------+------------------+-----------------|\n",
      "|  4 | 5000km - 10000km    |            0.212 |            3592 |\n",
      "|  1 | 150000km or more    |            0.15  |            3298 |\n",
      "|  0 | 100000km - 125000km |            0.095 |            5068 |\n",
      "|  6 | 80000km - 90000km   |            0.081 |            6224 |\n",
      "|  5 | 60000km - 70000km   |            0.068 |            7148 |\n",
      "|  2 | 20000km - 30000km   |            0.062 |            7861 |\n",
      "|  3 | 40000km - 50000km   |            0.053 |            8109 |\n",
      "+----+---------------------+------------------+-----------------+\n"
     ]
    },
    {
     "data": {
      "image/png": "[encoded data removed]"
     },
     "metadata": {},
     "output_type": "display_data"
    }
   ],
   "source": [
    "grouped_df['avg_price_usd'] = price_by_mileage['avg_price_usd']\n",
    "\n",
    "# pretty print the dataframe\n",
    "print(tabulate(grouped_df, headers='keys', tablefmt='psql'))\n",
    "\n",
    "\n",
    "# Create visuals\n",
    "fig = make_subplots(rows=1, cols=2, horizontal_spacing=0.25)\n",
    "\n",
    "fig.add_trace((go.Bar(y=grouped_df['odometer_km'], x=grouped_df['dmg_cars_ratio'], orientation='h',\n",
    "                      name='dmg_cars_ratio'\n",
    "                     )\n",
    "              ), row=1, col=1)\n",
    "\n",
    "fig.add_trace((go.Bar(y=grouped_df['odometer_km'], x=grouped_df['avg_price_usd'], orientation='h',\n",
    "                      name='avg_price_usd'\n",
    "                     )\n",
    "              ), row=1, col=2)\n",
    "\n",
    "fig.update_layout(template = 'plotly_white', \n",
    "                  title_text= 'Comparing Price and Unrepaired Damage Across Various Mileages',\n",
    "                 height=500, font_size = 12, font_family='Arial')\n",
    "\n",
    "fig.update_yaxes(showline=True, linewidth=1, linecolor='black', mirror=True)\n",
    "fig.update_xaxes(tickprefix='$',row=1, col=2, title='Average Price')\n",
    "fig.update_xaxes(showline=True, linewidth=1, linecolor='black', mirror=True, ticks='outside')\n",
    "fig.update_xaxes(row=1, col=1, title='Weight of Unrepaired Damage')\n",
    "fig.show('png', width=1100)"
   ]
  },
  {
   "cell_type": "markdown",
   "id": "7842a722",
   "metadata": {},
   "source": [
    "#### Observations\n",
    "\n",
    "- *The price trend we noticed before can be better explained when considering unrepaired damage. Here we see the best-priced cars having the lowest weight of unrepaired damage, while the poorly priced vehicles have a higher occurrence of damages within their group.*\n",
    "- *It is evident that the **prices for the low mileage cars were affected by the significant cases of unrepaired damage within the group (a weight of 0.21)**. This further confirms our suspicions that some of the low mileage vehicles were new vehicles that may have been damaged within a short duration of purchase.*\n",
    "- *We had expected newer vehicles to have lesser mileages and better prices overall. However, it appears that the prescence or absence of unrepaired damage may be a better determinant of price.*\n",
    "- *Prices drop, as unrepaired damage increases (inverse correlation). This can even occur irrespective of how impressive a car's mileage is.*\n",
    "\n",
    "\n",
    "## Creating Value Metric\n",
    "\n",
    "Since we know a few variables that can influence price. We will attempt to create a metric that could help us analyse the price-value ratio for all the listed cars. We will consider the following as determinants in our ratio:\n",
    "\n",
    "- The price of the car.\n",
    "\n",
    "- Mileage.\n",
    "\n",
    "- The presence or absence of an unrepaired damage.\n",
    "\n",
    "## 1. Price To Mileage Ratio\n",
    "\n",
    "First we will create a price to mileage ratio by dividing our `usd_price` by the mileage (`odometer_km`). The unit for this ratio will be USD/km travelled. Let's consider an example below: "
   ]
  },
  {
   "cell_type": "code",
   "execution_count": 51,
   "id": "8f11507b",
   "metadata": {},
   "outputs": [
    {
     "name": "stdout",
     "output_type": "stream",
     "text": [
      "The price/mileage ratio of car A is : 0.50\n",
      "The price/mileage ratio of car B is : 0.03\n"
     ]
    }
   ],
   "source": [
    "# car A is priced at 5,000 USD but has travelled 10,000km\n",
    "car_a_price = 5000\n",
    "car_a_mileage = 10000\n",
    "\n",
    "# car B is priced at 5,000 USD but has travelled 150,000km\n",
    "car_b_price = 5000\n",
    "car_b_mileage = 150000\n",
    "\n",
    "# compute both car's price to mileage ratio\n",
    "pm_ratio_car_a = car_a_price/car_a_mileage\n",
    "pm_ratio_car_b = car_b_price/car_b_mileage\n",
    "\n",
    "print('The price/mileage ratio of car A is : {:.2f}'.format(pm_ratio_car_a))\n",
    "print('The price/mileage ratio of car B is : {:.2f}'.format(pm_ratio_car_b))"
   ]
  },
  {
   "cell_type": "markdown",
   "id": "b9690c23",
   "metadata": {},
   "source": [
    "The output above illustrates the benefits of this ratio. Even when we set cars A and B at the same price, car A offers more value than car B because it has considerably covered less distance.\n",
    "\n",
    "When considering price to mileage ratio, we should be mindful that cars with extremely high prices can appear to have better ratios than cheaper cars. For example, a car that costs 1,000,000USD and has a mileage of 150,000km may appear to hold a better value than a similar car that is priced at 10,000USD with the same mileage. The following code block illustrates this detail:"
   ]
  },
  {
   "cell_type": "code",
   "execution_count": 52,
   "id": "dc95ca0e",
   "metadata": {},
   "outputs": [
    {
     "name": "stdout",
     "output_type": "stream",
     "text": [
      "Expensive Car(price: 1,000,000USD, mileage:150,000km) - price/mileage: 6.67\n",
      "Cheaper Car(price: 100,000USD, mileage:150,000km) - price/mileage: 0.67\n"
     ]
    }
   ],
   "source": [
    "print('Expensive Car(price: 1,000,000USD, mileage:150,000km) - price/mileage: {:.2f}'.format(1000000/150000))\n",
    "print('Cheaper Car(price: 100,000USD, mileage:150,000km) - price/mileage: {:.2f}'.format(100000/150000))"
   ]
  },
  {
   "cell_type": "markdown",
   "id": "87e4b87c",
   "metadata": {},
   "source": [
    "These extremely high prices will not affect our analysis, considering that we already cleaned our data to contain more acceptable price ranges. Recall, during the cleaning phase, we set our maximum price at 16,350USD!"
   ]
  },
  {
   "cell_type": "code",
   "execution_count": 53,
   "id": "b1c56841",
   "metadata": {},
   "outputs": [
    {
     "data": {
      "text/html": [
       "<div>\n",
       "<style scoped>\n",
       "    .dataframe tbody tr th:only-of-type {\n",
       "        vertical-align: middle;\n",
       "    }\n",
       "\n",
       "    .dataframe tbody tr th {\n",
       "        vertical-align: top;\n",
       "    }\n",
       "\n",
       "    .dataframe thead th {\n",
       "        text-align: right;\n",
       "    }\n",
       "</style>\n",
       "<table border=\"1\" class=\"dataframe\">\n",
       "  <thead>\n",
       "    <tr style=\"text-align: right;\">\n",
       "      <th></th>\n",
       "      <th>odometer_km</th>\n",
       "      <th>usd_price</th>\n",
       "    </tr>\n",
       "  </thead>\n",
       "  <tbody>\n",
       "    <tr>\n",
       "      <th>count</th>\n",
       "      <td>42959.000000</td>\n",
       "      <td>42959.000000</td>\n",
       "    </tr>\n",
       "    <tr>\n",
       "      <th>mean</th>\n",
       "      <td>129684.582974</td>\n",
       "      <td>4129.176680</td>\n",
       "    </tr>\n",
       "    <tr>\n",
       "      <th>std</th>\n",
       "      <td>36385.094333</td>\n",
       "      <td>3863.748169</td>\n",
       "    </tr>\n",
       "    <tr>\n",
       "      <th>min</th>\n",
       "      <td>5000.000000</td>\n",
       "      <td>1.000000</td>\n",
       "    </tr>\n",
       "    <tr>\n",
       "      <th>25%</th>\n",
       "      <td>125000.000000</td>\n",
       "      <td>1150.000000</td>\n",
       "    </tr>\n",
       "    <tr>\n",
       "      <th>50%</th>\n",
       "      <td>150000.000000</td>\n",
       "      <td>2750.000000</td>\n",
       "    </tr>\n",
       "    <tr>\n",
       "      <th>75%</th>\n",
       "      <td>150000.000000</td>\n",
       "      <td>6000.000000</td>\n",
       "    </tr>\n",
       "    <tr>\n",
       "      <th>max</th>\n",
       "      <td>150000.000000</td>\n",
       "      <td>16350.000000</td>\n",
       "    </tr>\n",
       "  </tbody>\n",
       "</table>\n",
       "</div>"
      ],
      "text/plain": [
       "         odometer_km     usd_price\n",
       "count   42959.000000  42959.000000\n",
       "mean   129684.582974   4129.176680\n",
       "std     36385.094333   3863.748169\n",
       "min      5000.000000      1.000000\n",
       "25%    125000.000000   1150.000000\n",
       "50%    150000.000000   2750.000000\n",
       "75%    150000.000000   6000.000000\n",
       "max    150000.000000  16350.000000"
      ]
     },
     "execution_count": 53,
     "metadata": {},
     "output_type": "execute_result"
    }
   ],
   "source": [
    "# Review price range from our cleaned dataset\n",
    "autos[['odometer_km', 'usd_price']].describe()"
   ]
  },
  {
   "cell_type": "markdown",
   "id": "78a4bc2b",
   "metadata": {},
   "source": [
    "Lets create a new dataframe where we will store our price to mileage ratio. This dataframe will contain the following columns from our **`autos`** dataset: `brand`, `model`, `odometer_km`, `unrepaired_damage` and `usd_price`."
   ]
  },
  {
   "cell_type": "code",
   "execution_count": 54,
   "id": "61fc1d46",
   "metadata": {},
   "outputs": [
    {
     "data": {
      "text/html": [
       "<div>\n",
       "<style scoped>\n",
       "    .dataframe tbody tr th:only-of-type {\n",
       "        vertical-align: middle;\n",
       "    }\n",
       "\n",
       "    .dataframe tbody tr th {\n",
       "        vertical-align: top;\n",
       "    }\n",
       "\n",
       "    .dataframe thead th {\n",
       "        text-align: right;\n",
       "    }\n",
       "</style>\n",
       "<table border=\"1\" class=\"dataframe\">\n",
       "  <thead>\n",
       "    <tr style=\"text-align: right;\">\n",
       "      <th></th>\n",
       "      <th>brand</th>\n",
       "      <th>model</th>\n",
       "      <th>odometer_km</th>\n",
       "      <th>unrepaired_damage</th>\n",
       "      <th>usd_price</th>\n",
       "    </tr>\n",
       "  </thead>\n",
       "  <tbody>\n",
       "    <tr>\n",
       "      <th>0</th>\n",
       "      <td>peugeot</td>\n",
       "      <td>andere</td>\n",
       "      <td>150000</td>\n",
       "      <td>no</td>\n",
       "      <td>5000</td>\n",
       "    </tr>\n",
       "    <tr>\n",
       "      <th>1</th>\n",
       "      <td>bmw</td>\n",
       "      <td>7er</td>\n",
       "      <td>150000</td>\n",
       "      <td>no</td>\n",
       "      <td>8500</td>\n",
       "    </tr>\n",
       "    <tr>\n",
       "      <th>2</th>\n",
       "      <td>volkswagen</td>\n",
       "      <td>golf</td>\n",
       "      <td>70000</td>\n",
       "      <td>no</td>\n",
       "      <td>8990</td>\n",
       "    </tr>\n",
       "    <tr>\n",
       "      <th>3</th>\n",
       "      <td>smart</td>\n",
       "      <td>fortwo</td>\n",
       "      <td>70000</td>\n",
       "      <td>no</td>\n",
       "      <td>4350</td>\n",
       "    </tr>\n",
       "    <tr>\n",
       "      <th>4</th>\n",
       "      <td>ford</td>\n",
       "      <td>focus</td>\n",
       "      <td>150000</td>\n",
       "      <td>no</td>\n",
       "      <td>1350</td>\n",
       "    </tr>\n",
       "  </tbody>\n",
       "</table>\n",
       "</div>"
      ],
      "text/plain": [
       "        brand   model  odometer_km unrepaired_damage  usd_price\n",
       "0     peugeot  andere       150000                no       5000\n",
       "1         bmw     7er       150000                no       8500\n",
       "2  volkswagen    golf        70000                no       8990\n",
       "3       smart  fortwo        70000                no       4350\n",
       "4        ford   focus       150000                no       1350"
      ]
     },
     "execution_count": 54,
     "metadata": {},
     "output_type": "execute_result"
    }
   ],
   "source": [
    "price_value_df = autos[['brand','model','odometer_km','unrepaired_damage','usd_price']]\n",
    "price_value_df.head()"
   ]
  },
  {
   "cell_type": "markdown",
   "id": "387691ea",
   "metadata": {},
   "source": [
    "Next, let's compute the `price_damage` ratio for each record, then assign the values to a new column called `pm_ratio`:"
   ]
  },
  {
   "cell_type": "code",
   "execution_count": 55,
   "id": "8ae830e9",
   "metadata": {},
   "outputs": [
    {
     "data": {
      "text/html": [
       "<div>\n",
       "<style scoped>\n",
       "    .dataframe tbody tr th:only-of-type {\n",
       "        vertical-align: middle;\n",
       "    }\n",
       "\n",
       "    .dataframe tbody tr th {\n",
       "        vertical-align: top;\n",
       "    }\n",
       "\n",
       "    .dataframe thead th {\n",
       "        text-align: right;\n",
       "    }\n",
       "</style>\n",
       "<table border=\"1\" class=\"dataframe\">\n",
       "  <thead>\n",
       "    <tr style=\"text-align: right;\">\n",
       "      <th></th>\n",
       "      <th>brand</th>\n",
       "      <th>model</th>\n",
       "      <th>odometer_km</th>\n",
       "      <th>unrepaired_damage</th>\n",
       "      <th>usd_price</th>\n",
       "      <th>pm_ratio</th>\n",
       "    </tr>\n",
       "  </thead>\n",
       "  <tbody>\n",
       "    <tr>\n",
       "      <th>0</th>\n",
       "      <td>peugeot</td>\n",
       "      <td>andere</td>\n",
       "      <td>150000</td>\n",
       "      <td>no</td>\n",
       "      <td>5000</td>\n",
       "      <td>0.033333</td>\n",
       "    </tr>\n",
       "    <tr>\n",
       "      <th>1</th>\n",
       "      <td>bmw</td>\n",
       "      <td>7er</td>\n",
       "      <td>150000</td>\n",
       "      <td>no</td>\n",
       "      <td>8500</td>\n",
       "      <td>0.056667</td>\n",
       "    </tr>\n",
       "    <tr>\n",
       "      <th>2</th>\n",
       "      <td>volkswagen</td>\n",
       "      <td>golf</td>\n",
       "      <td>70000</td>\n",
       "      <td>no</td>\n",
       "      <td>8990</td>\n",
       "      <td>0.128429</td>\n",
       "    </tr>\n",
       "    <tr>\n",
       "      <th>3</th>\n",
       "      <td>smart</td>\n",
       "      <td>fortwo</td>\n",
       "      <td>70000</td>\n",
       "      <td>no</td>\n",
       "      <td>4350</td>\n",
       "      <td>0.062143</td>\n",
       "    </tr>\n",
       "    <tr>\n",
       "      <th>4</th>\n",
       "      <td>ford</td>\n",
       "      <td>focus</td>\n",
       "      <td>150000</td>\n",
       "      <td>no</td>\n",
       "      <td>1350</td>\n",
       "      <td>0.009000</td>\n",
       "    </tr>\n",
       "  </tbody>\n",
       "</table>\n",
       "</div>"
      ],
      "text/plain": [
       "        brand   model  odometer_km unrepaired_damage  usd_price  pm_ratio\n",
       "0     peugeot  andere       150000                no       5000  0.033333\n",
       "1         bmw     7er       150000                no       8500  0.056667\n",
       "2  volkswagen    golf        70000                no       8990  0.128429\n",
       "3       smart  fortwo        70000                no       4350  0.062143\n",
       "4        ford   focus       150000                no       1350  0.009000"
      ]
     },
     "execution_count": 55,
     "metadata": {},
     "output_type": "execute_result"
    }
   ],
   "source": [
    "price_value_df['pm_ratio'] = price_value_df['usd_price']/price_value_df['odometer_km']\n",
    "price_value_df.head()"
   ]
  },
  {
   "cell_type": "markdown",
   "id": "b006f502",
   "metadata": {},
   "source": [
    "## 2. Accounting for Unrepaired Damage\n",
    "\n",
    "Our value metric will be incomplete without accounting for unrepaired damage. If a car has some unrepaired damage, we will **halve** its price to mileage ratio (*The decision to halve these values is majorly subjective. One may come up with a much better way to account for unrepaired damage than I have done in this project*).\n",
    "\n",
    "Lets apply this updated measure to our dataframe:"
   ]
  },
  {
   "cell_type": "code",
   "execution_count": 56,
   "id": "4a88fbe8",
   "metadata": {},
   "outputs": [
    {
     "data": {
      "text/html": [
       "<div>\n",
       "<style scoped>\n",
       "    .dataframe tbody tr th:only-of-type {\n",
       "        vertical-align: middle;\n",
       "    }\n",
       "\n",
       "    .dataframe tbody tr th {\n",
       "        vertical-align: top;\n",
       "    }\n",
       "\n",
       "    .dataframe thead th {\n",
       "        text-align: right;\n",
       "    }\n",
       "</style>\n",
       "<table border=\"1\" class=\"dataframe\">\n",
       "  <thead>\n",
       "    <tr style=\"text-align: right;\">\n",
       "      <th></th>\n",
       "      <th>brand</th>\n",
       "      <th>model</th>\n",
       "      <th>odometer_km</th>\n",
       "      <th>unrepaired_damage</th>\n",
       "      <th>usd_price</th>\n",
       "      <th>pm_ratio</th>\n",
       "      <th>corrected_ratio</th>\n",
       "    </tr>\n",
       "  </thead>\n",
       "  <tbody>\n",
       "    <tr>\n",
       "      <th>28</th>\n",
       "      <td>mini</td>\n",
       "      <td>cooper</td>\n",
       "      <td>150000</td>\n",
       "      <td>yes</td>\n",
       "      <td>5250</td>\n",
       "      <td>0.035000</td>\n",
       "      <td>0.017500</td>\n",
       "    </tr>\n",
       "    <tr>\n",
       "      <th>30</th>\n",
       "      <td>peugeot</td>\n",
       "      <td>2_reihe</td>\n",
       "      <td>150000</td>\n",
       "      <td>yes</td>\n",
       "      <td>80</td>\n",
       "      <td>0.000533</td>\n",
       "      <td>0.000267</td>\n",
       "    </tr>\n",
       "    <tr>\n",
       "      <th>51</th>\n",
       "      <td>mercedes_benz</td>\n",
       "      <td>s_klasse</td>\n",
       "      <td>150000</td>\n",
       "      <td>yes</td>\n",
       "      <td>6000</td>\n",
       "      <td>0.040000</td>\n",
       "      <td>0.020000</td>\n",
       "    </tr>\n",
       "  </tbody>\n",
       "</table>\n",
       "</div>"
      ],
      "text/plain": [
       "            brand     model  odometer_km unrepaired_damage  usd_price  \\\n",
       "28           mini    cooper       150000               yes       5250   \n",
       "30        peugeot   2_reihe       150000               yes         80   \n",
       "51  mercedes_benz  s_klasse       150000               yes       6000   \n",
       "\n",
       "    pm_ratio  corrected_ratio  \n",
       "28  0.035000         0.017500  \n",
       "30  0.000533         0.000267  \n",
       "51  0.040000         0.020000  "
      ]
     },
     "execution_count": 56,
     "metadata": {},
     "output_type": "execute_result"
    }
   ],
   "source": [
    "price_value_df.dropna(axis=0, inplace=True) # drop rows with NaN values\n",
    "\n",
    "# Boolean indexing to select listings with unrepaired damage\n",
    "selector = price_value_df['unrepaired_damage']=='yes'\n",
    "\n",
    "# Copy pm ratio to a new column\n",
    "price_value_df['corrected_ratio'] = price_value_df['pm_ratio']\n",
    "\n",
    "# Halve the corrected ratio if unrepaired damage is 'yes'\n",
    "price_value_df.loc[selector, 'corrected_ratio'] = price_value_df.loc[selector, 'corrected_ratio']*0.5\n",
    "\n",
    "# Examine the records with unrepaired damage\n",
    "price_value_df[selector].head(3)"
   ]
  },
  {
   "cell_type": "code",
   "execution_count": 57,
   "id": "4ca9da3b",
   "metadata": {},
   "outputs": [
    {
     "data": {
      "text/html": [
       "<div>\n",
       "<style scoped>\n",
       "    .dataframe tbody tr th:only-of-type {\n",
       "        vertical-align: middle;\n",
       "    }\n",
       "\n",
       "    .dataframe tbody tr th {\n",
       "        vertical-align: top;\n",
       "    }\n",
       "\n",
       "    .dataframe thead th {\n",
       "        text-align: right;\n",
       "    }\n",
       "</style>\n",
       "<table border=\"1\" class=\"dataframe\">\n",
       "  <thead>\n",
       "    <tr style=\"text-align: right;\">\n",
       "      <th></th>\n",
       "      <th>brand</th>\n",
       "      <th>model</th>\n",
       "      <th>odometer_km</th>\n",
       "      <th>unrepaired_damage</th>\n",
       "      <th>usd_price</th>\n",
       "      <th>pm_ratio</th>\n",
       "      <th>corrected_ratio</th>\n",
       "    </tr>\n",
       "  </thead>\n",
       "  <tbody>\n",
       "    <tr>\n",
       "      <th>0</th>\n",
       "      <td>peugeot</td>\n",
       "      <td>andere</td>\n",
       "      <td>150000</td>\n",
       "      <td>no</td>\n",
       "      <td>5000</td>\n",
       "      <td>0.033333</td>\n",
       "      <td>0.033333</td>\n",
       "    </tr>\n",
       "    <tr>\n",
       "      <th>1</th>\n",
       "      <td>bmw</td>\n",
       "      <td>7er</td>\n",
       "      <td>150000</td>\n",
       "      <td>no</td>\n",
       "      <td>8500</td>\n",
       "      <td>0.056667</td>\n",
       "      <td>0.056667</td>\n",
       "    </tr>\n",
       "    <tr>\n",
       "      <th>2</th>\n",
       "      <td>volkswagen</td>\n",
       "      <td>golf</td>\n",
       "      <td>70000</td>\n",
       "      <td>no</td>\n",
       "      <td>8990</td>\n",
       "      <td>0.128429</td>\n",
       "      <td>0.128429</td>\n",
       "    </tr>\n",
       "  </tbody>\n",
       "</table>\n",
       "</div>"
      ],
      "text/plain": [
       "        brand   model  odometer_km unrepaired_damage  usd_price  pm_ratio  \\\n",
       "0     peugeot  andere       150000                no       5000  0.033333   \n",
       "1         bmw     7er       150000                no       8500  0.056667   \n",
       "2  volkswagen    golf        70000                no       8990  0.128429   \n",
       "\n",
       "   corrected_ratio  \n",
       "0         0.033333  \n",
       "1         0.056667  \n",
       "2         0.128429  "
      ]
     },
     "execution_count": 57,
     "metadata": {},
     "output_type": "execute_result"
    }
   ],
   "source": [
    "# Examine the records with without unrepaired damage\n",
    "price_value_df[~(selector)].head(3)"
   ]
  },
  {
   "cell_type": "markdown",
   "id": "40c178db",
   "metadata": {},
   "source": [
    "#### Observations\n",
    "\n",
    "- *Our code worked as intended. The price to mileage ratio for listings with unrepaired damage have been halved while listings without unrepaired damage were left unaffected.*\n",
    "\n",
    "A metric is usually more beneficial when set at a defined range of values. **_Our corrected metric needs one more adjustment_**: We need to develop a 'normalized' or 'refrence' range where we expect our ratios to fall:"
   ]
  },
  {
   "cell_type": "code",
   "execution_count": 58,
   "id": "0321d36c",
   "metadata": {},
   "outputs": [
    {
     "data": {
      "text/html": [
       "<div>\n",
       "<style scoped>\n",
       "    .dataframe tbody tr th:only-of-type {\n",
       "        vertical-align: middle;\n",
       "    }\n",
       "\n",
       "    .dataframe tbody tr th {\n",
       "        vertical-align: top;\n",
       "    }\n",
       "\n",
       "    .dataframe thead th {\n",
       "        text-align: right;\n",
       "    }\n",
       "</style>\n",
       "<table border=\"1\" class=\"dataframe\">\n",
       "  <thead>\n",
       "    <tr style=\"text-align: right;\">\n",
       "      <th></th>\n",
       "      <th>corrected_ratio</th>\n",
       "    </tr>\n",
       "  </thead>\n",
       "  <tbody>\n",
       "    <tr>\n",
       "      <th>count</th>\n",
       "      <td>33664.000000</td>\n",
       "    </tr>\n",
       "    <tr>\n",
       "      <th>mean</th>\n",
       "      <td>0.055055</td>\n",
       "    </tr>\n",
       "    <tr>\n",
       "      <th>std</th>\n",
       "      <td>0.138390</td>\n",
       "    </tr>\n",
       "    <tr>\n",
       "      <th>min</th>\n",
       "      <td>0.000003</td>\n",
       "    </tr>\n",
       "    <tr>\n",
       "      <th>25%</th>\n",
       "      <td>0.009000</td>\n",
       "    </tr>\n",
       "    <tr>\n",
       "      <th>50%</th>\n",
       "      <td>0.022667</td>\n",
       "    </tr>\n",
       "    <tr>\n",
       "      <th>75%</th>\n",
       "      <td>0.056000</td>\n",
       "    </tr>\n",
       "    <tr>\n",
       "      <th>max</th>\n",
       "      <td>3.190000</td>\n",
       "    </tr>\n",
       "  </tbody>\n",
       "</table>\n",
       "</div>"
      ],
      "text/plain": [
       "       corrected_ratio\n",
       "count     33664.000000\n",
       "mean          0.055055\n",
       "std           0.138390\n",
       "min           0.000003\n",
       "25%           0.009000\n",
       "50%           0.022667\n",
       "75%           0.056000\n",
       "max           3.190000"
      ]
     },
     "execution_count": 58,
     "metadata": {},
     "output_type": "execute_result"
    }
   ],
   "source": [
    "price_value_df[['corrected_ratio']].describe()"
   ]
  },
  {
   "cell_type": "markdown",
   "id": "c9237189",
   "metadata": {},
   "source": [
    "We can see that our lowest price_value ratio is approximately zero while the highest is about 3. With the knowledge our minimum and maximum values, We can scale these values between `0` and `10` as the value for money paid - where `10` represents complete value for money and `0` represents no value for money at all.\n",
    "\n",
    "## 3. Scaling Price to Value ratio into a Defined Range\n",
    "\n",
    "Let's say we want to scale a range of values min to max **`[min..max]`** into a defined range A to B **`[A..B]`**.\n",
    "\n",
    "```\n",
    "   Any value 'x' between min and max can be scaled into the range [A..B] as follows:\n",
    "               \n",
    "                                         (B - A) (x - min)\n",
    "       Value of x in range [A..B] =    -------------------  + A\n",
    "                                             max - min                                            \n",
    "```\n",
    "Since our range `[A...B]` is `[0..10]`, our formula becomes:\n",
    "\n",
    "```\n",
    "                                         (10 - 0) (x - min)\n",
    "       Value of x in range [0..10] =    -------------------  + 0\n",
    "                                             max - min                                        \n",
    "```\n",
    "\n",
    "Our corrected ratio represented by `x` in the formula above. Hence:\n",
    "\n",
    "```                                         \n",
    "                                                     10(x - min)\n",
    "       corrected ratio(x) in range [0..10] =    ------------------- \n",
    "                                                   max_ratio - min_ratio                                                                                      \n",
    "```\n",
    "\n",
    "Let's use this formula to scale our price value ratio between `0` and `10`. We will call this the potiential `Value_earned` from a purchase:"
   ]
  },
  {
   "cell_type": "code",
   "execution_count": 61,
   "id": "cba7cf6d",
   "metadata": {},
   "outputs": [
    {
     "data": {
      "text/html": [
       "<div>\n",
       "<style scoped>\n",
       "    .dataframe tbody tr th:only-of-type {\n",
       "        vertical-align: middle;\n",
       "    }\n",
       "\n",
       "    .dataframe tbody tr th {\n",
       "        vertical-align: top;\n",
       "    }\n",
       "\n",
       "    .dataframe thead th {\n",
       "        text-align: right;\n",
       "    }\n",
       "</style>\n",
       "<table border=\"1\" class=\"dataframe\">\n",
       "  <thead>\n",
       "    <tr style=\"text-align: right;\">\n",
       "      <th></th>\n",
       "      <th>brand</th>\n",
       "      <th>model</th>\n",
       "      <th>odometer_km</th>\n",
       "      <th>unrepaired_damage</th>\n",
       "      <th>usd_price</th>\n",
       "      <th>pm_ratio</th>\n",
       "      <th>corrected_ratio</th>\n",
       "      <th>value_earned</th>\n",
       "    </tr>\n",
       "  </thead>\n",
       "  <tbody>\n",
       "    <tr>\n",
       "      <th>22424</th>\n",
       "      <td>volkswagen</td>\n",
       "      <td>polo</td>\n",
       "      <td>5000</td>\n",
       "      <td>no</td>\n",
       "      <td>15950</td>\n",
       "      <td>3.19</td>\n",
       "      <td>3.19</td>\n",
       "      <td>10.0</td>\n",
       "    </tr>\n",
       "    <tr>\n",
       "      <th>39828</th>\n",
       "      <td>volkswagen</td>\n",
       "      <td>golf</td>\n",
       "      <td>5000</td>\n",
       "      <td>no</td>\n",
       "      <td>15800</td>\n",
       "      <td>3.16</td>\n",
       "      <td>3.16</td>\n",
       "      <td>10.0</td>\n",
       "    </tr>\n",
       "    <tr>\n",
       "      <th>24586</th>\n",
       "      <td>opel</td>\n",
       "      <td>andere</td>\n",
       "      <td>5000</td>\n",
       "      <td>no</td>\n",
       "      <td>14900</td>\n",
       "      <td>2.98</td>\n",
       "      <td>2.98</td>\n",
       "      <td>9.0</td>\n",
       "    </tr>\n",
       "    <tr>\n",
       "      <th>6921</th>\n",
       "      <td>hyundai</td>\n",
       "      <td>i_reihe</td>\n",
       "      <td>5000</td>\n",
       "      <td>no</td>\n",
       "      <td>15000</td>\n",
       "      <td>3.00</td>\n",
       "      <td>3.00</td>\n",
       "      <td>9.0</td>\n",
       "    </tr>\n",
       "    <tr>\n",
       "      <th>29145</th>\n",
       "      <td>bmw</td>\n",
       "      <td>5er</td>\n",
       "      <td>5000</td>\n",
       "      <td>no</td>\n",
       "      <td>14500</td>\n",
       "      <td>2.90</td>\n",
       "      <td>2.90</td>\n",
       "      <td>9.0</td>\n",
       "    </tr>\n",
       "  </tbody>\n",
       "</table>\n",
       "</div>"
      ],
      "text/plain": [
       "            brand    model  odometer_km unrepaired_damage  usd_price  \\\n",
       "22424  volkswagen     polo         5000                no      15950   \n",
       "39828  volkswagen     golf         5000                no      15800   \n",
       "24586        opel   andere         5000                no      14900   \n",
       "6921      hyundai  i_reihe         5000                no      15000   \n",
       "29145         bmw      5er         5000                no      14500   \n",
       "\n",
       "       pm_ratio  corrected_ratio  value_earned  \n",
       "22424      3.19             3.19          10.0  \n",
       "39828      3.16             3.16          10.0  \n",
       "24586      2.98             2.98           9.0  \n",
       "6921       3.00             3.00           9.0  \n",
       "29145      2.90             2.90           9.0  "
      ]
     },
     "execution_count": 61,
     "metadata": {},
     "output_type": "execute_result"
    }
   ],
   "source": [
    "# Extracting our min and max corrected_ratios\n",
    "max_ratio = (price_value_df['corrected_ratio']\n",
    "                 .sort_values(ascending=False)\n",
    "                 .iloc[0]\n",
    "            )\n",
    "\n",
    "min_ratio = (price_value_df['corrected_ratio']\n",
    "                 .sort_values()\n",
    "                 .iloc[0]\n",
    "            )\n",
    "\n",
    "# computing ratio difference i.e (max - min)\n",
    "ratio_diff = max_ratio - min_ratio\n",
    "\n",
    "# using previous formula to compute the value for money column\n",
    "price_value_df['value_earned'] = ((10 * (price_value_df['corrected_ratio'] - min_ratio))/ratio_diff)\n",
    "\n",
    "price_value_df['value_earned'] = price_value_df['value_earned'].round()\n",
    "\n",
    "price_value_df.sort_values(by='value_earned', ascending=False).head()"
   ]
  },
  {
   "cell_type": "markdown",
   "id": "fd2d9776",
   "metadata": {},
   "source": [
    "Now that we have created our value metric. Let's take a look at the different brands, with respect to value for money i.e potiential value earned from purchase.\n",
    "\n",
    "## Best Value for Money Brands\n",
    "\n",
    "Earlier we had compared the top brands based on Popularity and price. Now, we will use all the handy functions and methods we have used before to compare the various brands based on average value for money:"
   ]
  },
  {
   "cell_type": "code",
   "execution_count": 62,
   "id": "11389278",
   "metadata": {},
   "outputs": [
    {
     "name": "stdout",
     "output_type": "stream",
     "text": [
      "+----+-----------+-------------+\n",
      "|    | brand     |   avg_value |\n",
      "|----+-----------+-------------|\n",
      "|  6 | dacia     |        0.48 |\n",
      "| 21 | mini      |        0.27 |\n",
      "| 31 | skoda     |        0.24 |\n",
      "| 26 | porsche   |        0.22 |\n",
      "|  3 | chevrolet |        0.21 |\n",
      "| 12 | hyundai   |        0.21 |\n",
      "| 36 | trabant   |        0.19 |\n",
      "+----+-----------+-------------+\n"
     ]
    },
    {
     "data": {
      "image/png": "[encoded data removed]"
     },
     "metadata": {},
     "output_type": "display_data"
    }
   ],
   "source": [
    "brands_by_value = (price_value_df[['brand', 'value_earned']]\n",
    "                       .groupby('brand')['value_earned'].mean()\n",
    "                       .round(2)\n",
    "                       .reset_index(name='avg_value')\n",
    "                       .sort_values(by='avg_value', ascending=False)\n",
    "                  )\n",
    "\n",
    "value_brands_7 = brands_by_value.head(7)\n",
    "print(tabulate(value_brands_7, headers='keys', tablefmt='psql'))\n",
    "\n",
    "# Build Visual\n",
    "fig = px.bar(value_brands_7, x='brand', y='avg_value', template='plotly_white', \n",
    "             title='Top 7 Brands by Value', text='avg_value')\n",
    "\n",
    "fig.update_xaxes(title='Brand Name', showgrid=False, linecolor='black', linewidth=2)\n",
    "fig.update_yaxes(title='Average value weighting', showgrid=False, showticklabels=False)\n",
    "fig.update_traces(textposition='outside')\n",
    "fig.update_layout(font_size = 12, width=800, font_family='Arial')\n",
    "fig.show('png')"
   ]
  },
  {
   "cell_type": "markdown",
   "id": "f59143bb",
   "metadata": {},
   "source": [
    "#### Observations\n",
    "\n",
    "- *Considering our newly-created value metric, which weighs the effect of price, mileage and unrepaired damage on a listed car, none of the seven most popular brands are top players in our value for money list.*\n",
    "- *Darcia cars top the entire listings with a weighting of 0.48. The Mini brand follows behind (0.27)*. \n",
    "- *There might not be a huge difference in the value offered by Skoda, Porsche, Chevrolet and Hyundai Brands, since their value weightings are almost identical (around 0.23). Buyers can freely select any of these brands without missing out too much on the others.*\n",
    "- *The top brands here may not be the most popular on the listings. However, they provide more value for price-conscious buyers. These buyers can obtain good deals, while they rest assured of the balance between quality and value.*\n",
    "\n",
    "## Best Value for Money Models\n",
    "\n",
    "Now that we have some information on the best value for money brands. We can drill-in to understand the best value for money models available on the listings.\n",
    "\n",
    "Again, we will use a couple of handy methods and functions we used before:"
   ]
  },
  {
   "cell_type": "code",
   "execution_count": 63,
   "id": "740d50f4",
   "metadata": {},
   "outputs": [
    {
     "name": "stdout",
     "output_type": "stream",
     "text": [
      "+-----+------------+---------+-------------+\n",
      "|     | brand      | model   |   avg_value |\n",
      "|-----+------------+---------+-------------|\n",
      "| 194 | porsche    | 911     |        1.5  |\n",
      "| 224 | skoda      | citigo  |        1.45 |\n",
      "|  51 | dacia      | lodgy   |        1.2  |\n",
      "|  10 | audi       | a1      |        1.1  |\n",
      "| 273 | volkswagen | up      |        1.09 |\n",
      "|  76 | ford       | b_max   |        1    |\n",
      "+-----+------------+---------+-------------+\n"
     ]
    },
    {
     "data": {
      "image/png": "[encoded data removed]"
     },
     "metadata": {},
     "output_type": "display_data"
    }
   ],
   "source": [
    "models_by_value = (price_value_df[['brand','model','value_earned']]\n",
    "                       .groupby(['brand', 'model'])['value_earned'].mean()\n",
    "                       .round(2)\n",
    "                       .reset_index(name='avg_value')\n",
    "                       .sort_values(by='avg_value', ascending=False)  \n",
    "                  )\n",
    "\n",
    "value_models_6 = models_by_value.head(6)\n",
    "\n",
    "print(tabulate(value_models_6, headers='keys', tablefmt='psql'))\n",
    "\n",
    "fig = px.bar(value_models_6, x='brand', y='avg_value', color='brand', text='model',\n",
    "             title= 'Best Value Car Models', range_y=(0,2))\n",
    "\n",
    "fig.update_xaxes(title='Brand Name', showgrid=False, showline=True, linewidth=2, linecolor='black')\n",
    "fig.update_yaxes(title='Average Value Weighting',showgrid=False, showline=True, ticks='outside',\n",
    "                linecolor='black')\n",
    "fig.update_layout(font_size = 12, font_family='Arial', template='plotly_white', width=800, height=450)\n",
    "fig.show('png', width=800)"
   ]
  },
  {
   "cell_type": "markdown",
   "id": "e0add8b3",
   "metadata": {},
   "source": [
    "#### Observations\n",
    "\n",
    "- *The Porshe 911 has the best value weighting (1.50), while the Skoda Citigo (1.45) follows along. The Darcia dodgy (1.2) is ranked third.*\n",
    "- *We see some of the most common brands again (Audi, Volkwagen and Opel). Buyers looking to enjoy the popularity of these brands, while also enjoying significant value benefits, could consider buying the Audi A1, the Volkswagen up models or the Ford b_max.*\n",
    "\n",
    "## Recommendations for High Value Used Cars\n",
    "\n",
    "Buyers should be strategic when considering used cars on eBay:\n",
    "\n",
    "The first step is obvious. Search for a vehicle on the listings. Consider the brand (German brands are popular for a reason). If interested in a famous brand, check out the Volkswagen cars. They offer some interesting balance between popularity, mileage and price.\n",
    "\n",
    "If a lower purchase price is the goal, buyers should carefully consider condition and mileage (they do not always correlate). Even vehicles with low mileage can undergo tremendous wear and tear, negatively impacting value. \n",
    "\n",
    "The best advice is to consider a value metric, which includes the vehicle price, its mileage, and its condition (taking unrepaired damage into account), before determining whether a car is worth the extra dollars.\n",
    "\n",
    "## Conclusion\n",
    "\n",
    "Our analysis of eBay Kleinanzeigen's listings showed the influence of price, mileage and unrepaired damage on a car's overall value. We identified the most popular cars on the website listings, examined the relationship between mileage and price, then explored the effects of unrepaired damage on a car's value. Finally, we created a value metric to help price-conscious buyers in their quest to identify the best value cars.\n",
    "\n",
    "## Prompts for Future exploration\n",
    "\n",
    "- Are certain vehicle types more expensive than others on average?\n",
    "- Do vehicles with certain fuel types record more cases of unrepaired damage than the others?"
   ]
  }
 ],
 "metadata": {
  "kernelspec": {
   "display_name": "Python 3 (ipykernel)",
   "language": "python",
   "name": "python3"
  },
  "language_info": {
   "codemirror_mode": {
    "name": "ipython",
    "version": 3
   },
   "file_extension": ".py",
   "mimetype": "text/x-python",
   "name": "python",
   "nbconvert_exporter": "python",
   "pygments_lexer": "ipython3",
   "version": "3.9.12"
  }
 },
 "nbformat": 4,
 "nbformat_minor": 5
}
