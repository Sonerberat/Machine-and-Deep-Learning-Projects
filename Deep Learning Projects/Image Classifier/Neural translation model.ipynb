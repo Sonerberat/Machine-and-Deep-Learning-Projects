{
 "cells": [
  {
   "cell_type": "markdown",
   "metadata": {},
   "source": [
    "# Capstone Project\n",
    "## Neural translation model\n",
    "### Instructions\n",
    "\n",
    "In this notebook, you will create a neural network that translates from English to German. You will use concepts from throughout this course, including building more flexible model architectures, freezing layers, data processing pipeline and sequence modelling.\n",
    "\n",
    "This project is peer-assessed. Within this notebook you will find instructions in each section for how to complete the project. Pay close attention to the instructions as the peer review will be carried out according to a grading rubric that checks key parts of the project instructions. Feel free to add extra cells into the notebook as required.\n",
    "\n",
    "### How to submit\n",
    "\n",
    "When you have completed the Capstone project notebook, you will submit a pdf of the notebook for peer review. First ensure that the notebook has been fully executed from beginning to end, and all of the cell outputs are visible. This is important, as the grading rubric depends on the reviewer being able to view the outputs of your notebook. Save the notebook as a pdf (File -> Download as -> PDF via LaTeX). You should then submit this pdf for review.\n",
    "\n",
    "### Let's get started!\n",
    "\n",
    "We'll start by running some imports, and loading the dataset. For this project you are free to make further imports throughout the notebook as you wish. "
   ]
  },
  {
   "cell_type": "code",
   "execution_count": 1,
   "metadata": {},
   "outputs": [],
   "source": [
    "import tensorflow as tf\n",
    "import tensorflow_hub as hub\n",
    "import unicodedata\n",
    "import re\n",
    "from IPython.display import Image\n",
    "import numpy as np\n",
    "import json\n",
    "from tensorflow.keras.preprocessing.text import Tokenizer\n",
    "from tensorflow.keras.preprocessing.sequence import pad_sequences\n",
    "from tensorflow.keras.layers import Layer, Input, Dense, LSTM, Masking, Embedding\n",
    "from tensorflow.keras.models import Model\n",
    "from sklearn.model_selection import train_test_split\n",
    "import matplotlib.pyplot as plt"
   ]
  },
  {
   "cell_type": "markdown",
   "metadata": {},
   "source": [
    "![Flags overview image](data/germany_uk_flags.png)\n",
    "\n",
    "For the capstone project, you will use a language dataset from http://www.manythings.org/anki/ to build a neural translation model. This dataset consists of over 200,000 pairs of sentences in English and German. In order to make the training quicker, we will restrict to our dataset to 20,000 pairs. Feel free to change this if you wish - the size of the dataset used is not part of the grading rubric.\n",
    "\n",
    "Your goal is to develop a neural translation model from English to German, making use of a pre-trained English word embedding module."
   ]
  },
  {
   "cell_type": "code",
   "execution_count": 2,
   "metadata": {},
   "outputs": [],
   "source": [
    "# Run this cell to load the dataset\n",
    "\n",
    "NUM_EXAMPLES = 20000\n",
    "data_examples = []\n",
    "with open('data/deu.txt', 'r', encoding='utf8') as f:\n",
    "    for line in f.readlines():\n",
    "        if len(data_examples) < NUM_EXAMPLES:\n",
    "            data_examples.append(line)\n",
    "        else:\n",
    "            break"
   ]
  },
  {
   "cell_type": "code",
   "execution_count": 3,
   "metadata": {},
   "outputs": [],
   "source": [
    "# These functions preprocess English and German sentences\n",
    "\n",
    "def unicode_to_ascii(s):\n",
    "    return ''.join(c for c in unicodedata.normalize('NFD', s) if unicodedata.category(c) != 'Mn')\n",
    "\n",
    "def preprocess_sentence(sentence):\n",
    "    sentence = sentence.lower().strip()\n",
    "    sentence = re.sub(r\"ü\", 'ue', sentence)\n",
    "    sentence = re.sub(r\"ä\", 'ae', sentence)\n",
    "    sentence = re.sub(r\"ö\", 'oe', sentence)\n",
    "    sentence = re.sub(r'ß', 'ss', sentence)\n",
    "    \n",
    "    sentence = unicode_to_ascii(sentence)\n",
    "    sentence = re.sub(r\"([?.!,])\", r\" \\1 \", sentence)\n",
    "    sentence = re.sub(r\"[^a-z?.!,']+\", \" \", sentence)\n",
    "    sentence = re.sub(r'[\" \"]+', \" \", sentence)\n",
    "    \n",
    "    return sentence.strip()"
   ]
  },
  {
   "cell_type": "markdown",
   "metadata": {},
   "source": [
    "#### The custom translation model\n",
    "The following is a schematic of the custom translation model architecture you will develop in this project.\n",
    "\n",
    "![Model Schematic](data/neural_translation_model.png)\n",
    "\n",
    "Key:\n",
    "![Model key](data/neural_translation_model_key.png)\n",
    "\n",
    "The custom model consists of an encoder RNN and a decoder RNN. The encoder takes words of an English sentence as input, and uses a pre-trained word embedding to embed the words into a 128-dimensional space. To indicate the end of the input sentence, a special end token (in the same 128-dimensional space) is passed in as an input. This token is a TensorFlow Variable that is learned in the training phase (unlike the pre-trained word embedding, which is frozen).\n",
    "\n",
    "The decoder RNN takes the internal state of the encoder network as its initial state. A start token is passed in as the first input, which is embedded using a learned German word embedding. The decoder RNN then makes a prediction for the next German word, which during inference is then passed in as the following input, and this process is repeated until the special `<end>` token is emitted from the decoder."
   ]
  },
  {
   "cell_type": "markdown",
   "metadata": {},
   "source": [
    "## 1. Text preprocessing\n",
    "* Create separate lists of English and German sentences, and preprocess them using the `preprocess_sentence` function provided for you above.\n",
    "* Add a special `\"<start>\"` and `\"<end>\"` token to the beginning and end of every German sentence.\n",
    "* Use the Tokenizer class from the `tf.keras.preprocessing.text` module to tokenize the German sentences, ensuring that no character filters are applied. _Hint: use the Tokenizer's \"filter\" keyword argument._\n",
    "* Print out at least 5 randomly chosen examples of (preprocessed) English and German sentence pairs. For the German sentence, print out the text (with start and end tokens) as well as the tokenized sequence.\n",
    "* Pad the end of the tokenized German sequences with zeros, and batch the complete set of sequences into one numpy array."
   ]
  },
  {
   "cell_type": "code",
   "execution_count": 4,
   "metadata": {
    "scrolled": true
   },
   "outputs": [],
   "source": [
    "eng_sentences = list()\n",
    "ger_sentences = list()\n",
    "\n",
    "for i in range(len(data_examples)):\n",
    "    eng_sentences.append(preprocess_sentence(data_examples[i].split('\\t')[0]))\n",
    "    ger_sentences.append('<start> ' + preprocess_sentence(data_examples[i].split('\\t')[1]) + ' <end>')"
   ]
  },
  {
   "cell_type": "code",
   "execution_count": 5,
   "metadata": {},
   "outputs": [
    {
     "name": "stdout",
     "output_type": "stream",
     "text": [
      "[\"i've come for tom .\", \"i've done nothing .\", \"i've eaten enough .\"]\n",
      "['<start> ich bin fuer tom gekommen . <end>', '<start> ich habe nichts getan . <end>', '<start> ich habe genug gegessen . <end>']\n"
     ]
    }
   ],
   "source": [
    "print(eng_sentences[-3:])\n",
    "print(ger_sentences[-3:])"
   ]
  },
  {
   "cell_type": "code",
   "execution_count": 6,
   "metadata": {},
   "outputs": [],
   "source": [
    "tokenizer = Tokenizer(filters='')\n",
    "tokenizer.fit_on_texts(ger_sentences)\n",
    "german_tokenized = tokenizer.texts_to_sequences(ger_sentences)"
   ]
  },
  {
   "cell_type": "code",
   "execution_count": 7,
   "metadata": {},
   "outputs": [],
   "source": [
    "german_tokenized_pad_seq = pad_sequences(german_tokenized, padding='post')"
   ]
  },
  {
   "cell_type": "code",
   "execution_count": 8,
   "metadata": {},
   "outputs": [
    {
     "name": "stdout",
     "output_type": "stream",
     "text": [
      "Random samples: [11023 13411 10954 18718  7474]\n",
      "is tom babbling ? <start> plappert tom ? <end> [   1 4344    5    7    2    0    0    0    0    0    0    0    0    0]\n",
      "is less than . <start> ist weniger als . <end> [   1    6 4692  396    3    2    0    0    0    0    0    0    0    0]\n",
      "i'm not kidding . <start> ich scherze nicht . <end> [   1    4 1355   12    3    2    0    0    0    0    0    0    0    0]\n",
      "he has a headache . <start> er hat kopfschmerzen . <end> [   1   14   16 1178    3    2    0    0    0    0    0    0    0    0]\n",
      "i wrote to tom . <start> ich habe tom geschrieben . <end> [  1   4  18   5 718   3   2   0   0   0   0   0   0   0]\n"
     ]
    }
   ],
   "source": [
    "samples = np.random.choice(len(eng_sentences), 5)\n",
    "print('Random samples: {}'.format(samples))\n",
    "\n",
    "for sample in samples:\n",
    "    print(eng_sentences[sample], ger_sentences[sample], german_tokenized_pad_seq[sample])"
   ]
  },
  {
   "cell_type": "code",
   "execution_count": 9,
   "metadata": {},
   "outputs": [
    {
     "data": {
      "text/plain": [
       "(20000, 14)"
      ]
     },
     "execution_count": 9,
     "metadata": {},
     "output_type": "execute_result"
    }
   ],
   "source": [
    "german_tokenized_pad_seq.shape"
   ]
  },
  {
   "cell_type": "markdown",
   "metadata": {},
   "source": [
    "## 2. Prepare the data with tf.data.Dataset objects"
   ]
  },
  {
   "cell_type": "markdown",
   "metadata": {},
   "source": [
    "#### Load the embedding layer\n",
    "As part of the dataset preproceessing for this project, you will use a pre-trained English word embedding module from TensorFlow Hub. The URL for the module is https://tfhub.dev/google/tf2-preview/nnlm-en-dim128-with-normalization/1. This module has also been made available as a complete saved model in the folder `'./models/tf2-preview_nnlm-en-dim128_1'`. \n",
    "\n",
    "This embedding takes a batch of text tokens in a 1-D tensor of strings as input. It then embeds the separate tokens into a 128-dimensional space. \n",
    "\n",
    "The code to load and test the embedding layer is provided for you below.\n",
    "\n",
    "**NB:** this model can also be used as a sentence embedding module. The module will process each token by removing punctuation and splitting on spaces. It then averages the word embeddings over a sentence to give a single embedding vector. However, we will use it only as a word embedding module, and will pass each word in the input sentence as a separate token."
   ]
  },
  {
   "cell_type": "code",
   "execution_count": 10,
   "metadata": {},
   "outputs": [],
   "source": [
    "# Load embedding module from Tensorflow Hub\n",
    "\n",
    "embedding_layer = hub.KerasLayer(\"https://tfhub.dev/google/tf2-preview/nnlm-en-dim128/1\", \n",
    "                                 output_shape=[128], input_shape=[], dtype=tf.string)"
   ]
  },
  {
   "cell_type": "code",
   "execution_count": 11,
   "metadata": {},
   "outputs": [
    {
     "data": {
      "text/plain": [
       "TensorShape([7, 128])"
      ]
     },
     "execution_count": 11,
     "metadata": {},
     "output_type": "execute_result"
    }
   ],
   "source": [
    "# Test the layer\n",
    "\n",
    "embedding_layer(tf.constant([\"these\", \"aren't\", \"the\", \"droids\", \"you're\", \"looking\", \"for\"])).shape"
   ]
  },
  {
   "cell_type": "markdown",
   "metadata": {},
   "source": [
    "You should now prepare the training and validation Datasets.\n",
    "\n",
    "* Create a random training and validation set split of the data, reserving e.g. 20% of the data for validation (NB: each English dataset example is a single sentence string, and each German dataset example is a sequence of padded integer tokens).\n",
    "* Load the training and validation sets into a tf.data.Dataset object, passing in a tuple of English and German data for both training and validation sets.\n",
    "* Create a function to map over the datasets that splits each English sentence at spaces. Apply this function to both Dataset objects using the map method. _Hint: look at the tf.strings.split function._\n",
    "* Create a function to map over the datasets that embeds each sequence of English words using the loaded embedding layer/model. Apply this function to both Dataset objects using the map method.\n",
    "* Create a function to filter out dataset examples where the English sentence is more than 13 (embedded) tokens in length. Apply this function to both Dataset objects using the filter method.\n",
    "* Create a function to map over the datasets that pads each English sequence of embeddings with some distinct padding value before the sequence, so that each sequence is length 13. Apply this function to both Dataset objects using the map method. _Hint: look at the tf.pad function. You can extract a Tensor shape using tf.shape; you might also find the tf.math.maximum function useful._\n",
    "* Batch both training and validation Datasets with a batch size of 16.\n",
    "* Print the `element_spec` property for the training and validation Datasets. \n",
    "* Using the Dataset `.take(1)` method, print the shape of the English data example from the training Dataset.\n",
    "* Using the Dataset `.take(1)` method, print the German data example Tensor from the validation Dataset."
   ]
  },
  {
   "cell_type": "code",
   "execution_count": 12,
   "metadata": {},
   "outputs": [],
   "source": [
    "x_train, x_val, y_train, y_val = train_test_split(eng_sentences, german_tokenized_pad_seq, test_size=0.2)"
   ]
  },
  {
   "cell_type": "code",
   "execution_count": 13,
   "metadata": {},
   "outputs": [],
   "source": [
    "train_dataset = tf.data.Dataset.from_tensor_slices((x_train, y_train))\n",
    "val_dataset = tf.data.Dataset.from_tensor_slices((x_val, y_val))"
   ]
  },
  {
   "cell_type": "code",
   "execution_count": 14,
   "metadata": {},
   "outputs": [],
   "source": [
    "def map_split_dataset(x, y):\n",
    "    return tf.strings.split(x, ' '), y"
   ]
  },
  {
   "cell_type": "code",
   "execution_count": 15,
   "metadata": {},
   "outputs": [],
   "source": [
    "train_dataset = train_dataset.map(map_split_dataset)\n",
    "val_dataset = val_dataset.map(map_split_dataset)"
   ]
  },
  {
   "cell_type": "code",
   "execution_count": 16,
   "metadata": {},
   "outputs": [],
   "source": [
    "def map_embbed_dataset(x, y):\n",
    "    return embedding_layer(x), y"
   ]
  },
  {
   "cell_type": "code",
   "execution_count": 17,
   "metadata": {},
   "outputs": [],
   "source": [
    "train_dataset = train_dataset.map(map_embbed_dataset)\n",
    "val_dataset = val_dataset.map(map_embbed_dataset)"
   ]
  },
  {
   "cell_type": "code",
   "execution_count": 18,
   "metadata": {},
   "outputs": [],
   "source": [
    "train_dataset = train_dataset.filter(lambda x, y: False if ((tf.shape(x)[0]) > 13) else True)\n",
    "val_dataset = val_dataset.filter(lambda x, y: False if ((tf.shape(x)[0]) > 13) else True)"
   ]
  },
  {
   "cell_type": "code",
   "execution_count": 19,
   "metadata": {},
   "outputs": [],
   "source": [
    "def map_pad_dataset(x, y):\n",
    "    return tf.pad(x, paddings=[[13 - len(x), 0], [0,0]]), y"
   ]
  },
  {
   "cell_type": "code",
   "execution_count": 20,
   "metadata": {},
   "outputs": [],
   "source": [
    "train_dataset = train_dataset.map(map_pad_dataset)\n",
    "val_dataset = val_dataset.map(map_pad_dataset)"
   ]
  },
  {
   "cell_type": "code",
   "execution_count": 21,
   "metadata": {},
   "outputs": [],
   "source": [
    "train_dataset = train_dataset.batch(16, drop_remainder=True)\n",
    "val_dataset = val_dataset.batch(16, drop_remainder=True)"
   ]
  },
  {
   "cell_type": "code",
   "execution_count": 22,
   "metadata": {},
   "outputs": [
    {
     "name": "stdout",
     "output_type": "stream",
     "text": [
      "(TensorSpec(shape=(16, None, 128), dtype=tf.float32, name=None), TensorSpec(shape=(16, 14), dtype=tf.int32, name=None))\n",
      "(TensorSpec(shape=(16, None, 128), dtype=tf.float32, name=None), TensorSpec(shape=(16, 14), dtype=tf.int32, name=None))\n"
     ]
    }
   ],
   "source": [
    "print(train_dataset.element_spec)\n",
    "print(val_dataset.element_spec)"
   ]
  },
  {
   "cell_type": "code",
   "execution_count": 23,
   "metadata": {},
   "outputs": [],
   "source": [
    "tmp_train_data = next(iter(train_dataset.take(1)))\n",
    "tmp_val_data = next(iter(val_dataset.take(1)))"
   ]
  },
  {
   "cell_type": "code",
   "execution_count": 24,
   "metadata": {},
   "outputs": [
    {
     "name": "stdout",
     "output_type": "stream",
     "text": [
      "(16, 13, 128)\n",
      "(16, 14)\n"
     ]
    }
   ],
   "source": [
    "print(tmp_train_data[0].shape)\n",
    "print(tmp_val_data[1].shape)"
   ]
  },
  {
   "cell_type": "markdown",
   "metadata": {},
   "source": [
    "## 3. Create the custom layer\n",
    "You will now create a custom layer to add the learned end token embedding to the encoder model:\n",
    "\n",
    "![Encoder schematic](data/neural_translation_model_encoder.png)"
   ]
  },
  {
   "cell_type": "markdown",
   "metadata": {},
   "source": [
    "You should now build the custom layer.\n",
    "* Using layer subclassing, create a custom layer that takes a batch of English data examples from one of the Datasets, and adds a learned embedded ‘end’ token to the end of each sequence. \n",
    "* This layer should create a TensorFlow Variable (that will be learned during training) that is 128-dimensional (the size of the embedding space). _Hint: you may find it helpful in the call method to use the tf.tile function to replicate the end token embedding across every element in the batch._\n",
    "* Using the Dataset `.take(1)` method, extract a batch of English data examples from the training Dataset and print the shape. Test the custom layer by calling the layer on the English data batch Tensor and print the resulting Tensor shape (the layer should increase the sequence length by one)."
   ]
  },
  {
   "cell_type": "code",
   "execution_count": 25,
   "metadata": {},
   "outputs": [],
   "source": [
    "class MyLayer(Layer):\n",
    "    def __init__(self):\n",
    "        super(MyLayer, self).__init__()\n",
    "        self.emb_space = tf.Variable(initial_value=tf.random.uniform(shape=(128,)), trainable=True)\n",
    "    \n",
    "    def call(self, inputs):\n",
    "        output = tf.tile(tf.reshape(self.emb_space, shape=(1, 1, tf.shape(self.emb_space)[0])), [tf.shape(inputs)[0], 1, 1])\n",
    "        return tf.keras.layers.concatenate([inputs, output], axis=1)\n",
    "\n",
    "mylayer = MyLayer()"
   ]
  },
  {
   "cell_type": "code",
   "execution_count": 26,
   "metadata": {},
   "outputs": [
    {
     "name": "stdout",
     "output_type": "stream",
     "text": [
      "Batch shape before the end token embedding:  (16, 13, 128)\n",
      "Batch shape after the end token embedding: (16, 14, 128)\n"
     ]
    }
   ],
   "source": [
    "print('Batch shape before the end token embedding: ',tmp_train_data[0].shape)\n",
    "print('Batch shape after the end token embedding:',mylayer(tmp_train_data[0]).shape)"
   ]
  },
  {
   "cell_type": "markdown",
   "metadata": {},
   "source": [
    "## 4. Build the encoder network\n",
    "The encoder network follows the schematic diagram above. You should now build the RNN encoder model.\n",
    "* Using the functional API, build the encoder network according to the following spec:\n",
    "    * The model will take a batch of sequences of embedded English words as input, as given by the Dataset objects.\n",
    "    * The next layer in the encoder will be the custom layer you created previously, to add a learned end token embedding to the end of the English sequence.\n",
    "    * This is followed by a Masking layer, with the `mask_value` set to the distinct padding value you used when you padded the English sequences with the Dataset preprocessing above.\n",
    "    * The final layer is an LSTM layer with 512 units, which also returns the hidden and cell states.\n",
    "    * The encoder is a multi-output model. There should be two output Tensors of this model: the hidden state and cell states of the LSTM layer. The output of the LSTM layer is unused.\n",
    "* Using the Dataset `.take(1)` method, extract a batch of English data examples from the training Dataset and test the encoder model by calling it on the English data Tensor, and print the shape of the resulting Tensor outputs.\n",
    "* Print the model summary for the encoder network."
   ]
  },
  {
   "cell_type": "code",
   "execution_count": 27,
   "metadata": {},
   "outputs": [],
   "source": [
    "inputs = Input(batch_shape=(None, 13, 128))\n",
    "x = mylayer(inputs)"
   ]
  },
  {
   "cell_type": "code",
   "execution_count": 28,
   "metadata": {},
   "outputs": [],
   "source": [
    "x = Masking(mask_value = 0)(x)\n",
    "x, hidden_s, cell_s = LSTM(512, return_state=True)(x)\n",
    "EncoderModel = Model(inputs=inputs, outputs=[hidden_s, cell_s])"
   ]
  },
  {
   "cell_type": "code",
   "execution_count": 29,
   "metadata": {},
   "outputs": [
    {
     "name": "stdout",
     "output_type": "stream",
     "text": [
      "Model: \"model\"\n",
      "_________________________________________________________________\n",
      " Layer (type)                Output Shape              Param #   \n",
      "=================================================================\n",
      " input_1 (InputLayer)        [(None, 13, 128)]         0         \n",
      "                                                                 \n",
      " my_layer (MyLayer)          (None, 14, 128)           128       \n",
      "                                                                 \n",
      " masking (Masking)           (None, 14, 128)           0         \n",
      "                                                                 \n",
      " lstm (LSTM)                 [(None, 512),             1312768   \n",
      "                              (None, 512),                       \n",
      "                              (None, 512)]                       \n",
      "                                                                 \n",
      "=================================================================\n",
      "Total params: 1,312,896\n",
      "Trainable params: 1,312,896\n",
      "Non-trainable params: 0\n",
      "_________________________________________________________________\n"
     ]
    }
   ],
   "source": [
    "EncoderModel.summary()"
   ]
  },
  {
   "cell_type": "markdown",
   "metadata": {},
   "source": [
    "## 5. Build the decoder network\n",
    "The decoder network follows the schematic diagram below. \n",
    "\n",
    "![Decoder schematic](data/neural_translation_model_decoder.png)"
   ]
  },
  {
   "cell_type": "markdown",
   "metadata": {},
   "source": [
    "You should now build the RNN decoder model.\n",
    "* Using Model subclassing, build the decoder network according to the following spec:\n",
    "    * The initializer should create the following layers:\n",
    "        * An Embedding layer with vocabulary size set to the number of unique German tokens, embedding dimension 128, and set to mask zero values in the input.\n",
    "        * An LSTM layer with 512 units, that returns its hidden and cell states, and also returns sequences.\n",
    "        * A Dense layer with number of units equal to the number of unique German tokens, and no activation function.\n",
    "    * The call method should include the usual `inputs` argument, as well as the additional keyword arguments `hidden_state` and `cell_state`. The default value for these keyword arguments should be `None`.\n",
    "    * The call method should pass the inputs through the Embedding layer, and then through the LSTM layer. If the `hidden_state` and `cell_state` arguments are provided, these should be used for the initial state of the LSTM layer. _Hint: use the_ `initial_state` _keyword argument when calling the LSTM layer on its input._\n",
    "    * The call method should pass the LSTM output sequence through the Dense layer, and return the resulting Tensor, along with the hidden and cell states of the LSTM layer.\n",
    "* Using the Dataset `.take(1)` method, extract a batch of English and German data examples from the training Dataset. Test the decoder model by first calling the encoder model on the English data Tensor to get the hidden and cell states, and then call the decoder model on the German data Tensor and hidden and cell states, and print the shape of the resulting decoder Tensor outputs.\n",
    "* Print the model summary for the decoder network."
   ]
  },
  {
   "cell_type": "code",
   "execution_count": 30,
   "metadata": {},
   "outputs": [],
   "source": [
    "class DecoderModel(Model):\n",
    "    def __init__(self):\n",
    "        super(DecoderModel, self).__init__()\n",
    "        self.layer_1 = Embedding(input_dim=len(tokenizer.word_index) + 1, output_dim=128, mask_zero=True)\n",
    "        self.layer_2 = LSTM(512, return_sequences=True, return_state=True)\n",
    "        self.layer_3 = Dense(len(tokenizer.word_index) + 1)\n",
    "        \n",
    "    def call(self, inputs, hidden_state=None, cell_state=None):\n",
    "        x = self.layer_1(inputs)\n",
    "        if hidden_state is not None and cell_state is not None:\n",
    "            x, hidden_s, cell_s = self.layer_2(x, initial_state=[hidden_state, cell_state])\n",
    "        else:\n",
    "            x, hidden_s, cell_s = self.layer_2(x)\n",
    "        x = self.layer_3(x)\n",
    "        return x, hidden_s, cell_s\n",
    "    \n",
    "decoder = DecoderModel()"
   ]
  },
  {
   "cell_type": "code",
   "execution_count": 31,
   "metadata": {},
   "outputs": [
    {
     "name": "stdout",
     "output_type": "stream",
     "text": [
      "Output shape: (16, 14, 5744)\n",
      "Hidden state shape: (16, 512)\n",
      "Cell state shape: (16, 512)\n"
     ]
    }
   ],
   "source": [
    "enc_hidden_s, enc_cell_s = EncoderModel(tmp_train_data[0])\n",
    "dec_output, dec_hidden_s, dec_cell_s = decoder(tmp_train_data[1], enc_hidden_s, enc_cell_s)\n",
    "print('Output shape:',dec_output.shape)\n",
    "print('Hidden state shape:',dec_hidden_s.shape)\n",
    "print('Cell state shape:',dec_cell_s.shape)"
   ]
  },
  {
   "cell_type": "code",
   "execution_count": 32,
   "metadata": {},
   "outputs": [
    {
     "name": "stdout",
     "output_type": "stream",
     "text": [
      "Model: \"decoder_model\"\n",
      "_________________________________________________________________\n",
      " Layer (type)                Output Shape              Param #   \n",
      "=================================================================\n",
      " embedding (Embedding)       multiple                  735232    \n",
      "                                                                 \n",
      " lstm_1 (LSTM)               multiple                  1312768   \n",
      "                                                                 \n",
      " dense (Dense)               multiple                  2946672   \n",
      "                                                                 \n",
      "=================================================================\n",
      "Total params: 4,994,672\n",
      "Trainable params: 4,994,672\n",
      "Non-trainable params: 0\n",
      "_________________________________________________________________\n"
     ]
    }
   ],
   "source": [
    "decoder.summary()"
   ]
  },
  {
   "cell_type": "markdown",
   "metadata": {},
   "source": [
    "## 6. Make a custom training loop\n",
    "You should now write a custom training loop to train your custom neural translation model.\n",
    "* Define a function that takes a Tensor batch of German data (as extracted from the training Dataset), and returns a tuple containing German inputs and outputs for the decoder model (refer to schematic diagram above).\n",
    "* Define a function that computes the forward and backward pass for your translation model. This function should take an English input, German input and German output as arguments, and should do the following:\n",
    "    * Pass the English input into the encoder, to get the hidden and cell states of the encoder LSTM.\n",
    "    * These hidden and cell states are then passed into the decoder, along with the German inputs, which returns a sequence of outputs (the hidden and cell state outputs of the decoder LSTM are unused in this function).\n",
    "    * The loss should then be computed between the decoder outputs and the German output function argument.\n",
    "    * The function returns the loss and gradients with respect to the encoder and decoder’s trainable variables.\n",
    "    * Decorate the function with @tf.function\n",
    "* Define and run a custom training loop for a number of epochs (for you to choose) that does the following:\n",
    "    * Iterates through the training dataset, and creates decoder inputs and outputs from the German sequences.\n",
    "    * Updates the parameters of the translation model using the gradients of the function above and an optimizer object.\n",
    "    * Every epoch, compute the validation loss on a number of batches from the validation and save the epoch training and validation losses.\n",
    "* Plot the learning curves for loss vs epoch for both training and validation sets.\n",
    "\n",
    "_Hint: This model is computationally demanding to train. The quality of the model or length of training is not a factor in the grading rubric. However, to obtain a better model we recommend using the GPU accelerator hardware on Colab._"
   ]
  },
  {
   "cell_type": "code",
   "execution_count": 33,
   "metadata": {},
   "outputs": [],
   "source": [
    "optimizer_obj = tf.keras.optimizers.Adam()\n",
    "loss_obj = tf.keras.losses.SparseCategoricalCrossentropy(from_logits=True)\n",
    "variables = EncoderModel.trainable_variables + decoder.trainable_variables"
   ]
  },
  {
   "cell_type": "code",
   "execution_count": 34,
   "metadata": {},
   "outputs": [],
   "source": [
    "@tf.function\n",
    "def grad_fn(en_input, ger_input, ger_output, loss):\n",
    "    with tf.GradientTape() as tape:\n",
    "        enc_hidden_s, enc_cell_s = EncoderModel(en_input)\n",
    "        dec_output, dec_hidden_s, dec_cell_s = decoder(ger_input, enc_hidden_s, enc_cell_s)\n",
    "        \n",
    "        loss_value = loss(ger_output, dec_output)\n",
    "    return loss_value, tape.gradient(loss_value, variables)"
   ]
  },
  {
   "cell_type": "code",
   "execution_count": 35,
   "metadata": {},
   "outputs": [],
   "source": [
    "def train_model(num_epochs, train_dataset, val_dataset, grad_fn, optimizer, loss):\n",
    "    train_loss_results = []\n",
    "    val_loss_results = []\n",
    "    \n",
    "    for epoch in range(num_epochs):\n",
    "        epoch_loss_avg = tf.keras.metrics.Mean()\n",
    "        val_epoch_loss_avg = tf.keras.metrics.Mean()\n",
    "        \n",
    "        for en, ger in train_dataset:\n",
    "            dec_inputs, dec_outputs = ger[:, :-1], ger[:, 1:]\n",
    "            loss_value, grads= grad_fn(en, dec_inputs, dec_outputs, loss)\n",
    "            optimizer.apply_gradients(zip(grads, variables))\n",
    "            epoch_loss_avg(loss_value)\n",
    "            \n",
    "        for en, ger in val_dataset:\n",
    "            dec_inputs, dec_outputs = ger[:, :-1], ger[:, 1:]\n",
    "            \n",
    "            hidden_s, cell_s = EncoderModel(en)\n",
    "            model_preds, _, _ = decoder(dec_inputs, hidden_s, cell_s)\n",
    "            val_epoch_loss_avg(loss(dec_outputs, model_preds))\n",
    "            \n",
    "        train_loss_results.append(epoch_loss_avg.result())\n",
    "        val_loss_results.append(val_epoch_loss_avg.result())\n",
    "        # print(\" Epoch :{:03d}: Loss: {:.3f} : Val_Loss: {:.3f}\".format(epoch, epoch_loss_avg, val_epoch_loss_avg))\n",
    "    \n",
    "    return train_loss_results,val_loss_results"
   ]
  },
  {
   "cell_type": "code",
   "execution_count": 36,
   "metadata": {},
   "outputs": [],
   "source": [
    "train_loss_results, val_loss_results = train_model(5, train_dataset, val_dataset, grad_fn, optimizer_obj, loss_obj)"
   ]
  },
  {
   "cell_type": "code",
   "execution_count": 37,
   "metadata": {},
   "outputs": [
    {
     "data": {
      "image/png": "[encoded data removed]",
      "text/plain": [
       "<Figure size 1080x360 with 1 Axes>"
      ]
     },
     "metadata": {
      "needs_background": "light"
     },
     "output_type": "display_data"
    }
   ],
   "source": [
    "plt.figure(figsize=(15, 5))\n",
    "plt.plot(train_loss_results)\n",
    "plt.plot(val_loss_results)\n",
    "plt.title('Loss vs. epochs')\n",
    "plt.ylabel('Loss')\n",
    "plt.xlabel('Epoch')\n",
    "plt.legend(['Training', 'Validation'])\n",
    "plt.show()"
   ]
  },
  {
   "cell_type": "markdown",
   "metadata": {},
   "source": [
    "## 7. Use the model to translate\n",
    "Now it's time to put your model into practice! You should run your translation for five randomly sampled English sentences from the dataset. For each sentence, the process is as follows:\n",
    "* Preprocess and embed the English sentence according to the model requirements.\n",
    "* Pass the embedded sentence through the encoder to get the encoder hidden and cell states.\n",
    "* Starting with the special  `\"<start>\"` token, use this token and the final encoder hidden and cell states to get the one-step prediction from the decoder, as well as the decoder’s updated hidden and cell states.\n",
    "* Create a loop to get the next step prediction and updated hidden and cell states from the decoder, using the most recent hidden and cell states. Terminate the loop when the `\"<end>\"` token is emitted, or when the sentence has reached a maximum length.\n",
    "* Decode the output token sequence into German text and print the English text and the model's German translation."
   ]
  },
  {
   "cell_type": "code",
   "execution_count": 38,
   "metadata": {},
   "outputs": [],
   "source": [
    "samples = np.random.choice(len(eng_sentences), 5, replace=False)"
   ]
  },
  {
   "cell_type": "code",
   "execution_count": 39,
   "metadata": {},
   "outputs": [
    {
     "name": "stdout",
     "output_type": "stream",
     "text": [
      "Sample: 1\n",
      "English Sentence: i sat in the car .\n",
      "German Sentence: <start> ich sass im auto . <end>\n",
      "German Translation: ich setzte mich neben ihn .\n",
      "-----\n",
      "Sample: 2\n",
      "English Sentence: tom was generous .\n",
      "German Sentence: <start> tom war grosszuegig . <end>\n",
      "German Translation: tom war hingebungsvoll .\n",
      "-----\n",
      "Sample: 3\n",
      "English Sentence: tom looks weaker .\n",
      "German Sentence: <start> tom sieht schwaecher aus . <end>\n",
      "German Translation: tom sieht blass aus .\n",
      "-----\n",
      "Sample: 4\n",
      "English Sentence: i want some food .\n",
      "German Sentence: <start> ich moechte etwas zu essen . <end>\n",
      "German Translation: ich will geld .\n",
      "-----\n",
      "Sample: 5\n",
      "English Sentence: why did tom lie ?\n",
      "German Sentence: <start> warum hat tom gelogen ? <end>\n",
      "German Translation: warum hat tom gekuesst ?\n",
      "-----\n"
     ]
    }
   ],
   "source": [
    "for i, sample in enumerate(samples):\n",
    "    en = tf.strings.split(eng_sentences[sample])\n",
    "    en_emb = embedding_layer(en)\n",
    "    padding = [[tf.math.maximum(13-tf.shape(en_emb)[0],0), 0], [0,0]]\n",
    "    en_emb_pad = tf.expand_dims(tf.pad(en_emb, padding), axis=0)\n",
    "    result = list()\n",
    "    hidden_s, cell_s = EncoderModel(en_emb_pad)\n",
    "    dec_input = tf.Variable([[tokenizer.word_index['<start>']]])\n",
    "    \n",
    "    for t in range(train_dataset.element_spec[1].shape[1]):\n",
    "        dec_output, hidden_s, cell_s = decoder(dec_input, hidden_s, cell_s)\n",
    "        dec_output = tf.squeeze(tf.argmax(dec_output, axis=2)).numpy()\n",
    "        \n",
    "        if dec_output == tokenizer.word_index['<end>']:\n",
    "            break\n",
    "        result.append(tokenizer.index_word[dec_output])\n",
    "        dec_input = tf.Variable([[dec_output]])\n",
    "    \n",
    "    result = ' '.join(word for word in result)\n",
    "    print(\"Sample: {}\".format(i + 1))\n",
    "    print(\"English Sentence: {}\".format(eng_sentences[sample]))\n",
    "    print(\"German Sentence: {}\".format(ger_sentences[sample]))\n",
    "    print(\"German Translation: {}\".format(result))\n",
    "    print('-' * 5)"
   ]
  }
 ],
 "metadata": {
  "kernelspec": {
   "display_name": "Python 3 (ipykernel)",
   "language": "python",
   "name": "python3"
  },
  "language_info": {
   "codemirror_mode": {
    "name": "ipython",
    "version": 3
   },
   "file_extension": ".py",
   "mimetype": "text/x-python",
   "name": "python",
   "nbconvert_exporter": "python",
   "pygments_lexer": "ipython3",
   "version": "3.9.12"
  }
 },
 "nbformat": 4,
 "nbformat_minor": 2
}
