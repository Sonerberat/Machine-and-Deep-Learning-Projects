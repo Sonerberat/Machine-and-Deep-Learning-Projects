{
 "cells": [
  {
   "cell_type": "markdown",
   "metadata": {
    "id": "3DR-eO17geWu"
   },
   "source": [
    "# Convolutional Neural Network"
   ]
  },
  {
   "cell_type": "markdown",
   "metadata": {
    "id": "EMefrVPCg-60"
   },
   "source": [
    "### Importing the libraries"
   ]
  },
  {
   "cell_type": "code",
   "execution_count": 1,
   "metadata": {
    "id": "sCV30xyVhFbE"
   },
   "outputs": [],
   "source": [
    "import tensorflow as tf\n",
    "from keras.preprocessing.image import ImageDataGenerator"
   ]
  },
  {
   "cell_type": "code",
   "execution_count": 2,
   "metadata": {
    "id": "FIleuCAjoFD8"
   },
   "outputs": [
    {
     "data": {
      "text/plain": [
       "'2.6.0'"
      ]
     },
     "execution_count": 2,
     "metadata": {},
     "output_type": "execute_result"
    }
   ],
   "source": [
    "tf.__version__"
   ]
  },
  {
   "cell_type": "markdown",
   "metadata": {
    "id": "oxQxCBWyoGPE"
   },
   "source": [
    "## Part 1 - Data Preprocessing"
   ]
  },
  {
   "cell_type": "markdown",
   "metadata": {
    "id": "MvE-heJNo3GG"
   },
   "source": [
    "### Preprocessing the Training set"
   ]
  },
  {
   "cell_type": "code",
   "execution_count": 3,
   "metadata": {
    "colab": {
     "base_uri": "https://localhost:8080/",
     "height": 380
    },
    "executionInfo": {
     "elapsed": 250,
     "status": "error",
     "timestamp": 1651527532507,
     "user": {
      "displayName": "soner.berat eren",
      "userId": "07995217778799911754"
     },
     "user_tz": -60
    },
    "id": "0koUcJMJpEBD",
    "outputId": "7c2d01cc-b055-4ec2-9f88-f5e856fc7939"
   },
   "outputs": [
    {
     "name": "stdout",
     "output_type": "stream",
     "text": [
      "Found 8000 images belonging to 2 classes.\n"
     ]
    }
   ],
   "source": [
    "train_datagen = ImageDataGenerator(rescale = 1./255,\n",
    "                                   shear_range = 0.2,\n",
    "                                   zoom_range = 0.2,\n",
    "                                   horizontal_flip = True)\n",
    "training_set = train_datagen.flow_from_directory('dataset/training_set',\n",
    "                                                 target_size = (64, 64),\n",
    "                                                 batch_size = 32,\n",
    "                                                 class_mode = 'binary')"
   ]
  },
  {
   "cell_type": "markdown",
   "metadata": {
    "id": "mrCMmGw9pHys"
   },
   "source": [
    "### Preprocessing the Test set"
   ]
  },
  {
   "cell_type": "code",
   "execution_count": 4,
   "metadata": {
    "id": "SH4WzfOhpKc3"
   },
   "outputs": [
    {
     "name": "stdout",
     "output_type": "stream",
     "text": [
      "Found 2000 images belonging to 2 classes.\n"
     ]
    }
   ],
   "source": [
    "test_datagen = ImageDataGenerator(rescale = 1./255)\n",
    "test_set = test_datagen.flow_from_directory('dataset/test_set',\n",
    "                                            target_size = (64, 64),\n",
    "                                            batch_size = 32,\n",
    "                                            class_mode = 'binary')"
   ]
  },
  {
   "cell_type": "markdown",
   "metadata": {
    "id": "af8O4l90gk7B"
   },
   "source": [
    "## Part 2 - Building the CNN"
   ]
  },
  {
   "cell_type": "markdown",
   "metadata": {
    "id": "ces1gXY2lmoX"
   },
   "source": [
    "### Initialising the CNN"
   ]
  },
  {
   "cell_type": "code",
   "execution_count": 5,
   "metadata": {
    "id": "SAUt4UMPlhLS"
   },
   "outputs": [],
   "source": [
    "cnn = tf.keras.models.Sequential()"
   ]
  },
  {
   "cell_type": "markdown",
   "metadata": {
    "id": "u5YJj_XMl5LF"
   },
   "source": [
    "### Step 1 - Convolution"
   ]
  },
  {
   "cell_type": "code",
   "execution_count": 6,
   "metadata": {
    "id": "XPzPrMckl-hV"
   },
   "outputs": [],
   "source": [
    "cnn.add(tf.keras.layers.Conv2D(filters=32, kernel_size=3, activation='relu', input_shape=[64, 64, 3]))"
   ]
  },
  {
   "cell_type": "markdown",
   "metadata": {
    "id": "tf87FpvxmNOJ"
   },
   "source": [
    "### Step 2 - Pooling"
   ]
  },
  {
   "cell_type": "code",
   "execution_count": 7,
   "metadata": {
    "id": "ncpqPl69mOac"
   },
   "outputs": [],
   "source": [
    "cnn.add(tf.keras.layers.MaxPool2D(pool_size=2, strides=2))"
   ]
  },
  {
   "cell_type": "markdown",
   "metadata": {
    "id": "xaTOgD8rm4mU"
   },
   "source": [
    "### Adding a second convolutional layer"
   ]
  },
  {
   "cell_type": "code",
   "execution_count": 8,
   "metadata": {
    "id": "i_-FZjn_m8gk"
   },
   "outputs": [],
   "source": [
    "cnn.add(tf.keras.layers.Conv2D(filters=32, kernel_size=3, activation='relu'))\n",
    "cnn.add(tf.keras.layers.MaxPool2D(pool_size=2, strides=2))"
   ]
  },
  {
   "cell_type": "markdown",
   "metadata": {
    "id": "tmiEuvTunKfk"
   },
   "source": [
    "### Step 3 - Flattening"
   ]
  },
  {
   "cell_type": "code",
   "execution_count": 9,
   "metadata": {
    "id": "6AZeOGCvnNZn"
   },
   "outputs": [],
   "source": [
    "cnn.add(tf.keras.layers.Flatten())"
   ]
  },
  {
   "cell_type": "markdown",
   "metadata": {
    "id": "dAoSECOm203v"
   },
   "source": [
    "### Step 4 - Full Connection"
   ]
  },
  {
   "cell_type": "code",
   "execution_count": 10,
   "metadata": {
    "id": "8GtmUlLd26Nq"
   },
   "outputs": [],
   "source": [
    "cnn.add(tf.keras.layers.Dense(units=128, activation='relu'))"
   ]
  },
  {
   "cell_type": "markdown",
   "metadata": {
    "id": "yTldFvbX28Na"
   },
   "source": [
    "### Step 5 - Output Layer"
   ]
  },
  {
   "cell_type": "code",
   "execution_count": 11,
   "metadata": {
    "id": "1p_Zj1Mc3Ko_"
   },
   "outputs": [],
   "source": [
    "cnn.add(tf.keras.layers.Dense(units=1, activation='sigmoid'))"
   ]
  },
  {
   "cell_type": "markdown",
   "metadata": {
    "id": "D6XkI90snSDl"
   },
   "source": [
    "## Part 3 - Training the CNN"
   ]
  },
  {
   "cell_type": "markdown",
   "metadata": {
    "id": "vfrFQACEnc6i"
   },
   "source": [
    "### Compiling the CNN"
   ]
  },
  {
   "cell_type": "code",
   "execution_count": 12,
   "metadata": {
    "id": "NALksrNQpUlJ"
   },
   "outputs": [],
   "source": [
    "cnn.compile(optimizer = 'adam', loss = 'binary_crossentropy', metrics = ['accuracy'])"
   ]
  },
  {
   "cell_type": "markdown",
   "metadata": {
    "id": "ehS-v3MIpX2h"
   },
   "source": [
    "### Training the CNN on the Training set and evaluating it on the Test set"
   ]
  },
  {
   "cell_type": "code",
   "execution_count": 13,
   "metadata": {
    "id": "XUj1W4PJptta"
   },
   "outputs": [
    {
     "name": "stdout",
     "output_type": "stream",
     "text": [
      "Epoch 1/25\n",
      "250/250 [==============================] - 46s 168ms/step - loss: 0.6725 - accuracy: 0.5776 - val_loss: 0.6132 - val_accuracy: 0.6715\n",
      "Epoch 2/25\n",
      "250/250 [==============================] - 15s 58ms/step - loss: 0.6086 - accuracy: 0.6706 - val_loss: 0.5652 - val_accuracy: 0.7185\n",
      "Epoch 3/25\n",
      "250/250 [==============================] - 41s 165ms/step - loss: 0.5701 - accuracy: 0.7084 - val_loss: 0.5260 - val_accuracy: 0.7400\n",
      "Epoch 4/25\n",
      "250/250 [==============================] - 19s 77ms/step - loss: 0.5335 - accuracy: 0.7311 - val_loss: 0.5249 - val_accuracy: 0.7495\n",
      "Epoch 5/25\n",
      "250/250 [==============================] - 15s 59ms/step - loss: 0.5120 - accuracy: 0.7436 - val_loss: 0.5183 - val_accuracy: 0.7525\n",
      "Epoch 6/25\n",
      "250/250 [==============================] - 14s 57ms/step - loss: 0.4913 - accuracy: 0.7590 - val_loss: 0.4754 - val_accuracy: 0.7785\n",
      "Epoch 7/25\n",
      "250/250 [==============================] - 15s 60ms/step - loss: 0.4698 - accuracy: 0.7725 - val_loss: 0.4757 - val_accuracy: 0.7665\n",
      "Epoch 8/25\n",
      "250/250 [==============================] - 14s 58ms/step - loss: 0.4598 - accuracy: 0.7784 - val_loss: 0.4762 - val_accuracy: 0.7790\n",
      "Epoch 9/25\n",
      "250/250 [==============================] - 14s 58ms/step - loss: 0.4450 - accuracy: 0.7906 - val_loss: 0.4785 - val_accuracy: 0.7800\n",
      "Epoch 10/25\n",
      "250/250 [==============================] - 16s 64ms/step - loss: 0.4314 - accuracy: 0.8002 - val_loss: 0.4746 - val_accuracy: 0.7895\n",
      "Epoch 11/25\n",
      "250/250 [==============================] - 16s 63ms/step - loss: 0.4153 - accuracy: 0.8035 - val_loss: 0.4710 - val_accuracy: 0.7855\n",
      "Epoch 12/25\n",
      "250/250 [==============================] - 14s 57ms/step - loss: 0.4056 - accuracy: 0.8145 - val_loss: 0.4913 - val_accuracy: 0.7850\n",
      "Epoch 13/25\n",
      "250/250 [==============================] - 14s 56ms/step - loss: 0.3896 - accuracy: 0.8186 - val_loss: 0.4611 - val_accuracy: 0.7945\n",
      "Epoch 14/25\n",
      "250/250 [==============================] - 14s 56ms/step - loss: 0.3841 - accuracy: 0.8245 - val_loss: 0.5028 - val_accuracy: 0.7815\n",
      "Epoch 15/25\n",
      "250/250 [==============================] - 14s 57ms/step - loss: 0.3796 - accuracy: 0.8282 - val_loss: 0.4619 - val_accuracy: 0.7940\n",
      "Epoch 16/25\n",
      "250/250 [==============================] - 14s 57ms/step - loss: 0.3672 - accuracy: 0.8342 - val_loss: 0.5192 - val_accuracy: 0.7750\n",
      "Epoch 17/25\n",
      "250/250 [==============================] - 15s 60ms/step - loss: 0.3390 - accuracy: 0.8469 - val_loss: 0.4950 - val_accuracy: 0.7830\n",
      "Epoch 18/25\n",
      "250/250 [==============================] - 15s 60ms/step - loss: 0.3283 - accuracy: 0.8524 - val_loss: 0.5484 - val_accuracy: 0.7720\n",
      "Epoch 19/25\n",
      "250/250 [==============================] - 15s 59ms/step - loss: 0.3181 - accuracy: 0.8604 - val_loss: 0.5027 - val_accuracy: 0.7880\n",
      "Epoch 20/25\n",
      "250/250 [==============================] - 16s 62ms/step - loss: 0.3109 - accuracy: 0.8643 - val_loss: 0.4814 - val_accuracy: 0.8075\n",
      "Epoch 21/25\n",
      "250/250 [==============================] - 16s 63ms/step - loss: 0.2996 - accuracy: 0.8751 - val_loss: 0.5270 - val_accuracy: 0.7780\n",
      "Epoch 22/25\n",
      "250/250 [==============================] - 14s 57ms/step - loss: 0.2917 - accuracy: 0.8724 - val_loss: 0.5032 - val_accuracy: 0.8055\n",
      "Epoch 23/25\n",
      "250/250 [==============================] - 14s 56ms/step - loss: 0.2757 - accuracy: 0.8825 - val_loss: 0.5405 - val_accuracy: 0.7990\n",
      "Epoch 24/25\n",
      "250/250 [==============================] - 14s 57ms/step - loss: 0.2785 - accuracy: 0.8813 - val_loss: 0.5046 - val_accuracy: 0.8010\n",
      "Epoch 25/25\n",
      "250/250 [==============================] - 14s 58ms/step - loss: 0.2627 - accuracy: 0.8915 - val_loss: 0.5035 - val_accuracy: 0.8090\n"
     ]
    },
    {
     "data": {
      "text/plain": [
       "<keras.callbacks.History at 0x21abbe77760>"
      ]
     },
     "execution_count": 13,
     "metadata": {},
     "output_type": "execute_result"
    }
   ],
   "source": [
    "cnn.fit(x = training_set, validation_data = test_set, epochs = 25)"
   ]
  },
  {
   "cell_type": "markdown",
   "metadata": {
    "id": "U3PZasO0006Z"
   },
   "source": [
    "## Part 4 - Making a single prediction"
   ]
  },
  {
   "cell_type": "code",
   "execution_count": 14,
   "metadata": {
    "id": "gsSiWEJY1BPB"
   },
   "outputs": [],
   "source": [
    "import numpy as np\n",
    "from keras.preprocessing import image\n",
    "test_image = image.load_img('dataset/single_prediction/cat_or_dog_1.jpg', target_size = (64, 64))\n",
    "test_image = image.img_to_array(test_image)\n",
    "test_image = np.expand_dims(test_image, axis = 0)\n",
    "result = cnn.predict(test_image)\n",
    "training_set.class_indices\n",
    "if result[0][0] == 1:\n",
    "  prediction = 'dog'\n",
    "else:\n",
    "  prediction = 'cat'"
   ]
  },
  {
   "cell_type": "code",
   "execution_count": 15,
   "metadata": {
    "id": "ED9KB3I54c1i"
   },
   "outputs": [
    {
     "name": "stdout",
     "output_type": "stream",
     "text": [
      "dog\n"
     ]
    }
   ],
   "source": [
    "print(prediction)"
   ]
  }
 ],
 "metadata": {
  "colab": {
   "authorship_tag": "ABX9TyNE8K/FWp7k9mfWnlkFSZuO",
   "collapsed_sections": [],
   "mount_file_id": "1xjWBZf26JEZk_6r4c89R2X9kDR7qRyVa",
   "name": "Convolutional Neural Network.ipynb",
   "provenance": []
  },
  "kernelspec": {
   "display_name": "Python 3 (ipykernel)",
   "language": "python",
   "name": "python3"
  },
  "language_info": {
   "codemirror_mode": {
    "name": "ipython",
    "version": 3
   },
   "file_extension": ".py",
   "mimetype": "text/x-python",
   "name": "python",
   "nbconvert_exporter": "python",
   "pygments_lexer": "ipython3",
   "version": "3.9.12"
  }
 },
 "nbformat": 4,
 "nbformat_minor": 1
}
